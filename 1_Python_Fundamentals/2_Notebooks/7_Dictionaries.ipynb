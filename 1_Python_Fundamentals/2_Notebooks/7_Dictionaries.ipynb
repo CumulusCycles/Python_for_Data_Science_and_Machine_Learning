{
 "cells": [
  {
   "cell_type": "markdown",
   "id": "3e9e8240-aad9-4c59-92e6-1f3a6743a0a0",
   "metadata": {},
   "source": [
    "# Built-in Data Types"
   ]
  },
  {
   "cell_type": "markdown",
   "id": "3e9a6714-ca74-4b7e-8aa2-f25a7364adb1",
   "metadata": {},
   "source": [
    "## Dictionaries"
   ]
  },
  {
   "cell_type": "markdown",
   "id": "98c13ac5-b715-4cc8-9a41-5b48e0553950",
   "metadata": {},
   "source": [
    "Unordered, mutable collections of key-value pairs, where keys are unique and used to retrieve associated values."
   ]
  },
  {
   "cell_type": "code",
   "execution_count": 17,
   "id": "41fcc379-3d51-4d4b-aee6-48446bd3a796",
   "metadata": {},
   "outputs": [
    {
     "name": "stdout",
     "output_type": "stream",
     "text": [
      "{'f_name': 'Foo', 'l_name': 'Bar', 'age': 21, 'is_student': True, 'major': 'Data Science', 'bookstore_balance': 12.75}\n",
      "student is of type <class 'dict'>.\n",
      "{'f_name': 'Foo', 'l_name': 'Bar', 'age': 21, 'is_student': True, 'major': 'Data Science', 'bookstore_balance': 12.75, 'meal_credits': 123.25}\n"
     ]
    }
   ],
   "source": [
    "student = {\n",
    "    \"f_name\": \"Foo\", \n",
    "    \"l_name\": \"Bar\", \n",
    "    \"age\": 21, \n",
    "    \"is_student\": True, \n",
    "    \"major\": \"Data Science\", \n",
    "    \"bookstore_balance\": 12.75\n",
    "}\n",
    "\n",
    "print(student)\n",
    "print(f\"student is of type {type(student)}.\")\n",
    "\n",
    "student[\"meal_credits\"] = 123.25\n",
    "print(student)\n"
   ]
  },
  {
   "cell_type": "code",
   "execution_count": 18,
   "id": "fab001e1-a031-4a59-a302-90ac562c2457",
   "metadata": {},
   "outputs": [
    {
     "name": "stdout",
     "output_type": "stream",
     "text": [
      "Foo Bar is majoring in Data Science.\n"
     ]
    }
   ],
   "source": [
    "print(f\"{student['f_name']} {student['l_name']} is majoring in {student['major']}.\")\n"
   ]
  },
  {
   "cell_type": "code",
   "execution_count": null,
   "id": "1e290f93-0c0c-4532-a37e-61aace853fde",
   "metadata": {},
   "outputs": [],
   "source": [
    "print(student.keys())\n",
    "for key in student.keys():\n",
    "    print(f\"{key}: {student[key]}\")\n"
   ]
  }
 ],
 "metadata": {
  "kernelspec": {
   "display_name": "Python [conda env:base] *",
   "language": "python",
   "name": "conda-base-py"
  },
  "language_info": {
   "codemirror_mode": {
    "name": "ipython",
    "version": 3
   },
   "file_extension": ".py",
   "mimetype": "text/x-python",
   "name": "python",
   "nbconvert_exporter": "python",
   "pygments_lexer": "ipython3",
   "version": "3.12.7"
  }
 },
 "nbformat": 4,
 "nbformat_minor": 5
}
