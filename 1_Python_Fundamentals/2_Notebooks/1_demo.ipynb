{
 "cells": [
  {
   "cell_type": "markdown",
   "id": "a36755fc-78a6-4879-ae16-192d0ce8fee9",
   "metadata": {},
   "source": [
    "# Demo"
   ]
  },
  {
   "cell_type": "markdown",
   "id": "e90d27d3-b069-438a-aa90-68bd1b43860a",
   "metadata": {},
   "source": [
    "## This App prompts the user for their name then greets them."
   ]
  },
  {
   "cell_type": "code",
   "execution_count": null,
   "id": "9d9a6a7f-41a5-46de-aeb1-f80f84ac4016",
   "metadata": {},
   "outputs": [],
   "source": [
    "# Declare a variable named user_name to store the user's name\n",
    "# Obtain the user's name through input\n",
    "user_name = input(\"Please enter your name: \")\n"
   ]
  },
  {
   "cell_type": "code",
   "execution_count": null,
   "id": "4ffff73b-f565-41ef-a955-0a2add466286",
   "metadata": {},
   "outputs": [],
   "source": [
    "# Greet the user\n",
    "if user_name.strip() == \"\":\n",
    "    print(\"Sorry, you didn't enter your name.\")\n",
    "else:\n",
    "    print(f\"Hello, {user_name}!\")\n"
   ]
  }
 ],
 "metadata": {
  "kernelspec": {
   "display_name": "Python [conda env:base] *",
   "language": "python",
   "name": "conda-base-py"
  },
  "language_info": {
   "codemirror_mode": {
    "name": "ipython",
    "version": 3
   },
   "file_extension": ".py",
   "mimetype": "text/x-python",
   "name": "python",
   "nbconvert_exporter": "python",
   "pygments_lexer": "ipython3",
   "version": "3.12.7"
  }
 },
 "nbformat": 4,
 "nbformat_minor": 5
}
