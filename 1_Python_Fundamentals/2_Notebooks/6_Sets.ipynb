{
 "cells": [
  {
   "cell_type": "markdown",
   "id": "3e9e8240-aad9-4c59-92e6-1f3a6743a0a0",
   "metadata": {},
   "source": [
    "# Built-in Data Types"
   ]
  },
  {
   "cell_type": "markdown",
   "id": "3e9a6714-ca74-4b7e-8aa2-f25a7364adb1",
   "metadata": {},
   "source": [
    "## Sets"
   ]
  },
  {
   "cell_type": "markdown",
   "id": "98c13ac5-b715-4cc8-9a41-5b48e0553950",
   "metadata": {},
   "source": [
    "Unordered, mutable collections of unique elements, useful for membership testing and mathematical set operations."
   ]
  },
  {
   "cell_type": "code",
   "execution_count": null,
   "id": "41fcc379-3d51-4d4b-aee6-48446bd3a796",
   "metadata": {},
   "outputs": [],
   "source": [
    "fruits = {\"apple\", \"banana\", \"cherry\"}\n",
    "print(fruits)\n",
    "print(f\"fruits is of type {type(fruits)}.\")\n",
    "print(f\"There are {len(fruits)} fruits in the Set.\\n\")\n"
   ]
  },
  {
   "cell_type": "code",
   "execution_count": null,
   "id": "169a9391-89cc-48f2-a680-7cd70749b682",
   "metadata": {},
   "outputs": [],
   "source": [
    "for fruit in fruits:\n",
    "  print(fruit)\n"
   ]
  },
  {
   "cell_type": "code",
   "execution_count": null,
   "id": "ef3ea526-1b7c-408b-9c09-9a5f27e0a342",
   "metadata": {},
   "outputs": [],
   "source": [
    "fruits.add(\"mango\")\n",
    "print(fruits)\n"
   ]
  },
  {
   "cell_type": "code",
   "execution_count": null,
   "id": "67b39863-717b-41a6-975b-fb1608d570eb",
   "metadata": {},
   "outputs": [],
   "source": [
    "print(\"apple\" in fruits)\n",
    "print(\"pear\" not in fruits)\n"
   ]
  },
  {
   "cell_type": "code",
   "execution_count": null,
   "id": "f3c8d61e-fc3b-434d-909e-d60278133bc3",
   "metadata": {},
   "outputs": [],
   "source": [
    "set_1 = {1, 2, 3, 5, 6, 7, 9}\n",
    "set_2 = {2, 4, 5, 6, 8, 9, 10}\n",
    "set_3 = set_1.difference(set_2)\n",
    "print(set_3)\n",
    "\n",
    "set_4 = set_1.intersection(set_2)\n",
    "print(set_4)\n"
   ]
  },
  {
   "cell_type": "code",
   "execution_count": null,
   "id": "1bd129a1-8d52-44c7-8e86-7a9626c3ad30",
   "metadata": {},
   "outputs": [],
   "source": [
    "set_5 = set_1.union(set_2)\n",
    "print(set_5)\n",
    "\n",
    "print(set_4.issubset(set_5))\n",
    "print(set_5.issuperset(set_4))\n"
   ]
  },
  {
   "cell_type": "code",
   "execution_count": null,
   "id": "f3e1ca20-e187-4f50-90d3-462465161e27",
   "metadata": {},
   "outputs": [],
   "source": []
  }
 ],
 "metadata": {
  "kernelspec": {
   "display_name": "Python [conda env:base] *",
   "language": "python",
   "name": "conda-base-py"
  },
  "language_info": {
   "codemirror_mode": {
    "name": "ipython",
    "version": 3
   },
   "file_extension": ".py",
   "mimetype": "text/x-python",
   "name": "python",
   "nbconvert_exporter": "python",
   "pygments_lexer": "ipython3",
   "version": "3.12.7"
  }
 },
 "nbformat": 4,
 "nbformat_minor": 5
}
