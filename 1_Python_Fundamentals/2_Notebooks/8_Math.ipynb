{
 "cells": [
  {
   "cell_type": "markdown",
   "id": "a752f303",
   "metadata": {},
   "source": [
    "# Math"
   ]
  },
  {
   "cell_type": "code",
   "execution_count": null,
   "id": "37a5e76a",
   "metadata": {},
   "outputs": [],
   "source": [
    "# Import Python Modules\n",
    "import math\n",
    "import random\n"
   ]
  },
  {
   "cell_type": "code",
   "execution_count": null,
   "id": "89ed963b",
   "metadata": {},
   "outputs": [],
   "source": [
    "# Check if '2' is a number\n",
    "print('2 is a number:', '2'.isdigit())\n",
    "\n",
    "# Check if 'two' is a number\n",
    "print('two is a number:', 'two'.isdigit())\n",
    "\n",
    "# Check for NaN\n",
    "# This line converts the string 'NaN' to a float (which becomes a special floating-point value representing Not a Number),\n",
    "# and then uses math.isnan() to check if the value is NaN.\n",
    "print('Is NaN:', math.isnan(float('NaN')))\n",
    "\n",
    "try:\n",
    "    print('Is NaN:', math.isnan(float('two')))\n",
    "except Exception as e:\n",
    "    print('Error:', e)\n"
   ]
  },
  {
   "cell_type": "code",
   "execution_count": null,
   "id": "6455871b",
   "metadata": {},
   "outputs": [],
   "source": [
    "print(f\"4 squared is {math.pow(4, 2)}\")\n",
    "print(f\"The square root of 16 is {math.sqrt(16)}\")\n",
    "\n",
    "print(f\"The ceiling of 1.4 is {math.ceil(1.4)}\")\n",
    "print(f\"The floor of 1.4 is {math.floor(1.4)}\")\n",
    "\n",
    "print(f\"The value of pi is {math.pi}\")\n"
   ]
  },
  {
   "cell_type": "code",
   "execution_count": null,
   "id": "96006529",
   "metadata": {},
   "outputs": [],
   "source": [
    "random_numbers = []\n",
    "rand_min = 0\n",
    "rand_max = 500\n",
    "\n",
    "for _ in range(random.randint(rand_min, rand_max)):\n",
    "    number = random.randint(rand_min, rand_max)\n",
    "    random_numbers.append(number)\n",
    "\n",
    "print(f\"{len(random_numbers)} random numbers between {rand_min} and {rand_max}:\")\n",
    "print(random_numbers)\n"
   ]
  },
  {
   "cell_type": "code",
   "execution_count": null,
   "id": "e87b0d05",
   "metadata": {},
   "outputs": [],
   "source": [
    "print(\"min:\", min(random_numbers))\n",
    "print(\"max:\", max(random_numbers))\n"
   ]
  },
  {
   "cell_type": "markdown",
   "id": "31273856",
   "metadata": {},
   "source": [
    "## Mean"
   ]
  },
  {
   "cell_type": "code",
   "execution_count": null,
   "id": "b17b6509",
   "metadata": {},
   "outputs": [],
   "source": [
    "def calc_mean(nbrs):\n",
    "    # Calculate the mean of the random numbers\n",
    "    mean_value = sum(nbrs) / len(nbrs) if nbrs else 0\n",
    "    return mean_value\n",
    "\n",
    "print(\"Mean:\", calc_mean(random_numbers))\n"
   ]
  },
  {
   "cell_type": "markdown",
   "id": "2bab7ace",
   "metadata": {},
   "source": [
    "## Median"
   ]
  },
  {
   "cell_type": "code",
   "execution_count": null,
   "id": "6350466f",
   "metadata": {},
   "outputs": [],
   "source": [
    "def find_median(nbrs):\n",
    "    nbrs.sort()\n",
    "    if len(nbrs) % 2 == 1:\n",
    "        median_value = nbrs[len(nbrs) // 2]\n",
    "    else:\n",
    "        median_value = (nbrs[len(nbrs) // 2 - 1] + nbrs[len(nbrs) // 2]) / 2\n",
    "    return median_value\n",
    "\n",
    "print(\"Median:\", find_median(random_numbers))\n"
   ]
  },
  {
   "cell_type": "markdown",
   "id": "363877f3",
   "metadata": {},
   "source": [
    "## Mode"
   ]
  },
  {
   "cell_type": "code",
   "execution_count": null,
   "id": "7ecc3f7c",
   "metadata": {},
   "outputs": [],
   "source": [
    "def find_mode(nbrs):\n",
    "    mode_value = max(set(nbrs), key=nbrs.count)\n",
    "    return mode_value\n",
    "\n",
    "print(f\"Mode: {find_mode(random_numbers)}\")\n"
   ]
  },
  {
   "cell_type": "code",
   "execution_count": null,
   "id": "5a84fc7c-a252-4d77-b2ae-16367b85bbe1",
   "metadata": {},
   "outputs": [],
   "source": []
  }
 ],
 "metadata": {
  "kernelspec": {
   "display_name": "Python [conda env:base] *",
   "language": "python",
   "name": "conda-base-py"
  },
  "language_info": {
   "codemirror_mode": {
    "name": "ipython",
    "version": 3
   },
   "file_extension": ".py",
   "mimetype": "text/x-python",
   "name": "python",
   "nbconvert_exporter": "python",
   "pygments_lexer": "ipython3",
   "version": "3.12.7"
  }
 },
 "nbformat": 4,
 "nbformat_minor": 5
}
