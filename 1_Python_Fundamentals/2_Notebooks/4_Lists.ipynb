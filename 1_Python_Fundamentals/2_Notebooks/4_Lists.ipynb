{
 "cells": [
  {
   "cell_type": "markdown",
   "id": "9eef195a-6e9e-4215-8883-5ecf65b16cb3",
   "metadata": {},
   "source": [
    "# Built-in Data Types"
   ]
  },
  {
   "cell_type": "markdown",
   "id": "e32319f4-8139-4099-9363-d9075ff50dfd",
   "metadata": {},
   "source": [
    "## Lists"
   ]
  },
  {
   "cell_type": "markdown",
   "id": "bac2e2fb-0c1e-4421-b830-534a1bb91feb",
   "metadata": {},
   "source": [
    "Ordered, mutable collections that allow duplicate elements, accessed by index."
   ]
  },
  {
   "cell_type": "code",
   "execution_count": null,
   "id": "a197905f-3c05-4600-80af-6614f4d7db62",
   "metadata": {},
   "outputs": [],
   "source": [
    "fruits = [\"cherry\", \"apple\", \"banana\"]\n",
    "print(f\"fruits is of type {type(fruits)}.\")\n",
    "print(f\"There are {len(fruits)} fruits in the list.\")\n",
    "fruits.sort()\n",
    "print(fruits)\n",
    "print(\"\")\n",
    "\n",
    "print(fruits[0:])\n",
    "print(fruits[0:3])\n",
    "print(fruits[0])\n",
    "print(fruits[2])\n",
    "print(\"\")\n",
    "\n",
    "fruits = [\"cherry\", \"apple\", \"banana\", \"apple\"]\n",
    "print(fruits)\n",
    "fruits.sort()\n",
    "print(fruits)\n",
    "print(\"\")\n",
    "\n",
    "fruits[3] = \"mango\"\n",
    "print(fruits)\n",
    "print(\"\")\n",
    "\n",
    "fruits.remove(\"mango\")\n",
    "print(fruits)\n"
   ]
  },
  {
   "cell_type": "code",
   "execution_count": null,
   "id": "3bf34880-f0c4-4745-9d2c-a0fa5ead67d0",
   "metadata": {},
   "outputs": [],
   "source": [
    "fruits = [\"cherry\", \"apple\", \"banana\", \"apple\"]\n",
    "print(fruits)\n",
    "print(f\"There are {fruits.count(\"apple\")} apples in the list\\n\")\n",
    "\n",
    "fruits.remove(\"apple\")\n",
    "print(fruits)\n",
    "print(f\"There is {fruits.count(\"apple\")} apple in the list\\n\")\n",
    "fruits.sort()\n",
    "for fruit in fruits:\n",
    "    print(fruit)\n",
    "\n",
    "print()\n",
    "fruits.clear()\n",
    "print(fruits)\n"
   ]
  },
  {
   "cell_type": "code",
   "execution_count": null,
   "id": "a924f4be-6817-48b3-847a-b3afa8158629",
   "metadata": {},
   "outputs": [],
   "source": [
    "odd = []\n",
    "even = []\n",
    "\n",
    "for i in range(1, 11):\n",
    "    if i % 2 == 0:\n",
    "        even.append(i)\n",
    "    else:\n",
    "        odd.append(i)\n",
    "\n",
    "print(odd)\n",
    "print(even)\n",
    "\n",
    "numbers = odd + even\n",
    "print(numbers)\n",
    "\n",
    "numbers.sort()\n",
    "print(numbers)\n"
   ]
  },
  {
   "cell_type": "code",
   "execution_count": null,
   "id": "21bc8c80-660f-4d17-b1f3-74007046dc4a",
   "metadata": {},
   "outputs": [],
   "source": []
  }
 ],
 "metadata": {
  "kernelspec": {
   "display_name": "Python [conda env:base] *",
   "language": "python",
   "name": "conda-base-py"
  },
  "language_info": {
   "codemirror_mode": {
    "name": "ipython",
    "version": 3
   },
   "file_extension": ".py",
   "mimetype": "text/x-python",
   "name": "python",
   "nbconvert_exporter": "python",
   "pygments_lexer": "ipython3",
   "version": "3.12.7"
  }
 },
 "nbformat": 4,
 "nbformat_minor": 5
}
