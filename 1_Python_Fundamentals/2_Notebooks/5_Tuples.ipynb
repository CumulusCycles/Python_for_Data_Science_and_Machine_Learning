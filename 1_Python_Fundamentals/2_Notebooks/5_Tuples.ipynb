{
 "cells": [
  {
   "cell_type": "markdown",
   "id": "3e9e8240-aad9-4c59-92e6-1f3a6743a0a0",
   "metadata": {},
   "source": [
    "# Built-in Data Types"
   ]
  },
  {
   "cell_type": "markdown",
   "id": "3e9a6714-ca74-4b7e-8aa2-f25a7364adb1",
   "metadata": {},
   "source": [
    "## Tuples"
   ]
  },
  {
   "cell_type": "markdown",
   "id": "98c13ac5-b715-4cc8-9a41-5b48e0553950",
   "metadata": {},
   "source": [
    "Ordered, immutable collections that allow duplicate elements, accessed by index."
   ]
  },
  {
   "cell_type": "code",
   "execution_count": null,
   "id": "262f6fbe-b1bb-4ccc-bc17-a9a3fe9e1938",
   "metadata": {},
   "outputs": [],
   "source": [
    "fruits = (\"apple\", \"banana\", \"cherry\")\n",
    "print(fruits)\n",
    "print(f\"fruits is of type {type(fruits)}.\")\n",
    "print(f\"There are {len(fruits)} fruits in the Tuple.\\n\")\n",
    "\n",
    "fruits = (\"apple\", \"banana\", \"cherry\", \"apple\")\n",
    "print(fruits)\n",
    "print(f\"There are {fruits.count('apple')} apples in the Tuple.\\n\")\n",
    "\n",
    "print(fruits[0:])\n",
    "\n",
    "# fruits[0] = \"mango\"\n"
   ]
  },
  {
   "cell_type": "code",
   "execution_count": null,
   "id": "b3b991e4-b16d-4ba7-bc08-8cbc6cbd4e59",
   "metadata": {},
   "outputs": [],
   "source": [
    "student = (\"Foo\", \"Bar\", 21, True, \"Data Science\", 12.75)\n",
    "print(student)\n"
   ]
  },
  {
   "cell_type": "code",
   "execution_count": null,
   "id": "ecafa854-6211-499c-9503-73e94adda293",
   "metadata": {},
   "outputs": [],
   "source": [
    "def display_major(the_student):\n",
    "    if \"Undeclared\" in the_student:\n",
    "        print(f\"{the_student[0]} {the_student[1]} has not selected a major.\")\n",
    "    else:\n",
    "        print(f\"{the_student[0]} {the_student[1]} is a Data Science major.\")\n",
    "\n",
    "display_major(student)\n"
   ]
  },
  {
   "cell_type": "code",
   "execution_count": null,
   "id": "fc93faf9-3f6e-4665-92e0-ab2b9a1bdbc6",
   "metadata": {},
   "outputs": [],
   "source": [
    "# List of Tuples\n",
    "people = [\n",
    "    (\"Foo\", \"Bar\", 21, True, \"Data Science\", 12.75),\n",
    "    (\"Biz\", \"Baz\", 19, True, \"Undeclared\", 10.25),\n",
    "    (\"Bing\", \"Bang\", 20, False, \"\", 0),\n",
    "]\n",
    "\n",
    "for person in people:\n",
    "    is_student = person[4]\n",
    "    if is_student:\n",
    "        display_major(person)\n",
    "    else:\n",
    "        print(f\"{person[0]} {person[1]} is not a Student.\")\n"
   ]
  }
 ],
 "metadata": {
  "kernelspec": {
   "display_name": "Python [conda env:base] *",
   "language": "python",
   "name": "conda-base-py"
  },
  "language_info": {
   "codemirror_mode": {
    "name": "ipython",
    "version": 3
   },
   "file_extension": ".py",
   "mimetype": "text/x-python",
   "name": "python",
   "nbconvert_exporter": "python",
   "pygments_lexer": "ipython3",
   "version": "3.12.7"
  }
 },
 "nbformat": 4,
 "nbformat_minor": 5
}
