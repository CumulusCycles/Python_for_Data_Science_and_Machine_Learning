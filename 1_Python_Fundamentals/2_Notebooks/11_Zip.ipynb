{
 "cells": [
  {
   "cell_type": "markdown",
   "id": "e842a9da",
   "metadata": {},
   "source": [
    "# The Zip Function in Python\n",
    "\n",
    "The `zip()` function is a built-in Python function that combines multiple iterables (lists, tuples, strings, etc.) element-wise. It's an incredibly useful tool for data manipulation and processing.\n",
    "\n",
    "## What does zip() do?\n",
    "\n",
    "The `zip()` function takes multiple iterables and returns an iterator of tuples, where each tuple contains elements from the input iterables at the same position."
   ]
  },
  {
   "cell_type": "markdown",
   "id": "1aa1eafc",
   "metadata": {},
   "source": [
    "## Basic Zip Usage\n",
    "\n",
    "Let's start with simple examples:"
   ]
  },
  {
   "cell_type": "code",
   "execution_count": null,
   "id": "3c45141f",
   "metadata": {},
   "outputs": [],
   "source": [
    "# Basic zip with two lists\n",
    "numbers = [1, 2, 3, 4]\n",
    "letters = ['a', 'b', 'c', 'd']\n",
    "\n",
    "zipped = zip(numbers, letters)\n",
    "print(\"Zip object:\", zipped)\n",
    "print(\"Zip result:\", list(zipped))"
   ]
  },
  {
   "cell_type": "code",
   "execution_count": null,
   "id": "38ccc5dd",
   "metadata": {},
   "outputs": [],
   "source": [
    "# Zip with three lists\n",
    "first_names = ['John', 'Jane', 'Bob']\n",
    "last_names = ['Doe', 'Smith', 'Johnson']\n",
    "ages = [25, 30, 35]\n",
    "\n",
    "people = list(zip(first_names, last_names, ages))\n",
    "print(\"People data:\", people)\n",
    "\n",
    "# Each tuple represents one person's data\n",
    "for first, last, age in people:\n",
    "    print(f\"{first} {last} is {age} years old\")"
   ]
  },
  {
   "cell_type": "markdown",
   "id": "9dcc9fa1",
   "metadata": {},
   "source": [
    "## Zip with Different Length Iterables\n",
    "\n",
    "When iterables have different lengths, `zip()` stops at the shortest one:"
   ]
  },
  {
   "cell_type": "code",
   "execution_count": null,
   "id": "f8a906a3",
   "metadata": {},
   "outputs": [],
   "source": [
    "short_list = [1, 2, 3]\n",
    "long_list = ['a', 'b', 'c', 'd', 'e', 'f']\n",
    "\n",
    "result = list(zip(short_list, long_list))\n",
    "print(\"Zipped result:\", result)\n",
    "print(\"Note: Only 3 pairs created (length of shortest list)\")"
   ]
  },
  {
   "cell_type": "markdown",
   "id": "a08328b1",
   "metadata": {},
   "source": [
    "## Unzipping with zip(*iterable)\n",
    "\n",
    "You can \"unzip\" a zipped object using the `*` operator:"
   ]
  },
  {
   "cell_type": "code",
   "execution_count": null,
   "id": "945dfb49",
   "metadata": {},
   "outputs": [],
   "source": [
    "# Create pairs\n",
    "pairs = [(1, 'a'), (2, 'b'), (3, 'c')]\n",
    "print(\"Original pairs:\", pairs)\n",
    "\n",
    "# Unzip the pairs\n",
    "numbers, letters = zip(*pairs)\n",
    "print(\"Unzipped numbers:\", numbers)\n",
    "print(\"Unzipped letters:\", letters)"
   ]
  },
  {
   "cell_type": "markdown",
   "id": "8d9227cc",
   "metadata": {},
   "source": [
    "## Practical Examples\n",
    "\n",
    "### Example 1: Creating Dictionaries"
   ]
  },
  {
   "cell_type": "code",
   "execution_count": null,
   "id": "95156886",
   "metadata": {},
   "outputs": [],
   "source": [
    "# Create a dictionary from two lists\n",
    "keys = ['name', 'age', 'city', 'job']\n",
    "values = ['Alice', 28, 'New York', 'Engineer']\n",
    "\n",
    "person_dict = dict(zip(keys, values))\n",
    "print(\"Person dictionary:\", person_dict)"
   ]
  },
  {
   "cell_type": "markdown",
   "id": "56b71929",
   "metadata": {},
   "source": [
    "### Example 2: Parallel Iteration"
   ]
  },
  {
   "cell_type": "code",
   "execution_count": null,
   "id": "fac79c59",
   "metadata": {},
   "outputs": [],
   "source": [
    "# Calculate total scores from multiple subjects\n",
    "students = ['Alice', 'Bob', 'Charlie']\n",
    "math_scores = [85, 92, 78]\n",
    "science_scores = [90, 88, 95]\n",
    "english_scores = [87, 85, 90]\n",
    "\n",
    "print(\"Student Report Cards:\")\n",
    "for student, math, science, english in zip(students, math_scores, science_scores, english_scores):\n",
    "    total = math + science + english\n",
    "    average = total / 3\n",
    "    print(f\"{student}: Math={math}, Science={science}, English={english}, Average={average:.1f}\")"
   ]
  },
  {
   "cell_type": "markdown",
   "id": "ae27d8b7",
   "metadata": {},
   "source": [
    "### Example 3: Data Transformation"
   ]
  },
  {
   "cell_type": "code",
   "execution_count": null,
   "id": "306b6167",
   "metadata": {},
   "outputs": [],
   "source": [
    "# Convert Celsius to Fahrenheit for multiple cities\n",
    "cities = ['London', 'Paris', 'Tokyo', 'Sydney']\n",
    "celsius_temps = [15, 18, 22, 25]\n",
    "\n",
    "# Use zip to process temperatures and cities together\n",
    "fahrenheit_temps = [(temp * 9/5) + 32 for temp in celsius_temps]\n",
    "\n",
    "print(\"Temperature Conversion:\")\n",
    "for city, celsius, fahrenheit in zip(cities, celsius_temps, fahrenheit_temps):\n",
    "    print(f\"{city}: {celsius}°C = {fahrenheit:.1f}°F\")"
   ]
  },
  {
   "cell_type": "markdown",
   "id": "20d8f84f",
   "metadata": {},
   "source": [
    "## Zip with Different Data Types\n",
    "\n",
    "Zip works with any iterable:"
   ]
  },
  {
   "cell_type": "code",
   "execution_count": null,
   "id": "4517193b",
   "metadata": {},
   "outputs": [],
   "source": [
    "# Zip with strings, lists, and tuples\n",
    "string1 = \"ABC\"\n",
    "list1 = [1, 2, 3]\n",
    "tuple1 = ('x', 'y', 'z')\n",
    "\n",
    "mixed_zip = list(zip(string1, list1, tuple1))\n",
    "print(\"Mixed data types:\", mixed_zip)"
   ]
  },
  {
   "cell_type": "markdown",
   "id": "e4c95f81",
   "metadata": {},
   "source": [
    "## Zip with Enumerate\n",
    "\n",
    "Combining zip with enumerate for indexed iteration:"
   ]
  },
  {
   "cell_type": "code",
   "execution_count": null,
   "id": "745bd931",
   "metadata": {},
   "outputs": [],
   "source": [
    "products = ['Apple', 'Banana', 'Cherry']\n",
    "prices = [1.20, 0.80, 2.50]\n",
    "\n",
    "print(\"Product Catalog:\")\n",
    "for index, (product, price) in enumerate(zip(products, prices), 1):\n",
    "    print(f\"{index}. {product}: ${price:.2f}\")"
   ]
  },
  {
   "cell_type": "markdown",
   "id": "4f4feb30",
   "metadata": {},
   "source": [
    "## Advanced: Zip with Generators\n",
    "\n",
    "Zip works great with generators for memory-efficient processing:"
   ]
  },
  {
   "cell_type": "code",
   "execution_count": null,
   "id": "4a2888bd",
   "metadata": {},
   "outputs": [],
   "source": [
    "# Generator for squares\n",
    "def squares(n):\n",
    "    for i in range(n):\n",
    "        yield i ** 2\n",
    "\n",
    "# Generator for cubes\n",
    "def cubes(n):\n",
    "    for i in range(n):\n",
    "        yield i ** 3\n",
    "\n",
    "# Zip generators together\n",
    "numbers = range(5)\n",
    "zipped_powers = list(zip(numbers, squares(5), cubes(5)))\n",
    "print(\"Number, Square, Cube:\")\n",
    "for num, square, cube in zipped_powers:\n",
    "    print(f\"{num}: {square}, {cube}\")"
   ]
  },
  {
   "cell_type": "markdown",
   "id": "ed30aba5",
   "metadata": {},
   "source": [
    "## Real-World Example: Processing CSV-like Data"
   ]
  },
  {
   "cell_type": "code",
   "execution_count": null,
   "id": "c0c61f78",
   "metadata": {},
   "outputs": [],
   "source": [
    "# Simulate CSV data\n",
    "headers = ['Name', 'Age', 'Department', 'Salary']\n",
    "employee1 = ['John Doe', 30, 'Engineering', 75000]\n",
    "employee2 = ['Jane Smith', 28, 'Marketing', 65000]\n",
    "employee3 = ['Bob Johnson', 35, 'Sales', 70000]\n",
    "\n",
    "employees = [employee1, employee2, employee3]\n",
    "\n",
    "print(\"Employee Database:\")\n",
    "print(\"-\" * 50)\n",
    "\n",
    "for employee in employees:\n",
    "    # Create a dictionary for each employee\n",
    "    employee_dict = dict(zip(headers, employee))\n",
    "    \n",
    "    # Display formatted information\n",
    "    for key, value in employee_dict.items():\n",
    "        print(f\"{key}: {value}\")\n",
    "    print(\"-\" * 30)"
   ]
  },
  {
   "cell_type": "markdown",
   "id": "a8314dfc",
   "metadata": {},
   "source": [
    "## Zip with List Comprehensions\n",
    "\n",
    "Powerful combinations for data processing:"
   ]
  },
  {
   "cell_type": "code",
   "execution_count": null,
   "id": "b15e9bde",
   "metadata": {},
   "outputs": [],
   "source": [
    "# Calculate dot product using zip and list comprehension\n",
    "vector1 = [1, 2, 3, 4]\n",
    "vector2 = [5, 6, 7, 8]\n",
    "\n",
    "# Multiply corresponding elements\n",
    "products = [x * y for x, y in zip(vector1, vector2)]\n",
    "dot_product = sum(products)\n",
    "\n",
    "print(f\"Vector 1: {vector1}\")\n",
    "print(f\"Vector 2: {vector2}\")\n",
    "print(f\"Products: {products}\")\n",
    "print(f\"Dot product: {dot_product}\")"
   ]
  },
  {
   "cell_type": "markdown",
   "id": "aa1f36cb",
   "metadata": {},
   "source": [
    "## Error Handling with Zip"
   ]
  },
  {
   "cell_type": "code",
   "execution_count": null,
   "id": "5ac83752",
   "metadata": {},
   "outputs": [],
   "source": [
    "# Safe zipping with different length checking\n",
    "def safe_zip(*iterables):\n",
    "    \"\"\"Zip with length checking\"\"\"\n",
    "    lengths = [len(iterable) for iterable in iterables]\n",
    "    \n",
    "    if len(set(lengths)) > 1:\n",
    "        print(f\"Warning: Different lengths detected: {lengths}\")\n",
    "        print(f\"Will stop at shortest length: {min(lengths)}\")\n",
    "    \n",
    "    return zip(*iterables)\n",
    "\n",
    "# Test with different length lists\n",
    "list_a = [1, 2, 3]\n",
    "list_b = ['a', 'b', 'c', 'd', 'e']\n",
    "\n",
    "result = list(safe_zip(list_a, list_b))\n",
    "print(f\"Result: {result}\")"
   ]
  },
  {
   "cell_type": "markdown",
   "id": "78798840",
   "metadata": {},
   "source": [
    "## Performance Considerations"
   ]
  },
  {
   "cell_type": "code",
   "execution_count": null,
   "id": "ed579721",
   "metadata": {},
   "outputs": [],
   "source": [
    "import time\n",
    "\n",
    "# Compare zip vs manual iteration\n",
    "large_list1 = list(range(100000))\n",
    "large_list2 = list(range(100000, 200000))\n",
    "\n",
    "# Method 1: Using zip\n",
    "start_time = time.time()\n",
    "result1 = [x + y for x, y in zip(large_list1, large_list2)]\n",
    "zip_time = time.time() - start_time\n",
    "\n",
    "# Method 2: Manual indexing\n",
    "start_time = time.time()\n",
    "result2 = [large_list1[i] + large_list2[i] for i in range(len(large_list1))]\n",
    "manual_time = time.time() - start_time\n",
    "\n",
    "print(f\"Zip method time: {zip_time:.4f} seconds\")\n",
    "print(f\"Manual method time: {manual_time:.4f} seconds\")\n",
    "print(f\"Results are equal: {result1 == result2}\")\n",
    "print(f\"Zip is {'faster' if zip_time < manual_time else 'slower'}\")"
   ]
  },
  {
   "cell_type": "markdown",
   "id": "bc71dc49",
   "metadata": {},
   "source": [
    "## Exercise: Student Grade Calculator\n",
    "\n",
    "Create a comprehensive grade calculator using zip:"
   ]
  },
  {
   "cell_type": "code",
   "execution_count": null,
   "id": "e5b8b7ef",
   "metadata": {},
   "outputs": [],
   "source": [
    "# Student data\n",
    "students = ['Alice', 'Bob', 'Charlie', 'Diana', 'Eve']\n",
    "homework_scores = [85, 92, 78, 95, 88]\n",
    "quiz_scores = [90, 85, 82, 93, 91]\n",
    "exam_scores = [88, 89, 85, 96, 87]\n",
    "\n",
    "# Weights for different assessment types\n",
    "homework_weight = 0.3\n",
    "quiz_weight = 0.3\n",
    "exam_weight = 0.4\n",
    "\n",
    "def calculate_letter_grade(score):\n",
    "    \"\"\"Convert numerical score to letter grade\"\"\"\n",
    "    if score >= 90:\n",
    "        return 'A'\n",
    "    elif score >= 80:\n",
    "        return 'B'\n",
    "    elif score >= 70:\n",
    "        return 'C'\n",
    "    elif score >= 60:\n",
    "        return 'D'\n",
    "    else:\n",
    "        return 'F'\n",
    "\n",
    "print(\"FINAL GRADE REPORT\")\n",
    "print(\"=\" * 60)\n",
    "print(f\"{'Student':<10} {'HW':<4} {'Quiz':<4} {'Exam':<4} {'Final':<5} {'Grade':<5}\")\n",
    "print(\"-\" * 60)\n",
    "\n",
    "for student, hw, quiz, exam in zip(students, homework_scores, quiz_scores, exam_scores):\n",
    "    # Calculate weighted final score\n",
    "    final_score = (hw * homework_weight + \n",
    "                  quiz * quiz_weight + \n",
    "                  exam * exam_weight)\n",
    "    \n",
    "    letter_grade = calculate_letter_grade(final_score)\n",
    "    \n",
    "    print(f\"{student:<10} {hw:<4} {quiz:<4} {exam:<4} {final_score:<5.1f} {letter_grade:<5}\")"
   ]
  },
  {
   "cell_type": "markdown",
   "id": "d7a00caa",
   "metadata": {},
   "source": [
    "## Summary\n",
    "\n",
    "The `zip()` function is incredibly versatile and useful for:\n",
    "\n",
    "### Key Features:\n",
    "- **Combines multiple iterables** element-wise\n",
    "- **Returns an iterator** (memory efficient)\n",
    "- **Stops at shortest iterable** when lengths differ\n",
    "- **Can be \"unzipped\"** using `zip(*iterable)`\n",
    "\n",
    "### Common Use Cases:\n",
    "1. **Parallel iteration** over multiple sequences\n",
    "2. **Creating dictionaries** from separate key/value lists\n",
    "3. **Data transformation** and processing\n",
    "4. **Combining data** from different sources\n",
    "5. **Matrix operations** (with list comprehensions)\n",
    "\n",
    "### Best Practices:\n",
    "- Use with iterables of similar lengths\n",
    "- Combine with list comprehensions for powerful data processing\n",
    "- Remember that zip returns an iterator (use `list()` to see all results)\n",
    "- Consider using `itertools.zip_longest()` for different-length iterables\n",
    "\n",
    "The `zip()` function is a fundamental tool that makes Python code more readable and efficient when working with multiple sequences!"
   ]
  }
 ],
 "metadata": {
  "language_info": {
   "name": "python"
  }
 },
 "nbformat": 4,
 "nbformat_minor": 5
}
