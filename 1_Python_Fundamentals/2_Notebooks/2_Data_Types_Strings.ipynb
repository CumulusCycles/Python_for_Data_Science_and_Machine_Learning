{
 "cells": [
  {
   "cell_type": "markdown",
   "id": "fe07283f-6ddd-4851-b5cb-3b19b76b4781",
   "metadata": {},
   "source": [
    "# Built-in Data Types"
   ]
  },
  {
   "cell_type": "markdown",
   "id": "e32319f4-8139-4099-9363-d9075ff50dfd",
   "metadata": {},
   "source": [
    "## Strings"
   ]
  },
  {
   "cell_type": "code",
   "execution_count": null,
   "id": "76885ab3-0447-4fd3-a699-f1df846b60c8",
   "metadata": {},
   "outputs": [],
   "source": [
    "# Declare variables\n",
    "first_name = \"Foo\"\n",
    "last_name = \"Bar\"\n",
    "age = 21\n",
    "is_student = True\n",
    "major = \"Data Science\"\n",
    "bookstore_balance = 12.75\n"
   ]
  },
  {
   "cell_type": "code",
   "execution_count": null,
   "id": "2d4ba582-7959-400f-9bd7-1b6e887d4eea",
   "metadata": {},
   "outputs": [],
   "source": [
    "# Print variable values and data types\n",
    "print(f\"first_name ({first_name}) is a {type(first_name)}\")\n",
    "print(f\"last_name ({last_name}) is a {type(last_name)}\")\n",
    "print(f\"age ({age}) is a {type(age)}\")\n",
    "print(f\"is_student ({is_student}) is a {type(is_student)}\")\n",
    "print(f\"major ({major}) is a {type(major)}\")\n",
    "print(f\"bookstore_balance ({bookstore_balance}) is a {type(bookstore_balance)}\")\n"
   ]
  },
  {
   "cell_type": "code",
   "execution_count": null,
   "id": "1a3386e1-5a0f-44fe-be19-25e838e2f95b",
   "metadata": {},
   "outputs": [],
   "source": [
    "# String concat\n",
    "first_name = \" Biz \"\n",
    "last_name = \"  Baz   \"\n",
    "\n",
    "# Strip leading and trailing spaces\n",
    "full_name = first_name.strip() + \" \" + last_name.strip()\n",
    "print(f\"Full Name: '{full_name}'.\")\n",
    "\n",
    "full_name = f\"{first_name.strip()} {last_name.strip()}\"\n",
    "print(f\"Full Name: '{full_name}'.\")\n"
   ]
  },
  {
   "cell_type": "code",
   "execution_count": null,
   "id": "2399caf9-709a-48d0-90da-57777de5d611",
   "metadata": {},
   "outputs": [],
   "source": [
    "print(full_name.upper())\n",
    "print(full_name.lower())\n"
   ]
  },
  {
   "cell_type": "code",
   "execution_count": null,
   "id": "155910bf-5869-4edb-9f42-93c6157cc42a",
   "metadata": {},
   "outputs": [],
   "source": [
    "split_name = full_name.split()\n",
    "print(split_name)\n",
    "print(f\"split_name is of type {type(split_name)}.\")\n"
   ]
  },
  {
   "cell_type": "code",
   "execution_count": null,
   "id": "d1bc59ce-7a4d-44cc-9d78-cbdb74fece8e",
   "metadata": {},
   "outputs": [],
   "source": [
    "# Loop through each character in a string\n",
    "pos = 0;\n",
    "for char in full_name:\n",
    "    print(f\"{pos}: '{char}' {'<-- Note the 0 pos for the first char' if pos == 0 else ''}\")\n",
    "    pos += 1\n"
   ]
  },
  {
   "cell_type": "code",
   "execution_count": null,
   "id": "a3326bcb-70c5-4839-9bc1-e97e1ddfb343",
   "metadata": {},
   "outputs": [],
   "source": [
    "# String Slicing\n",
    "print(f\"full_name ({full_name}) is {len(full_name)} chars long.\")\n",
    "print(f\"'{full_name[0]}'\")\n",
    "print(f\"'{full_name[6]}'\")\n",
    "print(f\"'{full_name[0:]}'\")\n",
    "print(f\"'{full_name[0:7]}'\")\n",
    "\n",
    "print(f\"'{full_name[0:3]}'\")\n",
    "print(f\"'{full_name[3]}'\")\n",
    "print(f\"'{full_name[4:]}'\")\n"
   ]
  },
  {
   "cell_type": "code",
   "execution_count": null,
   "id": "7a1958e2-6a01-4672-96fb-623546bf6c00",
   "metadata": {},
   "outputs": [],
   "source": [
    "# Find Char(s) in a String\n",
    "chars = full_name.find(\"B\")\n",
    "print(chars)\n",
    "\n",
    "chars = full_name.rfind(\"B\")\n",
    "print(chars)\n"
   ]
  }
 ],
 "metadata": {
  "kernelspec": {
   "display_name": "Python [conda env:base] *",
   "language": "python",
   "name": "conda-base-py"
  },
  "language_info": {
   "codemirror_mode": {
    "name": "ipython",
    "version": 3
   },
   "file_extension": ".py",
   "mimetype": "text/x-python",
   "name": "python",
   "nbconvert_exporter": "python",
   "pygments_lexer": "ipython3",
   "version": "3.12.7"
  }
 },
 "nbformat": 4,
 "nbformat_minor": 5
}
