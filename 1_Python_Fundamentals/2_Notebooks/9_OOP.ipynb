{
 "cells": [
  {
   "cell_type": "markdown",
   "id": "a53b6e44-1d10-4a70-ad10-7375172b017b",
   "metadata": {},
   "source": [
    "# OOP in Python"
   ]
  },
  {
   "cell_type": "code",
   "execution_count": null,
   "id": "7f8af90f",
   "metadata": {},
   "outputs": [],
   "source": [
    "import csv\n",
    "import pprint\n"
   ]
  },
  {
   "cell_type": "code",
   "execution_count": null,
   "id": "123f92db",
   "metadata": {},
   "outputs": [],
   "source": [
    "class Person:\n",
    "    \"\"\"\n",
    "    Represents a person with basic details.\n",
    "    \"\"\"\n",
    "    def __init__(self, f_name: str = \"\", l_name: str = \"\", email: str = \"\"):\n",
    "        \"\"\"\n",
    "        Initializes a new person with the given first and last name.\n",
    "\n",
    "        Parameters:\n",
    "            - f_name: The first name of the person.\n",
    "            - l_name: The last name of the person.\n",
    "            - email: The email of the person.\n",
    "        \"\"\"\n",
    "        self.f_name = f_name\n",
    "        self.l_name = l_name\n",
    "        self.email = email\n"
   ]
  },
  {
   "cell_type": "code",
   "execution_count": null,
   "id": "d7a8559f",
   "metadata": {},
   "outputs": [],
   "source": [
    "class Student(Person):\n",
    "    \"\"\"\n",
    "    Represents a student with their details.\n",
    "    \"\"\"\n",
    "    def __init__(self, student_id: int = 0, f_name: str = \"\", l_name: str = \"\", email: str = \"\", university: str = \"\", major: str = \"Undeclared\"):\n",
    "        \"\"\"\n",
    "        Initializes a new student with the given details.\n",
    "\n",
    "        Parameters:\n",
    "            - student_id: The ID of the student.\n",
    "            - f_name: The first name of the student.\n",
    "            - l_name: The last name of the student.\n",
    "            - email: The email of the student.\n",
    "            - university: The university of the student.\n",
    "            - major: The major of the student.\n",
    "        \"\"\"\n",
    "        super().__init__(f_name, l_name, email)\n",
    "        self.student_id = student_id\n",
    "        self.university = university\n",
    "        self.major = major\n",
    "        self.__gpa = 0.0 # Private attribute for GPA\n",
    "\n",
    "    def set_university(self, university):\n",
    "        self.university = university\n",
    "\n",
    "    def set_major(self, major):\n",
    "        self.major = major\n",
    "\n",
    "    def set_gpa(self, gpa):\n",
    "        self.__gpa = gpa\n",
    "\n",
    "    def get_gpa(self):\n",
    "        return self.__gpa\n"
   ]
  },
  {
   "cell_type": "code",
   "execution_count": null,
   "id": "dc63fe65-c431-4723-ab7e-68cb11f9b3d1",
   "metadata": {},
   "outputs": [],
   "source": [
    "def load_student_data():\n",
    "    student_data = []\n",
    "    with open('./students.csv', newline='', encoding='utf-8') as csvfile:\n",
    "        reader = csv.DictReader(csvfile)\n",
    "        for row in reader:\n",
    "            student_dict = {\n",
    "                'student_id': int(row['student_id']),\n",
    "                'f_name': row['f_name'],\n",
    "                'l_name': row['l_name'],\n",
    "                'email': row['email'],\n",
    "                'university': row['university'],\n",
    "                'major': row['major']\n",
    "            }\n",
    "            student_data.append(student_dict)\n",
    "    return student_data\n"
   ]
  },
  {
   "cell_type": "code",
   "execution_count": null,
   "id": "6dce586d",
   "metadata": {},
   "outputs": [],
   "source": [
    "student_data = load_student_data()\n",
    "pprint.pprint(student_data, indent=4, depth=2)\n"
   ]
  },
  {
   "cell_type": "code",
   "execution_count": null,
   "id": "892eef8f",
   "metadata": {},
   "outputs": [],
   "source": [
    "def create_student_objects(student):\n",
    "    return Student(\n",
    "        student_id = student['student_id'],\n",
    "        f_name = student['f_name'],\n",
    "        l_name = student['l_name'],\n",
    "        university = student['university'],\n",
    "        major = student['major']\n",
    "    )\n"
   ]
  },
  {
   "cell_type": "code",
   "execution_count": null,
   "id": "ba2c9d01",
   "metadata": {},
   "outputs": [],
   "source": [
    "students = []\n",
    "for student in student_data:\n",
    "    students.append(create_student_objects(student))\n",
    "\n",
    "for student in students:\n",
    "    print(f\"{student.f_name} {student.l_name} is majoring in {student.major} at {student.university}.\")\n"
   ]
  },
  {
   "cell_type": "code",
   "execution_count": null,
   "id": "434eb7ab",
   "metadata": {},
   "outputs": [],
   "source": [
    "yale_student = students[1]\n",
    "yale_student.set_major(\"Law\")\n",
    "yale_student.set_university(\"Yale Law School\")\n",
    "yale_student.set_gpa(3.9)\n",
    "\n",
    "print(f\"{yale_student.f_name} {yale_student.l_name}: {yale_student.university}, {yale_student.major}, {yale_student.get_gpa()} GPA\")\n"
   ]
  }
 ],
 "metadata": {
  "kernelspec": {
   "display_name": "base",
   "language": "python",
   "name": "python3"
  },
  "language_info": {
   "codemirror_mode": {
    "name": "ipython",
    "version": 3
   },
   "file_extension": ".py",
   "mimetype": "text/x-python",
   "name": "python",
   "nbconvert_exporter": "python",
   "pygments_lexer": "ipython3",
   "version": "3.12.7"
  }
 },
 "nbformat": 4,
 "nbformat_minor": 5
}
