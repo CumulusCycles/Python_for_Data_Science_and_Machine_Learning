{
 "cells": [
  {
   "cell_type": "markdown",
   "id": "a53b6e44-1d10-4a70-ad10-7375172b017b",
   "metadata": {},
   "source": [
    "# OOP in Python"
   ]
  },
  {
   "cell_type": "code",
   "execution_count": 1,
   "id": "7f8af90f",
   "metadata": {},
   "outputs": [],
   "source": [
    "import csv\n",
    "import pprint\n"
   ]
  },
  {
   "cell_type": "code",
   "execution_count": 2,
   "id": "123f92db",
   "metadata": {},
   "outputs": [],
   "source": [
    "class Person:\n",
    "    \"\"\"\n",
    "    Represents a person with basic details.\n",
    "    \"\"\"\n",
    "    def __init__(self, f_name: str = \"\", l_name: str = \"\", email: str = \"\"):\n",
    "        \"\"\"\n",
    "        Initializes a new person with the given first and last name.\n",
    "\n",
    "        Parameters:\n",
    "            - f_name: The first name of the person.\n",
    "            - l_name: The last name of the person.\n",
    "            - email: The email of the person.\n",
    "        \"\"\"\n",
    "        self.f_name = f_name\n",
    "        self.l_name = l_name\n",
    "        self.email = email\n"
   ]
  },
  {
   "cell_type": "code",
   "execution_count": 3,
   "id": "d7a8559f",
   "metadata": {},
   "outputs": [],
   "source": [
    "class Student(Person):\n",
    "    \"\"\"\n",
    "    Represents a student with their details.\n",
    "    \"\"\"\n",
    "    def __init__(self, student_id: int = 0, f_name: str = \"\", l_name: str = \"\", email: str = \"\", university: str = \"\", major: str = \"Undeclared\"):\n",
    "        \"\"\"\n",
    "        Initializes a new student with the given details.\n",
    "\n",
    "        Parameters:\n",
    "            - student_id: The ID of the student.\n",
    "            - f_name: The first name of the student.\n",
    "            - l_name: The last name of the student.\n",
    "            - email: The email of the student.\n",
    "            - university: The university of the student.\n",
    "            - major: The major of the student.\n",
    "        \"\"\"\n",
    "        super().__init__(f_name, l_name, email)\n",
    "        self.student_id = student_id\n",
    "        self.university = university\n",
    "        self.major = major\n",
    "        self.__gpa = 0.0 # Private attribute for GPA\n",
    "\n",
    "    def set_university(self, university):\n",
    "        self.university = university\n",
    "\n",
    "    def set_major(self, major):\n",
    "        self.major = major\n",
    "\n",
    "    def set_gpa(self, gpa):\n",
    "        self.__gpa = gpa\n",
    "\n",
    "    def get_gpa(self):\n",
    "        return self.__gpa\n"
   ]
  },
  {
   "cell_type": "code",
   "execution_count": 4,
   "id": "dc63fe65-c431-4723-ab7e-68cb11f9b3d1",
   "metadata": {},
   "outputs": [],
   "source": [
    "def load_student_data():\n",
    "    student_data = []\n",
    "    with open('./students.csv', newline='', encoding='utf-8') as csvfile:\n",
    "        reader = csv.DictReader(csvfile)\n",
    "        for row in reader:\n",
    "            student_dict = {\n",
    "                'student_id': int(row['student_id']),\n",
    "                'f_name': row['f_name'],\n",
    "                'l_name': row['l_name'],\n",
    "                'email': row['email'],\n",
    "                'university': row['university'],\n",
    "                'major': row['major']\n",
    "            }\n",
    "            student_data.append(student_dict)\n",
    "    return student_data\n"
   ]
  },
  {
   "cell_type": "code",
   "execution_count": 5,
   "id": "6dce586d",
   "metadata": {},
   "outputs": [
    {
     "name": "stdout",
     "output_type": "stream",
     "text": [
      "[   {   'email': 'foobar@test.com',\n",
      "        'f_name': 'Foo',\n",
      "        'l_name': 'Bar',\n",
      "        'major': 'Data Science',\n",
      "        'student_id': 101,\n",
      "        'university': 'Harvard'},\n",
      "    {   'email': 'bizbaz@test.com',\n",
      "        'f_name': 'Biz',\n",
      "        'l_name': 'Baz',\n",
      "        'major': '',\n",
      "        'student_id': 102,\n",
      "        'university': ''},\n",
      "    {   'email': 'bingbang@test.com',\n",
      "        'f_name': 'Bing',\n",
      "        'l_name': 'Bang',\n",
      "        'major': 'Computer Science',\n",
      "        'student_id': 103,\n",
      "        'university': 'MIT'}]\n"
     ]
    }
   ],
   "source": [
    "student_data = load_student_data()\n",
    "pprint.pprint(student_data, indent=4, depth=2)\n"
   ]
  },
  {
   "cell_type": "code",
   "execution_count": 6,
   "id": "892eef8f",
   "metadata": {},
   "outputs": [],
   "source": [
    "def create_student_objects(student):\n",
    "    return Student(\n",
    "        student_id = student['student_id'],\n",
    "        f_name = student['f_name'],\n",
    "        l_name = student['l_name'],\n",
    "        university = student['university'],\n",
    "        major = student['major']\n",
    "    )\n"
   ]
  },
  {
   "cell_type": "code",
   "execution_count": 7,
   "id": "ba2c9d01",
   "metadata": {},
   "outputs": [
    {
     "name": "stdout",
     "output_type": "stream",
     "text": [
      "Foo Bar is majoring in Data Science at Harvard.\n",
      "Biz Baz is majoring in  at .\n",
      "Bing Bang is majoring in Computer Science at MIT.\n"
     ]
    }
   ],
   "source": [
    "students = []\n",
    "for student in student_data:\n",
    "    students.append(create_student_objects(student))\n",
    "\n",
    "for student in students:\n",
    "    print(f\"{student.f_name} {student.l_name} is majoring in {student.major} at {student.university}.\")\n"
   ]
  },
  {
   "cell_type": "code",
   "execution_count": 8,
   "id": "434eb7ab",
   "metadata": {},
   "outputs": [
    {
     "name": "stdout",
     "output_type": "stream",
     "text": [
      "Biz Baz: Yale Law School, Law, 3.9 GPA\n"
     ]
    }
   ],
   "source": [
    "yale_student = students[1]\n",
    "yale_student.set_major(\"Law\")\n",
    "yale_student.set_university(\"Yale Law School\")\n",
    "yale_student.set_gpa(3.9)\n",
    "\n",
    "print(f\"{yale_student.f_name} {yale_student.l_name}: {yale_student.university}, {yale_student.major}, {yale_student.get_gpa()} GPA\")\n"
   ]
  },
  {
   "cell_type": "code",
   "execution_count": 9,
   "id": "6654226d",
   "metadata": {},
   "outputs": [
    {
     "name": "stdout",
     "output_type": "stream",
     "text": [
      "Yale Law School\n",
      "Law\n"
     ]
    }
   ],
   "source": [
    "students[1].set_university(yale_student.university)\n",
    "students[1].set_major(yale_student.major)\n",
    "print(students[1].university)\n",
    "print(students[1].major)\n"
   ]
  },
  {
   "cell_type": "code",
   "execution_count": 10,
   "id": "3dddba87",
   "metadata": {},
   "outputs": [
    {
     "name": "stdout",
     "output_type": "stream",
     "text": [
      "Foo Bar is majoring in Data Science at Harvard.\n",
      "Biz Baz is majoring in Law at Yale Law School.\n",
      "Bing Bang is majoring in Computer Science at MIT.\n"
     ]
    }
   ],
   "source": [
    "for student in students:\n",
    "    print(f\"{student.f_name} {student.l_name} is majoring in {student.major} at {student.university}.\")\n"
   ]
  },
  {
   "cell_type": "code",
   "execution_count": null,
   "id": "e9975562-ab54-453b-9424-1a87f988fb83",
   "metadata": {},
   "outputs": [],
   "source": []
  }
 ],
 "metadata": {
  "kernelspec": {
   "display_name": "Python [conda env:base] *",
   "language": "python",
   "name": "conda-base-py"
  },
  "language_info": {
   "codemirror_mode": {
    "name": "ipython",
    "version": 3
   },
   "file_extension": ".py",
   "mimetype": "text/x-python",
   "name": "python",
   "nbconvert_exporter": "python",
   "pygments_lexer": "ipython3",
   "version": "3.12.7"
  }
 },
 "nbformat": 4,
 "nbformat_minor": 5
}
