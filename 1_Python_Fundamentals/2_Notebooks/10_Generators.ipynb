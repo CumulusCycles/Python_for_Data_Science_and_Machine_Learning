{
 "cells": [
  {
   "cell_type": "markdown",
   "id": "5240a4cf",
   "metadata": {},
   "source": [
    "# Generators in Python\n",
    "\n",
    "Generators are a powerful feature in Python that allow you to create iterators in a simple and memory-efficient way. They generate values on-demand (lazy evaluation) rather than storing all values in memory at once.\n",
    "\n",
    "## What are Generators?\n",
    "\n",
    "A generator is a function that returns an iterator object which we can iterate over (one value at a time). They use the `yield` keyword instead of `return`."
   ]
  },
  {
   "cell_type": "markdown",
   "id": "647f9be1",
   "metadata": {},
   "source": [
    "## Basic Generator Function\n",
    "\n",
    "Let's start with a simple generator that yields numbers:"
   ]
  },
  {
   "cell_type": "code",
   "execution_count": null,
   "id": "778fe185",
   "metadata": {},
   "outputs": [],
   "source": [
    "def simple_generator():\n",
    "    yield 1\n",
    "    yield 2\n",
    "    yield 3\n",
    "\n",
    "# Create a generator object\n",
    "gen = simple_generator()\n",
    "print(type(gen))\n",
    "\n",
    "# Use next() to get values one by one\n",
    "print(next(gen))  # 1\n",
    "print(next(gen))  # 2\n",
    "print(next(gen))  # 3"
   ]
  },
  {
   "cell_type": "markdown",
   "id": "a54d0620",
   "metadata": {},
   "source": [
    "## Generator vs Regular Function\n",
    "\n",
    "Let's compare a regular function with a generator:"
   ]
  },
  {
   "cell_type": "code",
   "execution_count": null,
   "id": "a4f2cc78",
   "metadata": {},
   "outputs": [],
   "source": [
    "# Regular function - returns all values at once\n",
    "def regular_function():\n",
    "    result = []\n",
    "    for i in range(5):\n",
    "        result.append(i ** 2)\n",
    "    return result\n",
    "\n",
    "# Generator function - yields values one by one\n",
    "def generator_function():\n",
    "    for i in range(5):\n",
    "        yield i ** 2\n",
    "\n",
    "# Compare memory usage and behavior\n",
    "regular_result = regular_function()\n",
    "generator_result = generator_function()\n",
    "\n",
    "print(\"Regular function result:\", regular_result)\n",
    "print(\"Generator object:\", generator_result)\n",
    "print(\"Generator values:\", list(generator_result))"
   ]
  },
  {
   "cell_type": "markdown",
   "id": "e3fe14ce",
   "metadata": {},
   "source": [
    "## Generator with State (Memory)\n",
    "\n",
    "Generators maintain their state between calls, which is what makes them have \"memory\":"
   ]
  },
  {
   "cell_type": "code",
   "execution_count": null,
   "id": "ff2244c5",
   "metadata": {},
   "outputs": [],
   "source": [
    "def counter_generator():\n",
    "    count = 0\n",
    "    while True:\n",
    "        count += 1\n",
    "        yield count\n",
    "\n",
    "# Create a counter\n",
    "counter = counter_generator()\n",
    "\n",
    "# Each call remembers the previous state\n",
    "print(next(counter))  # 1\n",
    "print(next(counter))  # 2\n",
    "print(next(counter))  # 3\n",
    "print(next(counter))  # 4"
   ]
  },
  {
   "cell_type": "markdown",
   "id": "1ec76441",
   "metadata": {},
   "source": [
    "## Practical Example: Fibonacci Sequence\n",
    "\n",
    "A classic example of generators with memory:"
   ]
  },
  {
   "cell_type": "code",
   "execution_count": null,
   "id": "c32d0cab",
   "metadata": {},
   "outputs": [],
   "source": [
    "def fibonacci_generator():\n",
    "    a, b = 0, 1\n",
    "    while True:\n",
    "        yield a\n",
    "        a, b = b, a + b\n",
    "\n",
    "# Generate first 10 Fibonacci numbers\n",
    "fib = fibonacci_generator()\n",
    "fibonacci_numbers = [next(fib) for _ in range(10)]\n",
    "print(\"First 10 Fibonacci numbers:\", fibonacci_numbers)"
   ]
  },
  {
   "cell_type": "markdown",
   "id": "bbed1e44",
   "metadata": {},
   "source": [
    "## Generator Expressions\n",
    "\n",
    "Similar to list comprehensions, but create generators instead of lists:"
   ]
  },
  {
   "cell_type": "code",
   "execution_count": null,
   "id": "e6126867",
   "metadata": {},
   "outputs": [],
   "source": [
    "# List comprehension - creates entire list in memory\n",
    "squares_list = [x**2 for x in range(10)]\n",
    "print(\"List comprehension:\", squares_list)\n",
    "\n",
    "# Generator expression - creates generator object\n",
    "squares_gen = (x**2 for x in range(10))\n",
    "print(\"Generator expression:\", squares_gen)\n",
    "print(\"Generator values:\", list(squares_gen))"
   ]
  },
  {
   "cell_type": "markdown",
   "id": "7e3836e1",
   "metadata": {},
   "source": [
    "## Advanced Generator: Data Processing Pipeline\n",
    "\n",
    "Generators are excellent for processing large datasets:"
   ]
  },
  {
   "cell_type": "code",
   "execution_count": null,
   "id": "7a099071",
   "metadata": {},
   "outputs": [],
   "source": [
    "def read_data():\n",
    "    \"\"\"Simulate reading data from a large file\"\"\"\n",
    "    data = ['apple', 'banana', 'cherry', 'date', 'elderberry']\n",
    "    for item in data:\n",
    "        yield item\n",
    "\n",
    "def filter_data(data_generator, min_length=5):\n",
    "    \"\"\"Filter data based on length\"\"\"\n",
    "    for item in data_generator:\n",
    "        if len(item) >= min_length:\n",
    "            yield item\n",
    "\n",
    "def transform_data(data_generator):\n",
    "    \"\"\"Transform data to uppercase\"\"\"\n",
    "    for item in data_generator:\n",
    "        yield item.upper()\n",
    "\n",
    "# Create a processing pipeline\n",
    "data = read_data()\n",
    "filtered_data = filter_data(data, min_length=6)\n",
    "transformed_data = transform_data(filtered_data)\n",
    "\n",
    "# Process data lazily\n",
    "result = list(transformed_data)\n",
    "print(\"Processed data:\", result)"
   ]
  },
  {
   "cell_type": "markdown",
   "id": "4d9c8f4a",
   "metadata": {},
   "source": [
    "## Generator with Two-Way Communication\n",
    "\n",
    "Generators can receive values using the `send()` method:"
   ]
  },
  {
   "cell_type": "code",
   "execution_count": null,
   "id": "000faa00",
   "metadata": {},
   "outputs": [],
   "source": [
    "def accumulator():\n",
    "    total = 0\n",
    "    while True:\n",
    "        value = yield total\n",
    "        if value is not None:\n",
    "            total += value\n",
    "\n",
    "# Create accumulator\n",
    "acc = accumulator()\n",
    "next(acc)  # Initialize the generator\n",
    "\n",
    "# Send values and get running total\n",
    "print(acc.send(10))   # 10\n",
    "print(acc.send(5))    # 15\n",
    "print(acc.send(3))    # 18\n",
    "print(acc.send(-2))   # 16"
   ]
  },
  {
   "cell_type": "markdown",
   "id": "77bfa5f8",
   "metadata": {},
   "source": [
    "## Memory Efficiency Demonstration\n",
    "\n",
    "Let's see how generators save memory:"
   ]
  },
  {
   "cell_type": "code",
   "execution_count": null,
   "id": "b0a5dea9",
   "metadata": {},
   "outputs": [],
   "source": [
    "import sys\n",
    "\n",
    "# Large list - uses lots of memory\n",
    "large_list = [x for x in range(100000)]\n",
    "print(f\"List size: {sys.getsizeof(large_list)} bytes\")\n",
    "\n",
    "# Generator - uses minimal memory\n",
    "large_generator = (x for x in range(100000))\n",
    "print(f\"Generator size: {sys.getsizeof(large_generator)} bytes\")\n",
    "\n",
    "# The generator is much smaller!"
   ]
  },
  {
   "cell_type": "markdown",
   "id": "ff32fd81",
   "metadata": {},
   "source": [
    "## Common Use Cases for Generators\n",
    "\n",
    "1. **Reading large files line by line**\n",
    "2. **Processing infinite sequences**\n",
    "3. **Creating data pipelines**\n",
    "4. **Implementing custom iterators**\n",
    "5. **Memory-efficient data processing**"
   ]
  },
  {
   "cell_type": "code",
   "execution_count": null,
   "id": "1a12b4cf",
   "metadata": {},
   "outputs": [],
   "source": [
    "# Example: Reading a file line by line (memory efficient)\n",
    "def read_file_lines(filename):\n",
    "    \"\"\"Generator to read file line by line\"\"\"\n",
    "    try:\n",
    "        with open(filename, 'r') as file:\n",
    "            for line in file:\n",
    "                yield line.strip()\n",
    "    except FileNotFoundError:\n",
    "        print(f\"File {filename} not found\")\n",
    "        return\n",
    "\n",
    "# This would work with any text file\n",
    "# for line in read_file_lines('example.txt'):\n",
    "#     print(line)\n",
    "\n",
    "print(\"File reading generator created (would work with actual files)\")"
   ]
  },
  {
   "cell_type": "markdown",
   "id": "8e31d491",
   "metadata": {},
   "source": [
    "## Exercise: Create Your Own Generator\n",
    "\n",
    "Try creating a generator that produces prime numbers:"
   ]
  },
  {
   "cell_type": "code",
   "execution_count": null,
   "id": "4da0a5a6",
   "metadata": {},
   "outputs": [],
   "source": [
    "def prime_generator():\n",
    "    \"\"\"Generator that yields prime numbers\"\"\"\n",
    "    def is_prime(n):\n",
    "        if n < 2:\n",
    "            return False\n",
    "        for i in range(2, int(n**0.5) + 1):\n",
    "            if n % i == 0:\n",
    "                return False\n",
    "        return True\n",
    "    \n",
    "    num = 2\n",
    "    while True:\n",
    "        if is_prime(num):\n",
    "            yield num\n",
    "        num += 1\n",
    "\n",
    "# Generate first 10 prime numbers\n",
    "primes = prime_generator()\n",
    "first_10_primes = [next(primes) for _ in range(10)]\n",
    "print(\"First 10 prime numbers:\", first_10_primes)"
   ]
  },
  {
   "cell_type": "markdown",
   "id": "a3b49f4a",
   "metadata": {},
   "source": [
    "## Summary\n",
    "\n",
    "Generators are powerful tools in Python that:\n",
    "\n",
    "- **Have memory**: They maintain state between calls\n",
    "- **Are memory-efficient**: They generate values on-demand\n",
    "- **Support lazy evaluation**: Values are computed only when needed\n",
    "- **Enable elegant solutions**: Great for sequences and data processing\n",
    "- **Support two-way communication**: Can receive values via `send()`\n",
    "\n",
    "Use generators when you need to:\n",
    "- Process large datasets without loading everything into memory\n",
    "- Create infinite sequences\n",
    "- Build data processing pipelines\n",
    "- Implement stateful iterators"
   ]
  }
 ],
 "metadata": {
  "language_info": {
   "name": "python"
  }
 },
 "nbformat": 4,
 "nbformat_minor": 5
}
