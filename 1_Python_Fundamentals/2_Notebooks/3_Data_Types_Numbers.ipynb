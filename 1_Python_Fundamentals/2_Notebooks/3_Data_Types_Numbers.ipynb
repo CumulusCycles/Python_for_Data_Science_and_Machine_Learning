{
 "cells": [
  {
   "cell_type": "markdown",
   "id": "fe07283f-6ddd-4851-b5cb-3b19b76b4781",
   "metadata": {},
   "source": [
    "# Built-in Data Types"
   ]
  },
  {
   "cell_type": "markdown",
   "id": "e32319f4-8139-4099-9363-d9075ff50dfd",
   "metadata": {},
   "source": [
    "## Numbers"
   ]
  },
  {
   "cell_type": "code",
   "execution_count": null,
   "id": "76885ab3-0447-4fd3-a699-f1df846b60c8",
   "metadata": {},
   "outputs": [],
   "source": [
    "# Declare variables\n",
    "first_name = \"Foo\"\n",
    "last_name = \"Bar\"\n",
    "age = \"21\"\n",
    "is_student = True\n",
    "bookstore_balance = \"12.75\"\n",
    "meal_credit = \"T\"\n"
   ]
  },
  {
   "cell_type": "code",
   "execution_count": null,
   "id": "2d4ba582-7959-400f-9bd7-1b6e887d4eea",
   "metadata": {},
   "outputs": [],
   "source": [
    "# Print variable values and data types\n",
    "print(f\"first_name ({first_name}) is a {type(first_name)}\")\n",
    "print(f\"last_name ({last_name}) is a {type(last_name)}\")\n",
    "print(f\"age ({age}) is a {type(age)}\")\n",
    "print(f\"is_student ({is_student}) is a {type(is_student)}\")\n",
    "print(f\"bookstore_balance ({bookstore_balance}) is a {type(bookstore_balance)}\")\n",
    "print(f\"meal_credit ({meal_credit}) is a {type(meal_credit)}\")\n"
   ]
  },
  {
   "cell_type": "code",
   "execution_count": null,
   "id": "c83616a7-96c1-4626-bd57-3d94f588ac53",
   "metadata": {},
   "outputs": [],
   "source": [
    "# Convert from String to Number\n",
    "age = int(age)\n",
    "bookstore_balance = float(bookstore_balance)\n",
    "\n",
    "print(f\"age ({age}) is a {type(age)}\")\n",
    "print(f\"bookstore_balance ({bookstore_balance}) is a {type(bookstore_balance)}\")\n"
   ]
  },
  {
   "cell_type": "code",
   "execution_count": null,
   "id": "766205dc-4c8f-4bc5-a9bc-bcd4608d8dce",
   "metadata": {},
   "outputs": [],
   "source": [
    "meal_credit = float(meal_credit)\n",
    "print(f\"meal_credit ({meal_credit}) is a {type(meal_credit)}\")\n"
   ]
  },
  {
   "cell_type": "code",
   "execution_count": null,
   "id": "5f4376da-114e-4dbd-a09d-cfd77a0c4e85",
   "metadata": {},
   "outputs": [],
   "source": [
    "# Error handling\n",
    "try:\n",
    "    meal_credit = float(meal_credit)\n",
    "    print(f\"meal_credit ({meal_credit}) is a {type(meal_credit)}\")\n",
    "except ValueError:\n",
    "    print(f\"meal_credit ({meal_credit}) cannot be converted to a Float.\")\n"
   ]
  },
  {
   "cell_type": "code",
   "execution_count": null,
   "id": "5f6836dc-60ec-4f0c-9b40-0dd1ee811614",
   "metadata": {},
   "outputs": [],
   "source": [
    "# Random Number Generation\n",
    "\n",
    "# Import Python's \"random\" Module\n",
    "import random\n",
    "\n",
    "# Returns random number between 0.0 and 1.0\n",
    "rand = random.random()\n",
    "print(rand)\n",
    "\n",
    "# Declare a List to hold the random numbers\n",
    "rand_nbrs = []\n",
    "min = 1\n",
    "max = 11\n",
    "for i in range(min, max): # 1 - 10, excludes 11\n",
    "    rand_nbrs.append(random.randrange(min, max))\n",
    "\n",
    "print(rand_nbrs)\n"
   ]
  },
  {
   "cell_type": "code",
   "execution_count": null,
   "id": "b1ad3015-7c46-4d44-949a-32e52f4d4c1b",
   "metadata": {},
   "outputs": [],
   "source": [
    "# Get a List of 5 random numbers from the List of rand_nbrs\n",
    "sample = random.sample(rand_nbrs, k=5)\n",
    "print(sample)\n"
   ]
  },
  {
   "cell_type": "code",
   "execution_count": null,
   "id": "b8e10c86-5a40-4467-9eae-45f95c637e76",
   "metadata": {},
   "outputs": [],
   "source": [
    "def calc_sum(nbrs):\n",
    "    \"\"\"\n",
    "    Function to calc the sum of nbrs\n",
    "    \"\"\"\n",
    "    sum = 0\n",
    "    \n",
    "    for nbr in nbrs:\n",
    "        sum += nbr\n",
    "\n",
    "    return sum\n",
    "\n",
    "\n",
    "def calc_avg(nbrs):\n",
    "    \"\"\"\n",
    "    Function to compute the avg of nbrs\n",
    "    \"\"\"\n",
    "    return calc_sum(nbrs) / len(nbrs)\n",
    "\n",
    "\n",
    "print(f\"The sum of sample of numbers ({sample} is {calc_sum(sample)}\")\n",
    "print(f\"The avg of sample of numbers ({sample} is {calc_avg(sample)}\")\n"
   ]
  },
  {
   "cell_type": "code",
   "execution_count": null,
   "id": "15121e66-5ff6-47e9-9c30-fdf2c06c5ef5",
   "metadata": {},
   "outputs": [],
   "source": [
    "def find_median(numbers):\n",
    "    \"\"\"\n",
    "    Finds the median of a list of numbers using only built-in methods.\n",
    "\n",
    "    Args:\n",
    "        numbers: A list of numerical values.\n",
    "\n",
    "    Returns:\n",
    "        The median of the list.\n",
    "    \"\"\"\n",
    "    if not numbers:\n",
    "        raise ValueError(\"Cannot find median of an empty list.\")\n",
    "\n",
    "    sorted_numbers = sorted(numbers)  # Create a sorted copy\n",
    "    n = len(sorted_numbers)\n",
    "\n",
    "    if n % 2 == 1:\n",
    "        # Odd number of elements\n",
    "        median = sorted_numbers[n // 2]\n",
    "    else:\n",
    "        # Even number of elements\n",
    "        middle1 = sorted_numbers[n // 2 - 1]\n",
    "        middle2 = sorted_numbers[n // 2]\n",
    "        median = (middle1 + middle2) / 2\n",
    "    return median\n",
    "\n",
    "print(f\"The median of sample of numbers ({sample} is {find_median(sample)}\")\n"
   ]
  },
  {
   "cell_type": "code",
   "execution_count": null,
   "id": "ec83fd41-7e47-467a-b1a7-0c76407099b6",
   "metadata": {},
   "outputs": [],
   "source": [
    "sample = random.sample(rand_nbrs, k=6)\n",
    "print(sample)\n",
    "print(f\"The median of sample of numbers ({sample} is {find_median(sample)}\")\n"
   ]
  }
 ],
 "metadata": {
  "kernelspec": {
   "display_name": "Python [conda env:base] *",
   "language": "python",
   "name": "conda-base-py"
  },
  "language_info": {
   "codemirror_mode": {
    "name": "ipython",
    "version": 3
   },
   "file_extension": ".py",
   "mimetype": "text/x-python",
   "name": "python",
   "nbconvert_exporter": "python",
   "pygments_lexer": "ipython3",
   "version": "3.12.7"
  }
 },
 "nbformat": 4,
 "nbformat_minor": 5
}
