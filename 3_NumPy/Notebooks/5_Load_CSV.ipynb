{
 "cells": [
  {
   "cell_type": "markdown",
   "id": "85cd6711",
   "metadata": {},
   "source": [
    "# NumPy: Load CSV"
   ]
  },
  {
   "cell_type": "code",
   "execution_count": 1,
   "id": "1d514987",
   "metadata": {},
   "outputs": [],
   "source": [
    "import numpy as np\n"
   ]
  },
  {
   "cell_type": "code",
   "execution_count": 2,
   "id": "70330748",
   "metadata": {},
   "outputs": [],
   "source": [
    "def display_array_elements_type(arr):\n",
    "    for item in arr:\n",
    "        print(f\"{item} is of type {type(item)}\")\n"
   ]
  },
  {
   "cell_type": "code",
   "execution_count": 3,
   "id": "6f11b07f",
   "metadata": {},
   "outputs": [],
   "source": [
    "def display_array_details(arr):\n",
    "    print(type(arr))\n",
    "    print(arr.dtype)\n",
    "    print(\"Dimensions:\", arr.ndim)\n",
    "    print(\"Shape:\", arr.shape)\n",
    "\n",
    "    display_array_elements_type(arr)\n"
   ]
  },
  {
   "cell_type": "code",
   "execution_count": 4,
   "id": "31a3ad58",
   "metadata": {},
   "outputs": [
    {
     "name": "stdout",
     "output_type": "stream",
     "text": [
      "<class 'numpy.ndarray'>\n",
      "<U19\n",
      "Dimensions: 2\n",
      "Shape: (3, 6)\n",
      "['101' '\"Foo\"' '\"Bar\"' '\"foobar@test.com\"' '\"Harvard\"' '\"Data Science\"'] is of type <class 'numpy.ndarray'>\n",
      "['102' '\"Biz\"' '\"Baz\"' '\"bizbaz@test.com\"' '\"\"' '\"\"'] is of type <class 'numpy.ndarray'>\n",
      "['103' '\"Bing\"' '\"Bang\"' '\"bingbang@test.com\"' '\"MIT\"'\n",
      " '\"Computer Science\"'] is of type <class 'numpy.ndarray'>\n",
      "\n"
     ]
    }
   ],
   "source": [
    "# Load the CSV file into a Numpy array, specifying the delimiter and skipping the header row, and setting the data type to string to accommodate mixed data types in the CSV file.\n",
    "student_data = np.loadtxt('students.csv', delimiter=',', skiprows=1, dtype=str)\n",
    "display_array_details(student_data)\n",
    "print()\n"
   ]
  },
  {
   "cell_type": "code",
   "execution_count": 5,
   "id": "acbcf78d",
   "metadata": {},
   "outputs": [],
   "source": [
    "class Person:\n",
    "    \"\"\"\n",
    "    Represents a person with basic details.\n",
    "    \"\"\"\n",
    "    def __init__(self, f_name: str = \"\", l_name: str = \"\", email: str = \"\"):\n",
    "        \"\"\"\n",
    "        Initializes a new person with the given first and last name.\n",
    "\n",
    "        Parameters:\n",
    "            - f_name: The first name of the person.\n",
    "            - l_name: The last name of the person.\n",
    "            - email: The email of the person.\n",
    "        \"\"\"\n",
    "        self.f_name = f_name\n",
    "        self.l_name = l_name\n",
    "        self.email = email\n"
   ]
  },
  {
   "cell_type": "code",
   "execution_count": 6,
   "id": "ed52cb70",
   "metadata": {},
   "outputs": [],
   "source": [
    "class Student(Person):\n",
    "    \"\"\"\n",
    "    Represents a student with their details.\n",
    "    \"\"\"\n",
    "    def __init__(self, student_id: int = 0, f_name: str = \"\", l_name: str = \"\", email: str = \"\", university: str = \"\", major: str = \"Undeclared\"):\n",
    "        \"\"\"\n",
    "        Initializes a new student with the given details.\n",
    "\n",
    "        Parameters:\n",
    "            - student_id: The ID of the student.\n",
    "            - f_name: The first name of the student.\n",
    "            - l_name: The last name of the student.\n",
    "            - email: The email of the student.\n",
    "            - university: The university of the student.\n",
    "            - major: The major of the student.\n",
    "        \"\"\"\n",
    "        super().__init__(f_name, l_name, email)\n",
    "        self.student_id = student_id\n",
    "        self.university = university\n",
    "        self.major = major\n",
    "        self.__gpa = 0.0 # Private attribute for GPA\n",
    "\n",
    "    def set_university(self, university):\n",
    "        self.university = university\n",
    "\n",
    "    def set_major(self, major):\n",
    "        self.major = major\n",
    "\n",
    "    def set_gpa(self, gpa):\n",
    "        self.__gpa = gpa\n",
    "\n",
    "    def get_gpa(self):\n",
    "        return self.__gpa\n"
   ]
  },
  {
   "cell_type": "code",
   "execution_count": 7,
   "id": "461de26a",
   "metadata": {},
   "outputs": [
    {
     "name": "stdout",
     "output_type": "stream",
     "text": [
      "<class 'numpy.ndarray'>\n",
      "object\n",
      "Dimensions: 1\n",
      "Shape: (3,)\n",
      "<__main__.Student object at 0x13338f080> is of type <class '__main__.Student'>\n",
      "<__main__.Student object at 0x13338e5d0> is of type <class '__main__.Student'>\n",
      "<__main__.Student object at 0x13338f1d0> is of type <class '__main__.Student'>\n"
     ]
    }
   ],
   "source": [
    "# Create a Numpy array of Student objects from the loaded CSV data, converting the student_id to an integer.\n",
    "students = np.array([\n",
    "    Student(\n",
    "        student_id=int(row[0]),\n",
    "        f_name=row[1].strip('\"'),\n",
    "        l_name=row[2].strip('\"'),\n",
    "        email=row[3].strip('\"'),\n",
    "        university=row[4].strip('\"'),\n",
    "        major=row[5].strip('\"')\n",
    "    )\n",
    "    for row in student_data\n",
    "])\n",
    "display_array_details(students)\n"
   ]
  },
  {
   "cell_type": "code",
   "execution_count": 8,
   "id": "0084cfdd",
   "metadata": {},
   "outputs": [
    {
     "name": "stdout",
     "output_type": "stream",
     "text": [
      "ID: 101, Name: Foo Bar, Email: foobar@test.com, University: Harvard, Major: Data Science, GPA: 0.0\n",
      "ID: 102, Name: Biz Baz, Email: bizbaz@test.com, University: N/A, Major: Undeclared, GPA: 0.0\n",
      "ID: 103, Name: Bing Bang, Email: bingbang@test.com, University: MIT, Major: Computer Science, GPA: 0.0\n"
     ]
    }
   ],
   "source": [
    "for student in students:\n",
    "    print(f\"ID: {student.student_id}, Name: {student.f_name} {student.l_name}, Email: {student.email}, University: {'N/A' if student.major == '' else student.university}, Major: {'Undeclared' if student.major == '' else student.major}, GPA: {student.get_gpa()}\")\n"
   ]
  },
  {
   "cell_type": "code",
   "execution_count": null,
   "id": "26aa31a5-f4e4-4155-926d-919a6486ead2",
   "metadata": {},
   "outputs": [],
   "source": []
  }
 ],
 "metadata": {
  "kernelspec": {
   "display_name": "Python [conda env:base] *",
   "language": "python",
   "name": "conda-base-py"
  },
  "language_info": {
   "codemirror_mode": {
    "name": "ipython",
    "version": 3
   },
   "file_extension": ".py",
   "mimetype": "text/x-python",
   "name": "python",
   "nbconvert_exporter": "python",
   "pygments_lexer": "ipython3",
   "version": "3.12.7"
  }
 },
 "nbformat": 4,
 "nbformat_minor": 5
}
