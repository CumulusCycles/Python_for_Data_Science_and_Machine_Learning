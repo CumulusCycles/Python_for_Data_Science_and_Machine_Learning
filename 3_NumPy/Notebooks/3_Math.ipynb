{
 "cells": [
  {
   "cell_type": "markdown",
   "id": "22b8b1fd-1a91-4309-8bbe-dc6618768ba5",
   "metadata": {},
   "source": [
    "# NumPy: Math"
   ]
  },
  {
   "cell_type": "code",
   "execution_count": 1,
   "id": "e88bc426-a56f-4f36-9f44-08f6b0037d18",
   "metadata": {},
   "outputs": [],
   "source": [
    "import numpy as np\n"
   ]
  },
  {
   "cell_type": "code",
   "execution_count": 2,
   "id": "21c77643-254f-4aea-a2f4-c57937fda84b",
   "metadata": {},
   "outputs": [],
   "source": [
    "def display_array_details(arr):\n",
    "    print(type(arr))\n",
    "    print(\"Dimensions:\", arr.ndim)\n",
    "    print(\"Shape:\", arr.shape)\n"
   ]
  },
  {
   "cell_type": "markdown",
   "id": "b48059a9-7a69-401b-8553-ce5467f11c33",
   "metadata": {},
   "source": [
    "## Addition / Subtraction"
   ]
  },
  {
   "cell_type": "code",
   "execution_count": 3,
   "id": "8e0cfbe8-e083-436a-9c65-b3f370d2842a",
   "metadata": {},
   "outputs": [
    {
     "name": "stdout",
     "output_type": "stream",
     "text": [
      "<class 'numpy.ndarray'>\n",
      "Dimensions: 1\n",
      "Shape: (3,)\n",
      "[1 3 5]\n",
      "\n",
      "<class 'numpy.ndarray'>\n",
      "Dimensions: 1\n",
      "Shape: (3,)\n",
      "[2 4 6]\n",
      "\n",
      "<class 'numpy.ndarray'>\n",
      "Dimensions: 1\n",
      "Shape: (3,)\n",
      "[ 3  7 11]\n",
      "\n",
      "<class 'numpy.ndarray'>\n",
      "Dimensions: 1\n",
      "Shape: (3,)\n",
      "[1 1 1]\n"
     ]
    }
   ],
   "source": [
    "list_1 = [1, 3, 5]\n",
    "arr1 =  np.array(list_1)\n",
    "display_array_details(arr1)\n",
    "print(arr1)\n",
    "\n",
    "print()\n",
    "list_2 = [2, 4, 6]\n",
    "arr2 =  np.array(list_2)\n",
    "display_array_details(arr2)\n",
    "print(arr2)\n",
    "\n",
    "print()\n",
    "arr3 = arr1 + arr2\n",
    "display_array_details(arr3)\n",
    "print(arr3)\n",
    "\n",
    "print()\n",
    "arr4 = arr2 - arr1\n",
    "display_array_details(arr4)\n",
    "print(arr4)\n"
   ]
  },
  {
   "cell_type": "markdown",
   "id": "9ae39187",
   "metadata": {},
   "source": [
    "## Multiplication / Division"
   ]
  },
  {
   "cell_type": "code",
   "execution_count": 4,
   "id": "1dba396b-83b7-4831-9455-e9794fd47817",
   "metadata": {},
   "outputs": [
    {
     "name": "stdout",
     "output_type": "stream",
     "text": [
      "<class 'numpy.ndarray'>\n",
      "Dimensions: 1\n",
      "Shape: (3,)\n",
      "[ 4  9 16]\n",
      "\n",
      "<class 'numpy.ndarray'>\n",
      "Dimensions: 1\n",
      "Shape: (3,)\n",
      "[2 3 4]\n",
      "\n",
      "<class 'numpy.ndarray'>\n",
      "Dimensions: 1\n",
      "Shape: (3,)\n",
      "[ 8 27 64]\n",
      "\n",
      "<class 'numpy.ndarray'>\n",
      "Dimensions: 1\n",
      "Shape: (3,)\n",
      "[2. 3. 4.]\n"
     ]
    }
   ],
   "source": [
    "list_1 = [4, 9, 16]\n",
    "arr1 =  np.array(list_1)\n",
    "display_array_details(arr1)\n",
    "print(arr1)\n",
    "\n",
    "print()\n",
    "list_2 = [2, 3, 4]\n",
    "arr2 =  np.array(list_2)\n",
    "display_array_details(arr2)\n",
    "print(arr2)\n",
    "\n",
    "print()\n",
    "arr3 = arr1 * arr2\n",
    "display_array_details(arr3)\n",
    "print(arr3)\n",
    "\n",
    "print()\n",
    "arr4 = arr1 / arr2\n",
    "display_array_details(arr4)\n",
    "print(arr4)\n"
   ]
  },
  {
   "cell_type": "markdown",
   "id": "ce811be1",
   "metadata": {},
   "source": [
    "## Universal Functions (ufunct)"
   ]
  },
  {
   "cell_type": "code",
   "execution_count": 5,
   "id": "7fab199d",
   "metadata": {},
   "outputs": [
    {
     "name": "stdout",
     "output_type": "stream",
     "text": [
      "The square root of 4 is 2.0\n",
      "The square roots of [ 4  9 16] are [2. 3. 4.]\n"
     ]
    }
   ],
   "source": [
    "print(f\"The square root of 4 is {np.sqrt(4)}\")\n",
    "\n",
    "arr = np.array([4, 9, 16])\n",
    "print(f\"The square roots of {arr} are {np.sqrt(arr)}\")\n"
   ]
  },
  {
   "cell_type": "code",
   "execution_count": 6,
   "id": "f0a333c7",
   "metadata": {},
   "outputs": [
    {
     "name": "stdout",
     "output_type": "stream",
     "text": [
      "4 ^ 2 is 16\n",
      "The powers of [2 3 4] are [ 4  9 16]\n",
      "Exponentials of [2 3 4] are [ 7.3890561  20.08553692 54.59815003]\n"
     ]
    }
   ],
   "source": [
    "print(f\"4 ^ 2 is {np.power(4, 2)}\")\n",
    "\n",
    "arr = np.array([2, 3, 4])\n",
    "print(f\"The powers of {arr} are {np.power(arr, 2)}\")\n",
    "print(f\"Exponentials of {arr2} are {np.exp(arr2)}\")\n"
   ]
  },
  {
   "cell_type": "code",
   "execution_count": null,
   "id": "c72586e6",
   "metadata": {},
   "outputs": [],
   "source": []
  }
 ],
 "metadata": {
  "kernelspec": {
   "display_name": "Python [conda env:base] *",
   "language": "python",
   "name": "conda-base-py"
  },
  "language_info": {
   "codemirror_mode": {
    "name": "ipython",
    "version": 3
   },
   "file_extension": ".py",
   "mimetype": "text/x-python",
   "name": "python",
   "nbconvert_exporter": "python",
   "pygments_lexer": "ipython3",
   "version": "3.12.7"
  }
 },
 "nbformat": 4,
 "nbformat_minor": 5
}
