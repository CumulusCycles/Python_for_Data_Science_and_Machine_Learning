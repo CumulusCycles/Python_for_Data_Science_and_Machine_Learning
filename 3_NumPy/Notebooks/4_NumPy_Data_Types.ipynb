{
 "cells": [
  {
   "cell_type": "markdown",
   "id": "05923e4f",
   "metadata": {},
   "source": [
    "# NumPy: Data Types"
   ]
  },
  {
   "cell_type": "code",
   "execution_count": 1,
   "id": "c7332578",
   "metadata": {},
   "outputs": [],
   "source": [
    "import numpy as np\n"
   ]
  },
  {
   "cell_type": "markdown",
   "id": "971980b1",
   "metadata": {},
   "source": [
    "Numpy supports a variety of data types for its arrays. The most commonly used data types include:\n",
    "\n",
    "- `i` - integer  \n",
    "- `b` - boolean  \n",
    "- `u` - unsigned integer  \n",
    "- `f` - float  \n",
    "- `c` - complex float  \n",
    "- `m` - timedelta  \n",
    "- `M` - datetime  \n",
    "- `O` - object  \n",
    "- `S` - string  \n"
   ]
  },
  {
   "cell_type": "code",
   "execution_count": 2,
   "id": "98ee46bf",
   "metadata": {},
   "outputs": [],
   "source": [
    "def display_array_elements_type(arr):\n",
    "    for item in arr:\n",
    "        print(f\"{item} is of type {type(item)}\")\n"
   ]
  },
  {
   "cell_type": "code",
   "execution_count": 3,
   "id": "ff66435a",
   "metadata": {},
   "outputs": [],
   "source": [
    "def display_array_details(arr):\n",
    "    print(type(arr))\n",
    "    print(arr.dtype)\n",
    "    print(\"Dimensions:\", arr.ndim)\n",
    "    print(\"Shape:\", arr.shape)\n",
    "\n",
    "    display_array_elements_type(arr)\n"
   ]
  },
  {
   "cell_type": "code",
   "execution_count": 4,
   "id": "b703b889",
   "metadata": {},
   "outputs": [
    {
     "name": "stdout",
     "output_type": "stream",
     "text": [
      "<class 'list'>\n",
      "Foo is of type <class 'str'>\n",
      "Bar is of type <class 'str'>\n",
      "Biz is of type <class 'str'>\n",
      "Baz is of type <class 'str'>\n",
      "\n",
      "<class 'numpy.ndarray'>\n",
      "<U3\n",
      "Dimensions: 1\n",
      "Shape: (4,)\n",
      "Foo is of type <class 'numpy.str_'>\n",
      "Bar is of type <class 'numpy.str_'>\n",
      "Biz is of type <class 'numpy.str_'>\n",
      "Baz is of type <class 'numpy.str_'>\n",
      "\n",
      "<class 'numpy.ndarray'>\n",
      "|S3\n",
      "Dimensions: 1\n",
      "Shape: (4,)\n",
      "b'Foo' is of type <class 'numpy.bytes_'>\n",
      "b'Bar' is of type <class 'numpy.bytes_'>\n",
      "b'Biz' is of type <class 'numpy.bytes_'>\n",
      "b'Baz' is of type <class 'numpy.bytes_'>\n",
      "\n",
      "<class 'numpy.ndarray'>\n",
      "int32\n",
      "Dimensions: 1\n",
      "Shape: (5,)\n",
      "1 is of type <class 'numpy.int32'>\n",
      "2 is of type <class 'numpy.int32'>\n",
      "3 is of type <class 'numpy.int32'>\n",
      "4 is of type <class 'numpy.int32'>\n",
      "5 is of type <class 'numpy.int32'>\n"
     ]
    }
   ],
   "source": [
    "names_list = [\"Foo\", \"Bar\", \"Biz\", \"Baz\"]\n",
    "print(type(names_list))\n",
    "for item in names_list:\n",
    "    print(f\"{item} is of type {type(item)}\")\n",
    "\n",
    "print()\n",
    "arr = np.array(names_list)\n",
    "display_array_details(arr) # U3 = Unicode String, Max 3 characters per element in the array\n",
    "\n",
    "print()\n",
    "arr = np.array([\"Foo\", \"Bar\", \"Biz\", \"Baz\"], dtype='S')\n",
    "display_array_details(arr) # S3 = Byte String, Max 3 characters per element in the array\n",
    "\n",
    "print()\n",
    "# Data Types i, u, f, S can include a size. For example, 'i4' means a 4-byte integer.\n",
    "arr = np.array([1, 2, 3, 4, 5], dtype='i4') # inumpy.int32 is 32-bit integer, which is 4 bytes\n",
    "display_array_details(arr)\n"
   ]
  },
  {
   "cell_type": "code",
   "execution_count": 5,
   "id": "36c050e2",
   "metadata": {},
   "outputs": [
    {
     "name": "stdout",
     "output_type": "stream",
     "text": [
      "<class 'numpy.ndarray'>\n",
      "float64\n",
      "Dimensions: 1\n",
      "Shape: (6,)\n",
      "1.0 is of type <class 'numpy.float64'>\n",
      "2.25 is of type <class 'numpy.float64'>\n",
      "3.5 is of type <class 'numpy.float64'>\n",
      "4.75 is of type <class 'numpy.float64'>\n",
      "5.0 is of type <class 'numpy.float64'>\n",
      "0.0 is of type <class 'numpy.float64'>\n",
      "\n",
      "<class 'numpy.ndarray'>\n",
      "int32\n",
      "Dimensions: 1\n",
      "Shape: (6,)\n",
      "1 is of type <class 'numpy.int32'>\n",
      "2 is of type <class 'numpy.int32'>\n",
      "3 is of type <class 'numpy.int32'>\n",
      "4 is of type <class 'numpy.int32'>\n",
      "5 is of type <class 'numpy.int32'>\n",
      "0 is of type <class 'numpy.int32'>\n"
     ]
    }
   ],
   "source": [
    "# Convert from Float to Integer\n",
    "arr = np.array([1.0, 2.25, 3.5, 4.75, 5,0])\n",
    "display_array_details(arr)\n",
    "\n",
    "print()\n",
    "arr = arr.astype('i')\n",
    "display_array_details(arr)\n"
   ]
  },
  {
   "cell_type": "code",
   "execution_count": null,
   "id": "fcdfcf65-4201-4c82-aec1-34e647a0727c",
   "metadata": {},
   "outputs": [],
   "source": []
  }
 ],
 "metadata": {
  "kernelspec": {
   "display_name": "Python [conda env:base] *",
   "language": "python",
   "name": "conda-base-py"
  },
  "language_info": {
   "codemirror_mode": {
    "name": "ipython",
    "version": 3
   },
   "file_extension": ".py",
   "mimetype": "text/x-python",
   "name": "python",
   "nbconvert_exporter": "python",
   "pygments_lexer": "ipython3",
   "version": "3.12.7"
  }
 },
 "nbformat": 4,
 "nbformat_minor": 5
}
