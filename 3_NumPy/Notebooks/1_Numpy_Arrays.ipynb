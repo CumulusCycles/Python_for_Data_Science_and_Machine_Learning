{
 "cells": [
  {
   "cell_type": "markdown",
   "id": "e159f656-5520-4d07-9385-0383c355463c",
   "metadata": {},
   "source": [
    "# NumPy: Arrays"
   ]
  },
  {
   "cell_type": "code",
   "execution_count": 1,
   "id": "0607e868-afd3-4cd2-a0f8-4bfe2ad0a822",
   "metadata": {},
   "outputs": [],
   "source": [
    "# pip install numpy\n",
    "\n",
    "import numpy as np\n"
   ]
  },
  {
   "cell_type": "code",
   "execution_count": 2,
   "id": "046eb2b9-a784-4d24-a6b2-a113a2025340",
   "metadata": {},
   "outputs": [],
   "source": [
    "def display_array_details(arr):\n",
    "    print(type(arr))\n",
    "    print(\"Dimensions:\", arr.ndim)\n",
    "    print(\"Shape:\", arr.shape)\n"
   ]
  },
  {
   "cell_type": "markdown",
   "id": "e73176d2",
   "metadata": {},
   "source": [
    "### One Dimensional Array"
   ]
  },
  {
   "cell_type": "code",
   "execution_count": 3,
   "id": "5be582aa",
   "metadata": {},
   "outputs": [
    {
     "name": "stdout",
     "output_type": "stream",
     "text": [
      "<class 'numpy.ndarray'>\n",
      "Dimensions: 1\n",
      "Shape: (5,)\n",
      "\n",
      "Array: [1 2 3 4 5]\n",
      "\n",
      "1 2 3 4 5 "
     ]
    }
   ],
   "source": [
    "arr = np.array([1, 2, 3, 4, 5])\n",
    "display_array_details(arr)\n",
    "print(\"\\nArray:\", arr)\n",
    "\n",
    "print()\n",
    "for x in np.nditer(arr):\n",
    "    print(x, end=' ')\n"
   ]
  },
  {
   "cell_type": "markdown",
   "id": "4746ee38",
   "metadata": {},
   "source": [
    "### Multi-Dimensional Arrays"
   ]
  },
  {
   "cell_type": "markdown",
   "id": "7e1ee339",
   "metadata": {},
   "source": [
    "### Two-Dimensional Array"
   ]
  },
  {
   "cell_type": "code",
   "execution_count": 4,
   "id": "0c50b1af",
   "metadata": {},
   "outputs": [
    {
     "name": "stdout",
     "output_type": "stream",
     "text": [
      "<class 'numpy.ndarray'>\n",
      "Dimensions: 2\n",
      "Shape: (2, 3)\n",
      "\n",
      "Array:\n",
      " [[1 2 3]\n",
      " [4 5 6]]\n",
      "\n",
      "1 2 3 4 5 6 "
     ]
    }
   ],
   "source": [
    "arr = np.array([[1, 2, 3], [4, 5, 6]])\n",
    "\n",
    "\"\"\"\n",
    "[\n",
    "\t[1, 2, 3], \n",
    "\t[4, 5, 6]\n",
    "]\n",
    "\"\"\"\n",
    "\n",
    "display_array_details(arr)\n",
    "print(\"\\nArray:\\n\", arr)\n",
    "\n",
    "print()\n",
    "for row in arr:\n",
    "    for value in row:\n",
    "        print(value, end=' ')\n"
   ]
  },
  {
   "cell_type": "markdown",
   "id": "a59191e6",
   "metadata": {},
   "source": [
    "### Three-Dimensional Array"
   ]
  },
  {
   "cell_type": "code",
   "execution_count": 5,
   "id": "b3739bc2",
   "metadata": {},
   "outputs": [
    {
     "name": "stdout",
     "output_type": "stream",
     "text": [
      "<class 'numpy.ndarray'>\n",
      "Dimensions: 3\n",
      "Shape: (2, 2, 3)\n",
      "\n",
      "Array:\n",
      " [[[ 1  2  3]\n",
      "  [ 4  5  6]]\n",
      "\n",
      " [[ 7  8  9]\n",
      "  [10 11 12]]]\n",
      "\n",
      "1 2 3 4 5 6 7 8 9 10 11 12 "
     ]
    }
   ],
   "source": [
    "arr = np.array([[[1, 2, 3], [4, 5, 6]], [[7, 8, 9], [10, 11, 12]]])\n",
    "\n",
    "\"\"\"\n",
    "[\n",
    "\t[\n",
    "\t\t[1, 2, 3], \n",
    "\t\t[4, 5, 6]\n",
    "\t], \n",
    "\t[\n",
    "\t\t[7, 8, 9], \n",
    "\t\t[10, 11, 12]\n",
    "\t]\n",
    "]\n",
    "\"\"\"\n",
    "\n",
    "\n",
    "display_array_details(arr)\n",
    "print(\"\\nArray:\\n\", arr)\n",
    "\n",
    "print()\n",
    "for matrix in arr:\n",
    "    for row in matrix:\n",
    "        for value in row:\n",
    "            print(value, end=' ')\n"
   ]
  },
  {
   "cell_type": "markdown",
   "id": "5170db17",
   "metadata": {},
   "source": [
    "## Array Slicing"
   ]
  },
  {
   "cell_type": "markdown",
   "id": "20eb7ba4",
   "metadata": {},
   "source": [
    "### One Dimension Array\n"
   ]
  },
  {
   "cell_type": "code",
   "execution_count": 6,
   "id": "6a5fba81",
   "metadata": {},
   "outputs": [
    {
     "name": "stdout",
     "output_type": "stream",
     "text": [
      "<class 'numpy.ndarray'>\n",
      "Dimensions: 1\n",
      "Shape: (100,)\n",
      "\n",
      "Original array:\n",
      " [72  8 59 25  5 73 95 68 38 87 79 42 94 74 84 57 71  4  3  1 86 82  6 92\n",
      " 97 86  8 35  5 51 53 48 50 51 68  7 70 79 19 88 18 81 48 80 79 65 83 94\n",
      " 75 45  6 63 38 87 90 51 86 50  7 36 97 27 99 58 60  2 78 45 52 44 71 43\n",
      " 46 15 55 35 10 86 67 18 67 30 14 69 64 10 21 15 96 76 50 85 86 86 20 32\n",
      " 61 28 21 38]\n",
      "\n",
      "Sorted array:\n",
      " [ 1  2  3  4  5  5  6  6  7  7  8  8 10 10 14 15 15 18 18 19 20 21 21 25\n",
      " 27 28 30 32 35 35 36 38 38 38 42 43 44 45 45 46 48 48 50 50 50 51 51 51\n",
      " 52 53 55 57 58 59 60 61 63 64 65 67 67 68 68 69 70 71 71 72 73 74 75 76\n",
      " 78 79 79 79 80 81 82 83 84 85 86 86 86 86 86 86 87 87 88 90 92 94 94 95\n",
      " 96 97 97 99]\n",
      "\n",
      "First 10 elements:\n",
      " [1 2 3 4 5 5 6 6 7 7]\n",
      "\n",
      "Last 10 elements:\n",
      " [88 90 92 94 94 95 96 97 97 99]\n",
      "\n",
      "Every 5th element:\n",
      " [ 1  5  8 15 20 28 36 43 48 51 55 61 67 71 75 79 84 86 88 95]\n",
      "\n",
      "Elements from index 25 to 50:\n",
      " [28 30 32 35 35 36 38 38 38 42 43 44 45 45 46 48 48 50 50 50 51 51 51 52\n",
      " 53 55]\n"
     ]
    }
   ],
   "source": [
    "# Create a numpy array with 100 random data points from 1 to 100\n",
    "arr = np.random.randint(1, 101, size=100)\n",
    "display_array_details(arr)\n",
    "sorted_arr = np.sort(arr)\n",
    "\n",
    "print(\"\\nOriginal array:\\n\", arr)\n",
    "print(\"\\nSorted array:\\n\", sorted_arr)\n",
    "\n",
    "# Slice: first 10 elements\n",
    "print(\"\\nFirst 10 elements:\\n\", sorted_arr[:10])\n",
    "\n",
    "# Slice: last 10 elements\n",
    "print(\"\\nLast 10 elements:\\n\", sorted_arr[-10:])\n",
    "\n",
    "# Slice: every 5th element\n",
    "print(\"\\nEvery 5th element:\\n\", sorted_arr[::5])\n",
    "\n",
    "# Slice: elements from index 25 to 50\n",
    "print(\"\\nElements from index 25 to 50:\\n\", sorted_arr[25:51])\n"
   ]
  },
  {
   "cell_type": "markdown",
   "id": "674a31d9",
   "metadata": {},
   "source": [
    "### Multi-Dimensional Array"
   ]
  },
  {
   "cell_type": "code",
   "execution_count": 7,
   "id": "e2d68d93",
   "metadata": {},
   "outputs": [
    {
     "name": "stdout",
     "output_type": "stream",
     "text": [
      "<class 'numpy.ndarray'>\n",
      "Dimensions: 2\n",
      "Shape: (3, 3)\n",
      "\n",
      "0: [0 1 2]\n",
      "1: [3 4 5]\n",
      "2: [6 7 8]\n",
      "\n",
      "arr[0:2]:\n",
      "[[0 1 2]\n",
      " [3 4 5]]\n",
      "\n",
      "arr[1:]:\n",
      "[[3 4 5]\n",
      " [6 7 8]]\n",
      "\n",
      "arr[0:1, 0]: [0]\n",
      "arr[0:1, 1]: [1 4]\n",
      "arr[0:1, 2]: [2 5 8]\n",
      "\n",
      "arr[1, 1]: 4\n",
      "arr[2, 2]: 8\n"
     ]
    }
   ],
   "source": [
    "arr = np.array([[0, 1, 2], [3, 4, 5], [6, 7, 8]])\n",
    "display_array_details(arr)\n",
    "\n",
    "print()\n",
    "for i, a in enumerate(arr):\n",
    "    print(f\"{i}: {a}\")\n",
    "\n",
    "print(f\"\\narr[0:2]:\\n{arr[0:2]}\")\n",
    "\n",
    "print(f\"\\narr[1:]:\\n{arr[1:]}\")\n",
    "\n",
    "print(f\"\\narr[0:1, 0]: {arr[0:1, 0]}\")\n",
    "print(f\"arr[0:1, 1]: {arr[0:2, 1]}\")\n",
    "print(f\"arr[0:1, 2]: {arr[0:3, 2]}\")\n",
    "\n",
    "print(f\"\\narr[1, 1]: {arr[1, 1]}\")\n",
    "print(f\"arr[2, 2]: {arr[2, 2]}\")\n"
   ]
  },
  {
   "cell_type": "markdown",
   "id": "20668e7b-eed0-4734-9f1c-8648051d5621",
   "metadata": {},
   "source": [
    "## Random Numbers"
   ]
  },
  {
   "cell_type": "markdown",
   "id": "a3767d19-6487-4333-90b7-696cf9387572",
   "metadata": {},
   "source": [
    "### Integers"
   ]
  },
  {
   "cell_type": "code",
   "execution_count": 8,
   "id": "a4a58f31-d14f-49e6-b266-537d66c46441",
   "metadata": {},
   "outputs": [
    {
     "name": "stdout",
     "output_type": "stream",
     "text": [
      "Sorted numbers: [ 0  0  2  2  2  2  2  3  3  3  3  3  3  4  4  4  4  5  5  5  7  7  7  7\n",
      "  7  7  8  8  9  9  9  9  9 10 10 10 10 10 11 11 11 11 11 11 12 12 12 13\n",
      " 13 13 13 14 14 14 14 14 15 15 15 15 16 16 16 16 16 17 17 17 17 17 17 18\n",
      " 18 18 19 20 20 20 20 21 21 21 21 22 22 22 23 23 23 23 23 24 24 24 24 24\n",
      " 24 25 25 25]\n",
      "\n",
      "Sorted numbers: [25 25 26 26 26 27 27 28 28 28 28 28 29 29 30 30 30 30 30 30 30 31 31 31\n",
      " 31 31 31 31 32 32 32 32 33 33 33 33 33 34 34 35 35 35 35 35 36 36 36 36\n",
      " 36 36 37 37 37 37 37 37 37 37 38 38 39 39 39 39 40 40 40 40 40 40 41 41\n",
      " 41 41 42 43 43 43 44 44 45 45 45 45 45 45 47 47 48 48 48 48 48 49 49 49\n",
      " 49 50 50 50]\n",
      "\n",
      "<class 'numpy.ndarray'>\n",
      "Dimensions: 1\n",
      "Shape: (100,)\n",
      "[25 25 26 26 26 27 27 28 28 28 28 28 29 29 30 30 30 30 30 30 30 31 31 31\n",
      " 31 31 31 31 32 32 32 32 33 33 33 33 33 34 34 35 35 35 35 35 36 36 36 36\n",
      " 36 36 37 37 37 37 37 37 37 37 38 38 39 39 39 39 40 40 40 40 40 40 41 41\n",
      " 41 41 42 43 43 43 44 44 45 45 45 45 45 45 47 47 48 48 48 48 48 49 49 49\n",
      " 49 50 50 50]\n",
      "\n",
      "<class 'numpy.ndarray'>\n",
      "Dimensions: 2\n",
      "Shape: (2, 50)\n",
      "[[25 25 26 26 26 27 27 28 28 28 28 28 29 29 30 30 30 30 30 30 30 31 31 31\n",
      "  31 31 31 31 32 32 32 32 33 33 33 33 33 34 34 35 35 35 35 35 36 36 36 36\n",
      "  36 36]\n",
      " [37 37 37 37 37 37 37 37 38 38 39 39 39 39 40 40 40 40 40 40 41 41 41 41\n",
      "  42 43 43 43 44 44 45 45 45 45 45 45 47 47 48 48 48 48 48 49 49 49 49 50\n",
      "  50 50]]\n",
      "\n",
      "<class 'numpy.ndarray'>\n",
      "Dimensions: 2\n",
      "Shape: (4, 25)\n",
      "[[25 25 26 26 26 27 27 28 28 28 28 28 29 29 30 30 30 30 30 30 30 31 31 31\n",
      "  31]\n",
      " [31 31 31 32 32 32 32 33 33 33 33 33 34 34 35 35 35 35 35 36 36 36 36 36\n",
      "  36]\n",
      " [37 37 37 37 37 37 37 37 38 38 39 39 39 39 40 40 40 40 40 40 41 41 41 41\n",
      "  42]\n",
      " [43 43 43 44 44 45 45 45 45 45 45 47 47 48 48 48 48 48 49 49 49 49 50 50\n",
      "  50]]\n",
      "\n",
      "[[40 49 50]\n",
      " [29 50 33]\n",
      " [31 45 43]]\n",
      "\n",
      "[40 49 50 29 50 33 31 45 43]\n"
     ]
    }
   ],
   "source": [
    "rand_nbrs = []\n",
    "min_indx = 1\n",
    "max_indx = 101\n",
    "\n",
    "for i in range(min_indx, max_indx):\n",
    "    rand_nbr = np.random.randint(26) # 0 - 25\n",
    "    rand_nbrs.append(rand_nbr)\n",
    "rand_nbrs = np.sort(rand_nbrs)\n",
    "print(\"Sorted numbers:\", rand_nbrs)\n",
    "\n",
    "print()\n",
    "rand_nbrs = []\n",
    "for i in range(min_indx, max_indx):\n",
    "    rand_nbr = np.random.randint(25, 51)\n",
    "    rand_nbrs.append(rand_nbr)\n",
    "rand_nbrs = np.sort(rand_nbrs)\n",
    "print(\"Sorted numbers:\", rand_nbrs)\n",
    "\n",
    "\n",
    "# Convert from List to np Array\n",
    "print()\n",
    "arr = np.array(rand_nbrs)\n",
    "display_array_details(arr)\n",
    "print(arr)\n",
    "\n",
    "# Reshape Array\n",
    "print()\n",
    "arr = arr.reshape(2, 50)\n",
    "display_array_details(arr)\n",
    "print(arr)\n",
    "\n",
    "print()\n",
    "arr = arr.reshape(4, 25)\n",
    "display_array_details(arr)\n",
    "print(arr)\n",
    "\n",
    "print()\n",
    "rand_nbrs = np.random.randint(25, 51, size=(3, 3)) # 3 rows, 3 cols\n",
    "print(rand_nbrs)\n",
    "\n",
    "# Convert n-dim Array to one-dim\n",
    "print()\n",
    "rand_nbrs = rand_nbrs.ravel()\n",
    "print(rand_nbrs)\n"
   ]
  },
  {
   "cell_type": "markdown",
   "id": "52b720b5-41f1-4967-bb3a-520bcb179abf",
   "metadata": {},
   "source": [
    "### Uniform Distribution"
   ]
  },
  {
   "cell_type": "code",
   "execution_count": 9,
   "id": "8568aa05",
   "metadata": {},
   "outputs": [
    {
     "name": "stdout",
     "output_type": "stream",
     "text": [
      "<class 'numpy.ndarray'>\n",
      "Dimensions: 1\n",
      "Shape: (10,)\n",
      "[0.85507251 0.28416946 0.57028663 0.37896073 0.81215822 0.8224897\n",
      " 0.62011052 0.20030361 0.3092963  0.83357057]\n",
      "\n",
      "<class 'numpy.ndarray'>\n",
      "Dimensions: 2\n",
      "Shape: (3, 3)\n",
      "[[0.71445335 0.78556129 0.93712763]\n",
      " [0.34432821 0.90384783 0.6463385 ]\n",
      " [0.19751981 0.26015909 0.38374869]]\n"
     ]
    }
   ],
   "source": [
    "arr = np.random.rand(10) # 10 random Floats (0 - 1)\n",
    "display_array_details(arr)\n",
    "print(arr)\n",
    "\n",
    "print()\n",
    "\n",
    "arr = np.random.rand(3, 3)\n",
    "display_array_details(arr)\n",
    "print(arr)\n"
   ]
  },
  {
   "cell_type": "markdown",
   "id": "3a94adeb-4775-47bd-97e8-f5eedbc5cc31",
   "metadata": {},
   "source": [
    "### Standard Normal Distribution (μ is = 0, sd = 1)"
   ]
  },
  {
   "cell_type": "code",
   "execution_count": 10,
   "id": "b4261484-c907-4b4d-a5a6-5ea33e06ad6d",
   "metadata": {},
   "outputs": [
    {
     "name": "stdout",
     "output_type": "stream",
     "text": [
      "<class 'numpy.ndarray'>\n",
      "Dimensions: 2\n",
      "Shape: (3, 3)\n",
      "[[ 0.12897287 -0.43441115  1.87274532]\n",
      " [ 0.34400056 -0.33290709 -1.2505359 ]\n",
      " [ 0.58596668 -0.21945411 -0.16793846]]\n"
     ]
    }
   ],
   "source": [
    "arr = np.random.randn(3, 3) \n",
    "display_array_details(arr)\n",
    "print(arr)\n"
   ]
  },
  {
   "cell_type": "code",
   "execution_count": null,
   "id": "fd3f0eff",
   "metadata": {},
   "outputs": [],
   "source": []
  }
 ],
 "metadata": {
  "kernelspec": {
   "display_name": "Python [conda env:base] *",
   "language": "python",
   "name": "conda-base-py"
  },
  "language_info": {
   "codemirror_mode": {
    "name": "ipython",
    "version": 3
   },
   "file_extension": ".py",
   "mimetype": "text/x-python",
   "name": "python",
   "nbconvert_exporter": "python",
   "pygments_lexer": "ipython3",
   "version": "3.12.7"
  }
 },
 "nbformat": 4,
 "nbformat_minor": 5
}
