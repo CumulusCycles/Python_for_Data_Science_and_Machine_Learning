{
 "cells": [
  {
   "cell_type": "markdown",
   "id": "130f66b6",
   "metadata": {},
   "source": [
    "# Plots for README"
   ]
  },
  {
   "cell_type": "markdown",
   "id": "6562f0cf",
   "metadata": {},
   "source": [
    "## Distribution"
   ]
  },
  {
   "cell_type": "code",
   "execution_count": null,
   "id": "d717a921",
   "metadata": {},
   "outputs": [],
   "source": [
    "# pip install numpy matplotlib seaborn \n",
    "import numpy as np\n",
    "import matplotlib.pyplot as plt\n",
    "import seaborn as sns\n"
   ]
  },
  {
   "cell_type": "code",
   "execution_count": null,
   "id": "1f60ac83",
   "metadata": {},
   "outputs": [],
   "source": [
    "# Create a categorical distribution\n",
    "categories = ['A', 'B', 'C', 'D', 'E']\n",
    "counts = [12, 25, 7, 18, 10]\n",
    "\n",
    "# Create a bar chart\n",
    "plt.figure(figsize=(7, 5))\n",
    "sns.barplot(x=categories, y=counts, hue=categories, palette='pastel', legend=False)\n",
    "plt.title('Distribution')\n",
    "plt.xlabel('Category')\n",
    "plt.ylabel('Frequency')\n",
    "plt.show()\n"
   ]
  },
  {
   "cell_type": "markdown",
   "id": "b89c49bd",
   "metadata": {},
   "source": [
    "## Normal Distribution"
   ]
  },
  {
   "cell_type": "code",
   "execution_count": null,
   "id": "40c55597",
   "metadata": {},
   "outputs": [],
   "source": [
    "# Generate random data from a normal distribution\n",
    "data = np.random.normal(loc=0, scale=1, size=1000)\n",
    "\n",
    "# Plot the normal distribution curve (KDE) with a smoother curve\n",
    "plt.figure(figsize=(8, 5))\n",
    "sns.kdeplot(data, color='royalblue', fill=True, linewidth=2, bw_adjust=2)  # Increase bw_adjust for smoothness\n",
    "plt.title('Normal Distribution Curve')\n",
    "plt.xlabel('Value')\n",
    "plt.ylabel('Density')\n",
    "plt.show()\n"
   ]
  },
  {
   "cell_type": "markdown",
   "id": "19666c41",
   "metadata": {},
   "source": [
    "## Standard Deviation / Emperical Rule"
   ]
  },
  {
   "cell_type": "code",
   "execution_count": null,
   "id": "e906c938",
   "metadata": {},
   "outputs": [],
   "source": [
    "# Generate random data from a normal distribution\n",
    "data = np.random.normal(loc=0, scale=1, size=1000)\n",
    "\n",
    "mean = np.mean(data)\n",
    "median = np.median(data)\n",
    "std = np.std(data)\n",
    "\n",
    "plt.figure(figsize=(10, 6))\n",
    "sns.kdeplot(data, color='royalblue', fill=True, linewidth=2, bw_adjust=2)\n",
    "\n",
    "# Plot mean, median, and empirical rule lines\n",
    "plt.axvline(mean, color='red', linestyle='-', linewidth=2, label='Mean')\n",
    "plt.axvline(median, color='green', linestyle='--', linewidth=2, label='Median')\n",
    "plt.axvline(mean - std, color='orange', linestyle='--', linewidth=1.5, label='-1 SD')\n",
    "plt.axvline(mean + std, color='orange', linestyle='--', linewidth=1.5, label='+1 SD')\n",
    "plt.axvline(mean - 2*std, color='purple', linestyle=':', linewidth=1.5, label='-2 SD')\n",
    "plt.axvline(mean + 2*std, color='purple', linestyle=':', linewidth=1.5, label='+2 SD')\n",
    "plt.axvline(mean - 3*std, color='brown', linestyle='-.', linewidth=1.5, label='-3 SD')\n",
    "plt.axvline(mean + 3*std, color='brown', linestyle='-.', linewidth=1.5, label='+3 SD')\n",
    "\n",
    "plt.title('Standard Deviation (Empirical Rule)')\n",
    "plt.xlabel('Value')\n",
    "plt.ylabel('Density')\n",
    "plt.legend()\n",
    "plt.show()\n"
   ]
  }
 ],
 "metadata": {
  "kernelspec": {
   "display_name": "Python [conda env:base] *",
   "language": "python",
   "name": "conda-base-py"
  },
  "language_info": {
   "codemirror_mode": {
    "name": "ipython",
    "version": 3
   },
   "file_extension": ".py",
   "mimetype": "text/x-python",
   "name": "python",
   "nbconvert_exporter": "python",
   "pygments_lexer": "ipython3",
   "version": "3.12.7"
  }
 },
 "nbformat": 4,
 "nbformat_minor": 5
}
