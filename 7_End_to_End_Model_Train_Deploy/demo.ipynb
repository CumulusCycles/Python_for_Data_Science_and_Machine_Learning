{
 "cells": [
  {
   "cell_type": "markdown",
   "id": "afa7057f",
   "metadata": {},
   "source": [
    "### Build, Train, make Predictions, and Evaluate ML Models against the [Pima Indians Diabetes Dataset](https://www.kaggle.com/datasets/uciml/pima-indians-diabetes-database)"
   ]
  },
  {
   "cell_type": "code",
   "execution_count": 1,
   "id": "52743280",
   "metadata": {},
   "outputs": [],
   "source": [
    "import warnings\n",
    "warnings.filterwarnings('ignore')\n",
    "\n",
    "import numpy as np\n",
    "import pandas as pd\n",
    "\n",
    "from sklearn.preprocessing import StandardScaler\n",
    "from sklearn.linear_model import LogisticRegression\n",
    "from sklearn.ensemble import RandomForestClassifier\n",
    "\n",
    "from sklearn.model_selection import train_test_split\n",
    "from sklearn.metrics import confusion_matrix, accuracy_score, classification_report\n",
    "\n",
    "import matplotlib.pyplot as plt\n",
    "import seaborn as sns\n",
    "%matplotlib inline\n"
   ]
  },
  {
   "cell_type": "code",
   "execution_count": 2,
   "id": "a634c836",
   "metadata": {},
   "outputs": [],
   "source": [
    "# Instantiate Classification Models\n",
    "lr = LogisticRegression()\n",
    "rf = RandomForestClassifier(n_estimators=100) # n_estimators is the number of trees in the forest\n"
   ]
  },
  {
   "cell_type": "markdown",
   "id": "4c0fd773",
   "metadata": {},
   "source": [
    "<hr />"
   ]
  },
  {
   "cell_type": "code",
   "execution_count": 3,
   "id": "d139474e",
   "metadata": {},
   "outputs": [
    {
     "name": "stdout",
     "output_type": "stream",
     "text": [
      "\n",
      "<class 'pandas.core.frame.DataFrame'>\n",
      "RangeIndex: 768 entries, 0 to 767\n",
      "Data columns (total 9 columns):\n",
      " #   Column                    Non-Null Count  Dtype  \n",
      "---  ------                    --------------  -----  \n",
      " 0   Pregnancies               768 non-null    int64  \n",
      " 1   Glucose                   768 non-null    int64  \n",
      " 2   BloodPressure             768 non-null    int64  \n",
      " 3   SkinThickness             768 non-null    int64  \n",
      " 4   Insulin                   768 non-null    int64  \n",
      " 5   BMI                       768 non-null    float64\n",
      " 6   DiabetesPedigreeFunction  768 non-null    float64\n",
      " 7   Age                       768 non-null    int64  \n",
      " 8   Outcome                   768 non-null    int64  \n",
      "dtypes: float64(2), int64(7)\n",
      "memory usage: 54.1 KB\n",
      "None\n",
      "Shape: (768, 9)\n",
      "\n",
      "   Pregnancies  Glucose  BloodPressure  SkinThickness  Insulin   BMI  \\\n",
      "0            6      148             72             35        0  33.6   \n",
      "1            1       85             66             29        0  26.6   \n",
      "2            8      183             64              0        0  23.3   \n",
      "3            1       89             66             23       94  28.1   \n",
      "4            0      137             40             35      168  43.1   \n",
      "\n",
      "   DiabetesPedigreeFunction  Age  Outcome  \n",
      "0                     0.627   50        1  \n",
      "1                     0.351   31        0  \n",
      "2                     0.672   32        1  \n",
      "3                     0.167   21        0  \n",
      "4                     2.288   33        1  \n"
     ]
    }
   ],
   "source": [
    "# Install and import kagglehub\n",
    "#%pip install kagglehub -q\n",
    "import kagglehub\n",
    "\n",
    "path_to_dataset = kagglehub.dataset_download(\"uciml/pima-indians-diabetes-database\")\n",
    "df = pd.read_csv(path_to_dataset + \"/diabetes.csv\")\n",
    "\n",
    "print()\n",
    "print(df.info())\n",
    "print(f\"Shape: {df.shape}\")\n",
    "print()\n",
    "print(df.head())\n"
   ]
  },
  {
   "cell_type": "code",
   "execution_count": 4,
   "id": "e379a53b",
   "metadata": {},
   "outputs": [
    {
     "name": "stdout",
     "output_type": "stream",
     "text": [
      "\n",
      "Summary Statistics:\n"
     ]
    },
    {
     "data": {
      "text/html": [
       "<div>\n",
       "<style scoped>\n",
       "    .dataframe tbody tr th:only-of-type {\n",
       "        vertical-align: middle;\n",
       "    }\n",
       "\n",
       "    .dataframe tbody tr th {\n",
       "        vertical-align: top;\n",
       "    }\n",
       "\n",
       "    .dataframe thead th {\n",
       "        text-align: right;\n",
       "    }\n",
       "</style>\n",
       "<table border=\"1\" class=\"dataframe\">\n",
       "  <thead>\n",
       "    <tr style=\"text-align: right;\">\n",
       "      <th></th>\n",
       "      <th>count</th>\n",
       "      <th>mean</th>\n",
       "      <th>std</th>\n",
       "      <th>min</th>\n",
       "      <th>25%</th>\n",
       "      <th>50%</th>\n",
       "      <th>75%</th>\n",
       "      <th>max</th>\n",
       "    </tr>\n",
       "  </thead>\n",
       "  <tbody>\n",
       "    <tr>\n",
       "      <th>Pregnancies</th>\n",
       "      <td>768.0</td>\n",
       "      <td>3.845052</td>\n",
       "      <td>3.369578</td>\n",
       "      <td>0.000</td>\n",
       "      <td>1.00000</td>\n",
       "      <td>3.0000</td>\n",
       "      <td>6.00000</td>\n",
       "      <td>17.00</td>\n",
       "    </tr>\n",
       "    <tr>\n",
       "      <th>Glucose</th>\n",
       "      <td>768.0</td>\n",
       "      <td>120.894531</td>\n",
       "      <td>31.972618</td>\n",
       "      <td>0.000</td>\n",
       "      <td>99.00000</td>\n",
       "      <td>117.0000</td>\n",
       "      <td>140.25000</td>\n",
       "      <td>199.00</td>\n",
       "    </tr>\n",
       "    <tr>\n",
       "      <th>BloodPressure</th>\n",
       "      <td>768.0</td>\n",
       "      <td>69.105469</td>\n",
       "      <td>19.355807</td>\n",
       "      <td>0.000</td>\n",
       "      <td>62.00000</td>\n",
       "      <td>72.0000</td>\n",
       "      <td>80.00000</td>\n",
       "      <td>122.00</td>\n",
       "    </tr>\n",
       "    <tr>\n",
       "      <th>SkinThickness</th>\n",
       "      <td>768.0</td>\n",
       "      <td>20.536458</td>\n",
       "      <td>15.952218</td>\n",
       "      <td>0.000</td>\n",
       "      <td>0.00000</td>\n",
       "      <td>23.0000</td>\n",
       "      <td>32.00000</td>\n",
       "      <td>99.00</td>\n",
       "    </tr>\n",
       "    <tr>\n",
       "      <th>Insulin</th>\n",
       "      <td>768.0</td>\n",
       "      <td>79.799479</td>\n",
       "      <td>115.244002</td>\n",
       "      <td>0.000</td>\n",
       "      <td>0.00000</td>\n",
       "      <td>30.5000</td>\n",
       "      <td>127.25000</td>\n",
       "      <td>846.00</td>\n",
       "    </tr>\n",
       "    <tr>\n",
       "      <th>BMI</th>\n",
       "      <td>768.0</td>\n",
       "      <td>31.992578</td>\n",
       "      <td>7.884160</td>\n",
       "      <td>0.000</td>\n",
       "      <td>27.30000</td>\n",
       "      <td>32.0000</td>\n",
       "      <td>36.60000</td>\n",
       "      <td>67.10</td>\n",
       "    </tr>\n",
       "    <tr>\n",
       "      <th>DiabetesPedigreeFunction</th>\n",
       "      <td>768.0</td>\n",
       "      <td>0.471876</td>\n",
       "      <td>0.331329</td>\n",
       "      <td>0.078</td>\n",
       "      <td>0.24375</td>\n",
       "      <td>0.3725</td>\n",
       "      <td>0.62625</td>\n",
       "      <td>2.42</td>\n",
       "    </tr>\n",
       "    <tr>\n",
       "      <th>Age</th>\n",
       "      <td>768.0</td>\n",
       "      <td>33.240885</td>\n",
       "      <td>11.760232</td>\n",
       "      <td>21.000</td>\n",
       "      <td>24.00000</td>\n",
       "      <td>29.0000</td>\n",
       "      <td>41.00000</td>\n",
       "      <td>81.00</td>\n",
       "    </tr>\n",
       "    <tr>\n",
       "      <th>Outcome</th>\n",
       "      <td>768.0</td>\n",
       "      <td>0.348958</td>\n",
       "      <td>0.476951</td>\n",
       "      <td>0.000</td>\n",
       "      <td>0.00000</td>\n",
       "      <td>0.0000</td>\n",
       "      <td>1.00000</td>\n",
       "      <td>1.00</td>\n",
       "    </tr>\n",
       "  </tbody>\n",
       "</table>\n",
       "</div>"
      ],
      "text/plain": [
       "                          count        mean         std     min       25%  \\\n",
       "Pregnancies               768.0    3.845052    3.369578   0.000   1.00000   \n",
       "Glucose                   768.0  120.894531   31.972618   0.000  99.00000   \n",
       "BloodPressure             768.0   69.105469   19.355807   0.000  62.00000   \n",
       "SkinThickness             768.0   20.536458   15.952218   0.000   0.00000   \n",
       "Insulin                   768.0   79.799479  115.244002   0.000   0.00000   \n",
       "BMI                       768.0   31.992578    7.884160   0.000  27.30000   \n",
       "DiabetesPedigreeFunction  768.0    0.471876    0.331329   0.078   0.24375   \n",
       "Age                       768.0   33.240885   11.760232  21.000  24.00000   \n",
       "Outcome                   768.0    0.348958    0.476951   0.000   0.00000   \n",
       "\n",
       "                               50%        75%     max  \n",
       "Pregnancies                 3.0000    6.00000   17.00  \n",
       "Glucose                   117.0000  140.25000  199.00  \n",
       "BloodPressure              72.0000   80.00000  122.00  \n",
       "SkinThickness              23.0000   32.00000   99.00  \n",
       "Insulin                    30.5000  127.25000  846.00  \n",
       "BMI                        32.0000   36.60000   67.10  \n",
       "DiabetesPedigreeFunction    0.3725    0.62625    2.42  \n",
       "Age                        29.0000   41.00000   81.00  \n",
       "Outcome                     0.0000    1.00000    1.00  "
      ]
     },
     "execution_count": 4,
     "metadata": {},
     "output_type": "execute_result"
    }
   ],
   "source": [
    "print(f\"\\nSummary Statistics:\")\n",
    "df.describe().T\n"
   ]
  },
  {
   "cell_type": "code",
   "execution_count": 5,
   "id": "06ee8790",
   "metadata": {},
   "outputs": [
    {
     "name": "stdout",
     "output_type": "stream",
     "text": [
      "\n",
      "Correlation Values:\n",
      "\n",
      "                          Pregnancies   Glucose  BloodPressure  SkinThickness  \\\n",
      "Pregnancies                  1.000000  0.129459       0.141282      -0.081672   \n",
      "Glucose                      0.129459  1.000000       0.152590       0.057328   \n",
      "BloodPressure                0.141282  0.152590       1.000000       0.207371   \n",
      "SkinThickness               -0.081672  0.057328       0.207371       1.000000   \n",
      "Insulin                     -0.073535  0.331357       0.088933       0.436783   \n",
      "BMI                          0.017683  0.221071       0.281805       0.392573   \n",
      "DiabetesPedigreeFunction    -0.033523  0.137337       0.041265       0.183928   \n",
      "Age                          0.544341  0.263514       0.239528      -0.113970   \n",
      "Outcome                      0.221898  0.466581       0.065068       0.074752   \n",
      "\n",
      "                           Insulin       BMI  DiabetesPedigreeFunction  \\\n",
      "Pregnancies              -0.073535  0.017683                 -0.033523   \n",
      "Glucose                   0.331357  0.221071                  0.137337   \n",
      "BloodPressure             0.088933  0.281805                  0.041265   \n",
      "SkinThickness             0.436783  0.392573                  0.183928   \n",
      "Insulin                   1.000000  0.197859                  0.185071   \n",
      "BMI                       0.197859  1.000000                  0.140647   \n",
      "DiabetesPedigreeFunction  0.185071  0.140647                  1.000000   \n",
      "Age                      -0.042163  0.036242                  0.033561   \n",
      "Outcome                   0.130548  0.292695                  0.173844   \n",
      "\n",
      "                               Age   Outcome  \n",
      "Pregnancies               0.544341  0.221898  \n",
      "Glucose                   0.263514  0.466581  \n",
      "BloodPressure             0.239528  0.065068  \n",
      "SkinThickness            -0.113970  0.074752  \n",
      "Insulin                  -0.042163  0.130548  \n",
      "BMI                       0.036242  0.292695  \n",
      "DiabetesPedigreeFunction  0.033561  0.173844  \n",
      "Age                       1.000000  0.238356  \n",
      "Outcome                   0.238356  1.000000  \n"
     ]
    },
    {
     "data": {
      "image/png": "[encoded data removed]",
      "text/plain": [
       "<Figure size 1200x800 with 2 Axes>"
      ]
     },
     "metadata": {},
     "output_type": "display_data"
    }
   ],
   "source": [
    "# Display Correlation Values\n",
    "print(\"\\nCorrelation Values:\\n\")\n",
    "print(df.corr())\n",
    "\n",
    "# Display Correlation Matrix (heatmap)\n",
    "plt.figure(figsize=(12, 8))\n",
    "sns.heatmap(df.corr(), annot=True, fmt=\".2f\", cmap=\"coolwarm\", square=True)\n",
    "plt.title(\"Correlation Matrix\")\n",
    "plt.show()\n"
   ]
  },
  {
   "cell_type": "markdown",
   "id": "5ae33a1c",
   "metadata": {},
   "source": [
    "<hr />"
   ]
  },
  {
   "cell_type": "code",
   "execution_count": 6,
   "id": "d8624800",
   "metadata": {},
   "outputs": [
    {
     "name": "stdout",
     "output_type": "stream",
     "text": [
      "No missing values found.\n",
      "\n",
      "Columns that have 0 values (excluding ['Pregnancies', 'Outcome']): ['Glucose', 'BloodPressure', 'SkinThickness', 'Insulin', 'BMI']\n",
      "\n",
      "Columns with 0 values:\n",
      "Pregnancies: 111\n",
      "Glucose: 5\n",
      "BloodPressure: 35\n",
      "SkinThickness: 227\n",
      "Insulin: 374\n",
      "BMI: 11\n",
      "Outcome: 500\n"
     ]
    },
    {
     "data": {
      "image/png": "[encoded data removed]",
      "text/plain": [
       "<Figure size 1000x600 with 1 Axes>"
      ]
     },
     "metadata": {},
     "output_type": "display_data"
    },
    {
     "name": "stdout",
     "output_type": "stream",
     "text": [
      "\n",
      "Filling NaN values with median of each column...\n",
      "\n",
      "Columns that have 0 values (excluding ['Pregnancies', 'Outcome']): []\n",
      "\n",
      "Columns with 0 values:\n",
      "Pregnancies: 111\n",
      "Outcome: 500\n"
     ]
    }
   ],
   "source": [
    "# Cleanse the Data\n",
    "\n",
    "# Check for Missing Values\n",
    "df_has_missing_data = df.isnull().values.any()\n",
    "if df_has_missing_data:\n",
    "    print(f\"\\nMissing values:\\n{df.isnull().sum()}\")\n",
    "else:\n",
    "    print(\"No missing values found.\")\n",
    "\n",
    "# Check all for cols that have 0 in cells\n",
    "def find_cols_with_zero_for_value(df):\n",
    "    \"\"\"\n",
    "    Function to find columns that have 0 values (excluding 'Pregnancies' and 'Outcome')\n",
    "    and print the count of 0 values in each column.\n",
    "    \n",
    "    Parameters:\n",
    "        - df: pandas DataFrame\n",
    "    \n",
    "    Returns:\n",
    "        - List of columns that have 0 values (excluding 'Pregnancies' and 'Outcome')\n",
    "    \"\"\"\n",
    "    skip_cols = [\"Pregnancies\", \"Outcome\"]\n",
    "    cols_with_zeros = [col for col in df.columns if col not in skip_cols and (df[col] == 0).any()]\n",
    "    print(f\"\\nColumns that have 0 values (excluding {skip_cols}): {cols_with_zeros}\")\n",
    "\n",
    "    print(\"\\nColumns with 0 values:\")\n",
    "    for col in df.columns:\n",
    "        num_zeros = (df[col] == 0).sum()\n",
    "        if num_zeros > 0:\n",
    "            print(f\"{col}: {num_zeros}\")\n",
    "    \n",
    "    return cols_with_zeros\n",
    "\n",
    "\n",
    "# Replace 0 in Glucose, BloodPressure, SkinThickness, Insulin, BMI with NaN\n",
    "cols_with_zeros = find_cols_with_zero_for_value(df)\n",
    "df[cols_with_zeros] = df[cols_with_zeros].replace(0, np.nan)\n",
    "\n",
    "\n",
    "# Display Bar Plot of Missing of cols with 0 values\n",
    "# Count missing values for columns with zeros\n",
    "missing_counts = df[cols_with_zeros].isnull().sum()\n",
    "\n",
    "# Create bar plot\n",
    "plt.figure(figsize=(10, 6))\n",
    "sns.barplot(x=missing_counts.index, y=missing_counts.values, palette='viridis')\n",
    "plt.title('Missing Values by Column (after replacing 0s with NaN)')\n",
    "plt.xlabel('Columns')\n",
    "plt.ylabel('Number of Missing Values')\n",
    "plt.xticks(rotation=45)\n",
    "plt.tight_layout()\n",
    "plt.show()\n",
    "\n",
    "# Replace cols with NaN with imputed values (median of the column)\n",
    "print(\"\\nFilling NaN values with median of each column...\")\n",
    "df.fillna(df.median(), inplace=True)\n",
    "missing_count = find_cols_with_zero_for_value(df)\n"
   ]
  },
  {
   "cell_type": "code",
   "execution_count": 7,
   "id": "a4f480aa",
   "metadata": {},
   "outputs": [
    {
     "name": "stdout",
     "output_type": "stream",
     "text": [
      "\n",
      "X_train shape: (614, 8), y_train shape: (614,)\n",
      "X_test shape: (154, 8), y_test shape: (154,)\n"
     ]
    }
   ],
   "source": [
    "# Prepare Features and Target Variables\n",
    "# Drop Outcome column to create feature set X and target variable y\n",
    "X = df.drop(\"Outcome\", axis=1)\n",
    "y = df[\"Outcome\"]\n",
    "\n",
    "# Split the data into training and testing sets (80% train, 20% test)\n",
    "X_train, X_test, y_train, y_test = train_test_split(X, y, test_size=0.2, random_state=42)\n",
    "print(f\"\\nX_train shape: {X_train.shape}, y_train shape: {y_train.shape}\")\n",
    "print(f\"X_test shape: {X_test.shape}, y_test shape: {y_test.shape}\")\n"
   ]
  },
  {
   "cell_type": "markdown",
   "id": "4f98606e",
   "metadata": {},
   "source": [
    "<hr />"
   ]
  },
  {
   "cell_type": "code",
   "execution_count": 8,
   "id": "ee7123a0",
   "metadata": {},
   "outputs": [],
   "source": [
    "def check_for_overfitting(model, accuracy, X_train, y_train):\n",
    "    \"\"\"\n",
    "    Check for overfitting by comparing training and test accuracy.\n",
    "    If training accuracy is significantly higher than test accuracy, it may indicate overfitting.\n",
    "    \n",
    "    Parameters:\n",
    "        - model: Trained model to evaluate.\n",
    "        - accuracy: Test accuracy of the model.\n",
    "        - X_train: Training feature set.\n",
    "        - y_train: Training target variable.\n",
    "    \"\"\"\n",
    "    print(f\" Checking for overfitting in model: {model.__class__.__name__}\")\n",
    "\n",
    "    print(\"=\" * 40)\n",
    "    print(f\"Training Accuracy: {model.score(X_train, y_train):.4f}\")\n",
    "    print(f\"Test Accuracy: {accuracy:.4f}\")\n",
    "    print(f\"Difference (Training - Test): {model.score(X_train, y_train) - accuracy:.4f}\")\n",
    "    print()\n",
    "\n",
    "    if model.score(X_train, y_train) - accuracy > 0.1:\n",
    "        print(\"⚠️  OVERFITTING DETECTED: Training accuracy is significantly higher than test accuracy\")\n",
    "    elif model.score(X_train, y_train) - accuracy > 0.05:\n",
    "        print(\"⚠️  POSSIBLE OVERFITTING: Training accuracy is moderately higher than test accuracy\")\n",
    "    else:\n",
    "        print(\"✅ NO SIGNIFICANT OVERFITTING: Training and test accuracies are reasonably close\")\n"
   ]
  },
  {
   "cell_type": "markdown",
   "id": "f0a5554c",
   "metadata": {},
   "source": [
    "<hr />"
   ]
  },
  {
   "cell_type": "code",
   "execution_count": 9,
   "id": "405b348e",
   "metadata": {},
   "outputs": [
    {
     "name": "stdout",
     "output_type": "stream",
     "text": [
      "\n",
      "Training Score: 0.7687296416938111\n",
      "Logistic Regression Accuracy: 0.7727\n",
      "\n",
      "Classification Report:\n",
      "              precision    recall  f1-score   support\n",
      "\n",
      "           0       0.81      0.84      0.83        99\n",
      "           1       0.69      0.65      0.67        55\n",
      "\n",
      "    accuracy                           0.77       154\n",
      "   macro avg       0.75      0.75      0.75       154\n",
      "weighted avg       0.77      0.77      0.77       154\n",
      "\n"
     ]
    }
   ],
   "source": [
    "# Train and evaluate Logistic Regression model\n",
    "lr.fit(X_train, y_train)\n",
    "\n",
    "# Make predictions\n",
    "y_pred_lr = lr.predict(X_test)\n",
    "\n",
    "# Calculate accuracy\n",
    "accuracy_lr = accuracy_score(y_test, y_pred_lr)\n",
    "\n",
    "print(f\"\\nTraining Score: {lr.score(X_train, y_train)}\")\n",
    "print(f\"Logistic Regression Accuracy: {accuracy_lr:.4f}\")\n",
    "print(f\"\\nClassification Report:\")\n",
    "print(classification_report(y_test, y_pred_lr))\n"
   ]
  },
  {
   "cell_type": "code",
   "execution_count": 10,
   "id": "060a28d5",
   "metadata": {},
   "outputs": [
    {
     "name": "stdout",
     "output_type": "stream",
     "text": [
      " Checking for overfitting in model: LogisticRegression\n",
      "========================================\n",
      "Training Accuracy: 0.7687\n",
      "Test Accuracy: 0.7727\n",
      "Difference (Training - Test): -0.0040\n",
      "\n",
      "✅ NO SIGNIFICANT OVERFITTING: Training and test accuracies are reasonably close\n"
     ]
    }
   ],
   "source": [
    "# Determine if Logistic Regression is overfitting\n",
    "check_for_overfitting(lr, accuracy_lr, X_train, y_train)\n"
   ]
  },
  {
   "cell_type": "markdown",
   "id": "531b2cd2",
   "metadata": {},
   "source": [
    "<hr />"
   ]
  },
  {
   "cell_type": "code",
   "execution_count": 11,
   "id": "ca5d5b20",
   "metadata": {},
   "outputs": [
    {
     "name": "stdout",
     "output_type": "stream",
     "text": [
      "\n",
      "Training Score: 1.0\n",
      "Random Forest Accuracy: 0.7662\n",
      "\n",
      "Classification Report:\n",
      "              precision    recall  f1-score   support\n",
      "\n",
      "           0       0.83      0.80      0.81        99\n",
      "           1       0.66      0.71      0.68        55\n",
      "\n",
      "    accuracy                           0.77       154\n",
      "   macro avg       0.75      0.75      0.75       154\n",
      "weighted avg       0.77      0.77      0.77       154\n",
      "\n"
     ]
    }
   ],
   "source": [
    "# Train and evaluate with Random Forest Classifier\n",
    "rf.fit(X_train, y_train)\n",
    "\n",
    "# Make predictions\n",
    "y_pred_rf = rf.predict(X_test)\n",
    "\n",
    "# Calculate accuracy\n",
    "accuracy_rf = accuracy_score(y_test, y_pred_rf)\n",
    "\n",
    "print(f\"\\nTraining Score: {rf.score(X_train, y_train)}\")\n",
    "print(f\"Random Forest Accuracy: {accuracy_rf:.4f}\")\n",
    "print(f\"\\nClassification Report:\")\n",
    "print(classification_report(y_test, y_pred_rf))\n"
   ]
  },
  {
   "cell_type": "code",
   "execution_count": 12,
   "id": "9bb6658f",
   "metadata": {},
   "outputs": [
    {
     "name": "stdout",
     "output_type": "stream",
     "text": [
      " Checking for overfitting in model: RandomForestClassifier\n",
      "========================================\n",
      "Training Accuracy: 1.0000\n",
      "Test Accuracy: 0.7662\n",
      "Difference (Training - Test): 0.2338\n",
      "\n",
      "⚠️  OVERFITTING DETECTED: Training accuracy is significantly higher than test accuracy\n"
     ]
    }
   ],
   "source": [
    "# Determine if Random Forest is overfitting\n",
    "check_for_overfitting(rf, accuracy_rf, X_train, y_train)\n"
   ]
  },
  {
   "cell_type": "markdown",
   "id": "bb4f5146",
   "metadata": {},
   "source": [
    "<hr />"
   ]
  },
  {
   "cell_type": "code",
   "execution_count": 13,
   "id": "88778dd4",
   "metadata": {},
   "outputs": [],
   "source": [
    "def make_prediction(model, scaler, new_sample):\n",
    "    \"\"\"\n",
    "    Make a prediction on a new sample using the provided model and scaler.\n",
    "\n",
    "    Parameters:\n",
    "        - model: Trained machine learning model.\n",
    "        - scaler: Fitted scaler for feature scaling.\n",
    "        - new_sample: New sample data as a 2D numpy array.\n",
    "    \"\"\"\n",
    "    new_sample_scaled = scaler.transform(new_sample)\n",
    "    prediction = model.predict(new_sample_scaled)\n",
    "    print(f\"Prediction for new sample {new_sample[0]}: {'Diabetic' if prediction[0] == 1 else 'Not Diabetic'}\")\n"
   ]
  },
  {
   "cell_type": "markdown",
   "id": "6402f914",
   "metadata": {},
   "source": [
    "<hr />"
   ]
  },
  {
   "cell_type": "code",
   "execution_count": 14,
   "id": "1ea0f92f",
   "metadata": {},
   "outputs": [
    {
     "name": "stdout",
     "output_type": "stream",
     "text": [
      "\n",
      "Columns that have 0 values (excluding ['Pregnancies', 'Outcome']): ['Glucose', 'BloodPressure', 'SkinThickness', 'Insulin', 'BMI']\n",
      "\n",
      "Columns with 0 values:\n",
      "Pregnancies: 111\n",
      "Glucose: 5\n",
      "BloodPressure: 35\n",
      "SkinThickness: 227\n",
      "Insulin: 374\n",
      "BMI: 11\n",
      "Outcome: 500\n"
     ]
    },
    {
     "data": {
      "text/html": [
       "<div>\n",
       "<style scoped>\n",
       "    .dataframe tbody tr th:only-of-type {\n",
       "        vertical-align: middle;\n",
       "    }\n",
       "\n",
       "    .dataframe tbody tr th {\n",
       "        vertical-align: top;\n",
       "    }\n",
       "\n",
       "    .dataframe thead th {\n",
       "        text-align: right;\n",
       "    }\n",
       "</style>\n",
       "<table border=\"1\" class=\"dataframe\">\n",
       "  <thead>\n",
       "    <tr style=\"text-align: right;\">\n",
       "      <th></th>\n",
       "      <th>count</th>\n",
       "      <th>mean</th>\n",
       "      <th>std</th>\n",
       "      <th>min</th>\n",
       "      <th>25%</th>\n",
       "      <th>50%</th>\n",
       "      <th>75%</th>\n",
       "      <th>max</th>\n",
       "    </tr>\n",
       "  </thead>\n",
       "  <tbody>\n",
       "    <tr>\n",
       "      <th>Pregnancies</th>\n",
       "      <td>614.0</td>\n",
       "      <td>-2.748435e-17</td>\n",
       "      <td>1.000815</td>\n",
       "      <td>-1.126063</td>\n",
       "      <td>-0.835435</td>\n",
       "      <td>-0.254181</td>\n",
       "      <td>0.617702</td>\n",
       "      <td>3.814603</td>\n",
       "    </tr>\n",
       "    <tr>\n",
       "      <th>Glucose</th>\n",
       "      <td>614.0</td>\n",
       "      <td>5.062906e-16</td>\n",
       "      <td>1.000815</td>\n",
       "      <td>-2.569188</td>\n",
       "      <td>-0.750318</td>\n",
       "      <td>-0.121981</td>\n",
       "      <td>0.638638</td>\n",
       "      <td>2.523650</td>\n",
       "    </tr>\n",
       "    <tr>\n",
       "      <th>BloodPressure</th>\n",
       "      <td>614.0</td>\n",
       "      <td>-8.679268e-16</td>\n",
       "      <td>1.000815</td>\n",
       "      <td>-4.053128</td>\n",
       "      <td>-0.720387</td>\n",
       "      <td>-0.020079</td>\n",
       "      <td>0.612710</td>\n",
       "      <td>4.112089</td>\n",
       "    </tr>\n",
       "    <tr>\n",
       "      <th>SkinThickness</th>\n",
       "      <td>614.0</td>\n",
       "      <td>6.046557e-15</td>\n",
       "      <td>1.000815</td>\n",
       "      <td>-2.519843</td>\n",
       "      <td>-0.482723</td>\n",
       "      <td>-0.012667</td>\n",
       "      <td>0.394370</td>\n",
       "      <td>7.892101</td>\n",
       "    </tr>\n",
       "    <tr>\n",
       "      <th>Insulin</th>\n",
       "      <td>614.0</td>\n",
       "      <td>-6.130456e-15</td>\n",
       "      <td>1.000815</td>\n",
       "      <td>-1.637603</td>\n",
       "      <td>-0.414719</td>\n",
       "      <td>-0.012279</td>\n",
       "      <td>-0.012279</td>\n",
       "      <td>7.915817</td>\n",
       "    </tr>\n",
       "    <tr>\n",
       "      <th>BMI</th>\n",
       "      <td>614.0</td>\n",
       "      <td>-4.814101e-15</td>\n",
       "      <td>1.000815</td>\n",
       "      <td>-2.064725</td>\n",
       "      <td>-0.719681</td>\n",
       "      <td>-0.024628</td>\n",
       "      <td>0.593168</td>\n",
       "      <td>4.932365</td>\n",
       "    </tr>\n",
       "    <tr>\n",
       "      <th>DiabetesPedigreeFunction</th>\n",
       "      <td>614.0</td>\n",
       "      <td>1.583243e-15</td>\n",
       "      <td>1.000815</td>\n",
       "      <td>-1.166818</td>\n",
       "      <td>-0.686239</td>\n",
       "      <td>-0.292765</td>\n",
       "      <td>0.420595</td>\n",
       "      <td>5.867657</td>\n",
       "    </tr>\n",
       "    <tr>\n",
       "      <th>Age</th>\n",
       "      <td>614.0</td>\n",
       "      <td>-3.471707e-17</td>\n",
       "      <td>1.000815</td>\n",
       "      <td>-1.048981</td>\n",
       "      <td>-0.799114</td>\n",
       "      <td>-0.382668</td>\n",
       "      <td>0.616800</td>\n",
       "      <td>3.948363</td>\n",
       "    </tr>\n",
       "  </tbody>\n",
       "</table>\n",
       "</div>"
      ],
      "text/plain": [
       "                          count          mean       std       min       25%  \\\n",
       "Pregnancies               614.0 -2.748435e-17  1.000815 -1.126063 -0.835435   \n",
       "Glucose                   614.0  5.062906e-16  1.000815 -2.569188 -0.750318   \n",
       "BloodPressure             614.0 -8.679268e-16  1.000815 -4.053128 -0.720387   \n",
       "SkinThickness             614.0  6.046557e-15  1.000815 -2.519843 -0.482723   \n",
       "Insulin                   614.0 -6.130456e-15  1.000815 -1.637603 -0.414719   \n",
       "BMI                       614.0 -4.814101e-15  1.000815 -2.064725 -0.719681   \n",
       "DiabetesPedigreeFunction  614.0  1.583243e-15  1.000815 -1.166818 -0.686239   \n",
       "Age                       614.0 -3.471707e-17  1.000815 -1.048981 -0.799114   \n",
       "\n",
       "                               50%       75%       max  \n",
       "Pregnancies              -0.254181  0.617702  3.814603  \n",
       "Glucose                  -0.121981  0.638638  2.523650  \n",
       "BloodPressure            -0.020079  0.612710  4.112089  \n",
       "SkinThickness            -0.012667  0.394370  7.892101  \n",
       "Insulin                  -0.012279 -0.012279  7.915817  \n",
       "BMI                      -0.024628  0.593168  4.932365  \n",
       "DiabetesPedigreeFunction -0.292765  0.420595  5.867657  \n",
       "Age                      -0.382668  0.616800  3.948363  "
      ]
     },
     "execution_count": 14,
     "metadata": {},
     "output_type": "execute_result"
    }
   ],
   "source": [
    "# Reload the dataset and preprocessg\n",
    "df = pd.read_csv(path_to_dataset + \"/diabetes.csv\")\n",
    "\n",
    "# Cleanse the Data\n",
    "# Replace 0 in Glucose, BloodPressure, SkinThickness, Insulin, BMI with NaN\n",
    "cols_with_zeros = find_cols_with_zero_for_value(df)\n",
    "for col in cols_with_zeros:\n",
    "    df[col] = df[col].replace(0, np.nan)\n",
    "\n",
    "# Replace cols with NaN with imputed values (mean of the column)\n",
    "for col in cols_with_zeros:\n",
    "    df[col].replace(np.nan, df[col].mean(), inplace=True)\n",
    "\n",
    "# Prepare Features and Target Variables\n",
    "X = df.iloc[:, :-1].to_numpy()  # Features (all columns except the last)\n",
    "y = df.iloc[:, -1].to_numpy()   # Target variable (last column)\n",
    "\n",
    "# Split features and target variable\n",
    "X_train, X_test, y_train, y_test = train_test_split(X, y, test_size=0.2, random_state=0)\n",
    "\n",
    "# Scale the Data\n",
    "scaler = StandardScaler()\n",
    "X_train_scaled = scaler.fit_transform(X_train)\n",
    "X_test_scaled = scaler.transform(X_test)\n",
    "\n",
    "pd.DataFrame(X_train_scaled, columns=df.columns[:-1]).describe().T\n"
   ]
  },
  {
   "cell_type": "code",
   "execution_count": 15,
   "id": "609c5092",
   "metadata": {},
   "outputs": [
    {
     "name": "stdout",
     "output_type": "stream",
     "text": [
      " Checking for overfitting in model: XGBClassifier\n",
      "========================================\n",
      "Training Accuracy: 1.0000\n",
      "Test Accuracy: 0.7987\n",
      "Difference (Training - Test): 0.2013\n",
      "\n",
      "⚠️  OVERFITTING DETECTED: Training accuracy is significantly higher than test accuracy\n",
      "[[89 18]\n",
      " [13 34]]\n"
     ]
    },
    {
     "data": {
      "image/png": "[encoded data removed]",
      "text/plain": [
       "<Figure size 800x600 with 2 Axes>"
      ]
     },
     "metadata": {},
     "output_type": "display_data"
    },
    {
     "name": "stdout",
     "output_type": "stream",
     "text": [
      "              precision    recall  f1-score   support\n",
      "\n",
      "           0       0.87      0.83      0.85       107\n",
      "           1       0.65      0.72      0.69        47\n",
      "\n",
      "    accuracy                           0.80       154\n",
      "   macro avg       0.76      0.78      0.77       154\n",
      "weighted avg       0.81      0.80      0.80       154\n",
      "\n",
      "Accuracy: 0.7987012987012987\n"
     ]
    }
   ],
   "source": [
    "# XGBoost Classifier\n",
    "#%pip install xgboost -q\n",
    "from xgboost import XGBClassifier\n",
    "\n",
    "# Instantiate XGBoost Classifier\n",
    "xgb = XGBClassifier(use_label_encoder=False, verbose=0, eval_metric='logloss')\n",
    "\n",
    "# Train and evaluate with XGBoost Classifier\n",
    "xgb.fit(X_train_scaled, y_train)\n",
    "y_pred = xgb.predict(X_test_scaled)\n",
    "accuracy = accuracy_score(y_test, y_pred)\n",
    "\n",
    "# Determine if XGBoost is overfitting\n",
    "check_for_overfitting(xgb, accuracy, X_train_scaled, y_train)\n",
    "\n",
    "print(confusion_matrix(y_test, y_pred))\n",
    "# Display confusion matrix heatmap\n",
    "plt.figure(figsize=(8, 6))\n",
    "cm = confusion_matrix(y_test, y_pred)\n",
    "sns.heatmap(cm, annot=True, fmt='d', cmap='Blues', cbar=True)\n",
    "plt.title('XGBoost Confusion Matrix')\n",
    "plt.xlabel('Predicted')\n",
    "plt.ylabel('Actual')\n",
    "plt.show()\n",
    "\n",
    "print(classification_report(y_test, y_pred))\n",
    "print(f\"Accuracy: {accuracy}\")\n"
   ]
  },
  {
   "cell_type": "code",
   "execution_count": 16,
   "id": "3bf5c71a",
   "metadata": {},
   "outputs": [
    {
     "name": "stdout",
     "output_type": "stream",
     "text": [
      "Prediction for new sample [  6.    148.     72.     35.      0.     33.6     0.627  50.   ]: Diabetic\n",
      "Prediction for new sample [ 1.    85.    66.    29.     0.    26.6    0.351 31.   ]: Not Diabetic\n"
     ]
    }
   ],
   "source": [
    "# Make a prediction on a new sample (Diabetic patient)\n",
    "make_prediction(xgb, scaler, np.array([[6, 148, 72, 35, 0, 33.6, 0.627, 50]]))\n",
    "\n",
    "# Make a prediction on a new sample (Non-Diabetic patient)\n",
    "make_prediction(xgb, scaler, np.array([[1, 85, 66, 29, 0, 26.6, 0.351, 31]]))\n"
   ]
  },
  {
   "cell_type": "markdown",
   "id": "8e95f747",
   "metadata": {},
   "source": [
    "<hr />"
   ]
  },
  {
   "cell_type": "code",
   "execution_count": 17,
   "id": "7dd65653",
   "metadata": {},
   "outputs": [
    {
     "name": "stdout",
     "output_type": "stream",
     "text": [
      "\n",
      "X_train shape: (614, 8), y_train shape: (614,)\n",
      "X_test shape: (154, 8), y_test shape: (154,)\n"
     ]
    }
   ],
   "source": [
    "# Reload the dataset and preprocessg\n",
    "df = pd.read_csv(path_to_dataset + \"/diabetes.csv\")\n",
    "\n",
    "# Prepare Features and Target Variables\n",
    "X = df.drop(columns=[\"Outcome\"], axis=1)\n",
    "y = df[\"Outcome\"]\n",
    "\n",
    "# Scale the Data\n",
    "scaler = StandardScaler()\n",
    "scaler.fit(X)\n",
    "scaled_data = scaler.transform(X)\n",
    "\n",
    "# Update the Features with scaled data\n",
    "X = scaled_data\n",
    "\n",
    "# Split features and target variable\n",
    "X_train, X_test, y_train, y_test = train_test_split(X, y, test_size=0.2, stratify=y, random_state=0)\n",
    "print(f\"\\nX_train shape: {X_train.shape}, y_train shape: {y_train.shape}\")\n",
    "print(f\"X_test shape: {X_test.shape}, y_test shape: {y_test.shape}\")\n",
    "\n"
   ]
  },
  {
   "cell_type": "code",
   "execution_count": 18,
   "id": "05d1b22c",
   "metadata": {},
   "outputs": [
    {
     "name": "stdout",
     "output_type": "stream",
     "text": [
      " Checking for overfitting in model: SVC\n",
      "========================================\n",
      "Training Accuracy: 0.7801\n",
      "Test Accuracy: 0.7792\n",
      "Difference (Training - Test): 0.0009\n",
      "\n",
      "✅ NO SIGNIFICANT OVERFITTING: Training and test accuracies are reasonably close\n",
      "\n",
      "              precision    recall  f1-score   support\n",
      "\n",
      "           0       0.79      0.89      0.84       100\n",
      "           1       0.74      0.57      0.65        54\n",
      "\n",
      "    accuracy                           0.78       154\n",
      "   macro avg       0.77      0.73      0.74       154\n",
      "weighted avg       0.77      0.78      0.77       154\n",
      "\n",
      "Accuracy: 0.7792207792207793\n"
     ]
    }
   ],
   "source": [
    "# SVMC Classifier\n",
    "from sklearn import svm\n",
    "\n",
    "# Instantiate SVMC Classifier\n",
    "svmc = svm.SVC(kernel='linear', C=1.0)\n",
    "\n",
    "# Train and evaluate with SVMC Classifier\n",
    "svmc.fit(X_train, y_train)\n",
    "y_pred = svmc.predict(X_test)\n",
    "accuracy = accuracy_score(y_test, y_pred)\n",
    "\n",
    "# Determine if SVMC is overfitting\n",
    "check_for_overfitting(svmc, accuracy, X_train, y_train)\n",
    "\n",
    "print()\n",
    "print(classification_report(y_test, y_pred))\n",
    "print(f\"Accuracy: {accuracy}\")\n"
   ]
  },
  {
   "cell_type": "code",
   "execution_count": 19,
   "id": "f2ea469b",
   "metadata": {},
   "outputs": [
    {
     "name": "stdout",
     "output_type": "stream",
     "text": [
      "Prediction for new sample [  6.    148.     72.     35.      0.     33.6     0.627  50.   ]: Diabetic\n",
      "Prediction for new sample [ 1.    85.    66.    29.     0.    26.6    0.351 31.   ]: Not Diabetic\n"
     ]
    }
   ],
   "source": [
    "# Make a prediction on a new sample (Diabetic patient)\n",
    "make_prediction(svmc, scaler, np.array([[6, 148, 72, 35, 0, 33.6, 0.627, 50]]))\n",
    "\n",
    "# Make a prediction on a new sample (Non-Diabetic patient)\n",
    "make_prediction(svmc, scaler, np.array([[1, 85, 66, 29, 0, 26.6, 0.351, 31]]))\n"
   ]
  },
  {
   "cell_type": "markdown",
   "id": "7731ec41",
   "metadata": {},
   "source": [
    "<hr />"
   ]
  },
  {
   "cell_type": "code",
   "execution_count": null,
   "id": "8ce9d9c5",
   "metadata": {},
   "outputs": [
    {
     "data": {
      "text/plain": [
       "['pima_diabetes_lr_predicter.joblib']"
      ]
     },
     "execution_count": 25,
     "metadata": {},
     "output_type": "execute_result"
    }
   ],
   "source": [
    "# Save the Linear Regression model using joblib\n",
    "#%pip install joblib -q\n",
    "import joblib\n",
    "\n",
    "joblib.dump(lr, 'pima_diabetes_lr_predicter.joblib')\n"
   ]
  },
  {
   "cell_type": "code",
   "execution_count": 26,
   "id": "5d0a1362",
   "metadata": {},
   "outputs": [
    {
     "name": "stdout",
     "output_type": "stream",
     "text": [
      "Prediction for new sample [  8.    155.     85.     40.    210.     35.2     0.745  45.   ]: Not Diabetic\n",
      "Prediction for new sample [ 2.  90.  70.  30.   0.  25.   0.5 22. ]: Not Diabetic\n"
     ]
    }
   ],
   "source": [
    "# Load the model from the file\n",
    "lr_loaded = joblib.load('pima_diabetes_lr_predicter.joblib')\n",
    "\n",
    "# Make a prediction on a new sample (Diabetic patient) using the loaded model\n",
    "make_prediction(lr_loaded, scaler, np.array([[8, 155, 85, 40, 210, 35.2, 0.745, 45]]))\n",
    "\n",
    "# Make a prediction on a new sample (Non-Diabetic patient) using the loaded model\n",
    "make_prediction(lr_loaded, scaler, np.array([[2, 90, 70, 30, 0, 25.0, 0.500, 22]]))\n"
   ]
  }
 ],
 "metadata": {
  "kernelspec": {
   "display_name": "base",
   "language": "python",
   "name": "python3"
  },
  "language_info": {
   "codemirror_mode": {
    "name": "ipython",
    "version": 3
   },
   "file_extension": ".py",
   "mimetype": "text/x-python",
   "name": "python",
   "nbconvert_exporter": "python",
   "pygments_lexer": "ipython3",
   "version": "3.12.7"
  }
 },
 "nbformat": 4,
 "nbformat_minor": 5
}
