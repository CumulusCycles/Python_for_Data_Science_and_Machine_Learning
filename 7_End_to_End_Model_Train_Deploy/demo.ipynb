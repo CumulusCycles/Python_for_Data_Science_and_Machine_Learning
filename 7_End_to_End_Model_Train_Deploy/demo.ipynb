{
 "cells": [
  {
   "cell_type": "markdown",
   "id": "afa7057f",
   "metadata": {},
   "source": [
    "### Train, make Predictions, and Evaluate ML Models against the [Pima Indians Diabetes Dataset](https://www.kaggle.com/datasets/uciml/pima-indians-diabetes-database), and deploy in Docker"
   ]
  },
  {
   "cell_type": "code",
   "execution_count": null,
   "id": "76448133-4cad-4977-b752-4355fe519820",
   "metadata": {},
   "outputs": [],
   "source": [
    "# Install required libraries\n",
    "%pip install numpy pandas scikit-learn matplotlib seaborn kagglehub xgboost joblib -q\n"
   ]
  },
  {
   "cell_type": "code",
   "execution_count": null,
   "id": "52743280",
   "metadata": {},
   "outputs": [],
   "source": [
    "import warnings\n",
    "warnings.filterwarnings('ignore')\n",
    "\n",
    "import numpy as np\n",
    "import pandas as pd\n",
    "\n",
    "from sklearn.preprocessing import StandardScaler\n",
    "from sklearn.linear_model import LogisticRegression\n",
    "from sklearn.ensemble import RandomForestClassifier\n",
    "\n",
    "from sklearn.model_selection import train_test_split\n",
    "from sklearn.metrics import confusion_matrix, accuracy_score, classification_report\n",
    "\n",
    "import matplotlib.pyplot as plt\n",
    "import seaborn as sns\n",
    "%matplotlib inline\n"
   ]
  },
  {
   "cell_type": "code",
   "execution_count": null,
   "id": "a634c836",
   "metadata": {},
   "outputs": [],
   "source": [
    "# Instantiate Classification Models\n",
    "lr = LogisticRegression()\n",
    "rf = RandomForestClassifier(n_estimators=100) # n_estimators is the number of trees in the forest\n"
   ]
  },
  {
   "cell_type": "markdown",
   "id": "4c0fd773",
   "metadata": {},
   "source": [
    "<hr />\n",
    "\n",
    "## Load Data from Kaggle into Pandas DataFrame"
   ]
  },
  {
   "cell_type": "code",
   "execution_count": null,
   "id": "d139474e",
   "metadata": {},
   "outputs": [],
   "source": [
    "# Install and import kagglehub\n",
    "#%pip install kagglehub -q\n",
    "import kagglehub\n",
    "\n",
    "path_to_dataset = kagglehub.dataset_download(\"uciml/pima-indians-diabetes-database\")\n",
    "df = pd.read_csv(path_to_dataset + \"/diabetes.csv\")\n",
    "\n",
    "print()\n",
    "print(df.info())\n",
    "print(f\"Shape: {df.shape}\")\n",
    "print()\n",
    "print(df.head())\n"
   ]
  },
  {
   "cell_type": "code",
   "execution_count": null,
   "id": "e379a53b",
   "metadata": {},
   "outputs": [],
   "source": [
    "print(f\"\\nSummary Statistics:\")\n",
    "df.describe().T\n"
   ]
  },
  {
   "cell_type": "code",
   "execution_count": null,
   "id": "06ee8790",
   "metadata": {},
   "outputs": [],
   "source": [
    "# Display Correlation Values\n",
    "print(\"\\nCorrelation Values:\\n\")\n",
    "print(df.corr())\n",
    "\n",
    "# Display Correlation Matrix (heatmap)\n",
    "plt.figure(figsize=(12, 8))\n",
    "sns.heatmap(df.corr(), annot=True, fmt=\".2f\", cmap=\"coolwarm\", square=True)\n",
    "plt.title(\"Correlation Matrix\")\n",
    "plt.show()\n"
   ]
  },
  {
   "cell_type": "markdown",
   "id": "5ae33a1c",
   "metadata": {},
   "source": [
    "<hr />\n",
    "\n",
    "## Data Cleansing"
   ]
  },
  {
   "cell_type": "code",
   "execution_count": null,
   "id": "d8624800",
   "metadata": {},
   "outputs": [],
   "source": [
    "# Cleanse the Data\n",
    "\n",
    "# Check for Missing Values\n",
    "df_has_missing_data = df.isnull().values.any()\n",
    "if df_has_missing_data:\n",
    "    print(f\"\\nMissing values:\\n{df.isnull().sum()}\")\n",
    "else:\n",
    "    print(\"No missing values found.\")\n",
    "\n",
    "# Check all for cols that have 0 in cells\n",
    "def find_cols_with_zero_for_value(df):\n",
    "    \"\"\"\n",
    "    Function to find columns that have 0 values (excluding 'Pregnancies' and 'Outcome')\n",
    "    and print the count of 0 values in each column.\n",
    "    \n",
    "    Parameters:\n",
    "        - df: pandas DataFrame\n",
    "    \n",
    "    Returns:\n",
    "        - List of columns that have 0 values (excluding 'Pregnancies' and 'Outcome')\n",
    "    \"\"\"\n",
    "    skip_cols = [\"Pregnancies\", \"Outcome\"]\n",
    "    cols_with_zeros = [col for col in df.columns if col not in skip_cols and (df[col] == 0).any()]\n",
    "    print(f\"\\nColumns that have 0 values (excluding {skip_cols}): {cols_with_zeros}\")\n",
    "\n",
    "    print(\"\\nColumns with 0 values:\")\n",
    "    for col in df.columns:\n",
    "        num_zeros = (df[col] == 0).sum()\n",
    "        if num_zeros > 0:\n",
    "            print(f\"{col}: {num_zeros}\")\n",
    "    \n",
    "    return cols_with_zeros\n",
    "\n",
    "\n",
    "# Replace 0 in Glucose, BloodPressure, SkinThickness, Insulin, BMI with NaN\n",
    "cols_with_zeros = find_cols_with_zero_for_value(df)\n",
    "df[cols_with_zeros] = df[cols_with_zeros].replace(0, np.nan)\n",
    "\n",
    "\n",
    "# Display Bar Plot of Missing of cols with 0 values\n",
    "# Count missing values for columns with zeros\n",
    "missing_counts = df[cols_with_zeros].isnull().sum()\n",
    "\n",
    "# Create bar plot\n",
    "plt.figure(figsize=(10, 6))\n",
    "sns.barplot(x=missing_counts.index, y=missing_counts.values, palette='viridis')\n",
    "plt.title('Missing Values by Column (after replacing 0s with NaN)')\n",
    "plt.xlabel('Columns')\n",
    "plt.ylabel('Number of Missing Values')\n",
    "plt.xticks(rotation=45)\n",
    "plt.tight_layout()\n",
    "plt.show()\n",
    "\n",
    "# Replace cols with NaN with imputed values (median of the column)\n",
    "print(\"\\nFilling NaN values with median of each column...\")\n",
    "df.fillna(df.median(), inplace=True)\n",
    "missing_count = find_cols_with_zero_for_value(df)\n"
   ]
  },
  {
   "cell_type": "code",
   "execution_count": null,
   "id": "a4f480aa",
   "metadata": {},
   "outputs": [],
   "source": [
    "# Prepare Features and Target Variables\n",
    "# Drop Outcome column to create feature set X and target variable y\n",
    "X = df.drop(\"Outcome\", axis=1)\n",
    "y = df[\"Outcome\"]\n",
    "\n",
    "# Split the data into training and testing sets (80% train, 20% test)\n",
    "X_train, X_test, y_train, y_test = train_test_split(X, y, test_size=0.2, random_state=42)\n",
    "print(f\"\\nX_train shape: {X_train.shape}, y_train shape: {y_train.shape}\")\n",
    "print(f\"X_test shape: {X_test.shape}, y_test shape: {y_test.shape}\")\n"
   ]
  },
  {
   "cell_type": "markdown",
   "id": "4f98606e",
   "metadata": {},
   "source": [
    "<hr />\n",
    "\n",
    "## Train Model and Evaluate Performance"
   ]
  },
  {
   "cell_type": "code",
   "execution_count": null,
   "id": "ee7123a0",
   "metadata": {},
   "outputs": [],
   "source": [
    "def check_for_overfitting(model, accuracy, X_train, y_train):\n",
    "    \"\"\"\n",
    "    Check for overfitting by comparing training and test accuracy.\n",
    "    If training accuracy is significantly higher than test accuracy, it may indicate overfitting.\n",
    "    \n",
    "    Parameters:\n",
    "        - model: Trained model to evaluate.\n",
    "        - accuracy: Test accuracy of the model.\n",
    "        - X_train: Training feature set.\n",
    "        - y_train: Training target variable.\n",
    "    \"\"\"\n",
    "    print(f\" Checking for overfitting in model: {model.__class__.__name__}\")\n",
    "\n",
    "    # Get Model Score\n",
    "    model_score = model.score(X_train, y_train) - accuracy\n",
    "    \n",
    "    print(\"=\" * 40)\n",
    "    print(f\"Training Accuracy: {model.score(X_train, y_train):.4f}\")\n",
    "    print(f\"Test Accuracy: {accuracy:.4f}\")\n",
    "    print(f\"Difference (Training - Test): {model_score:.4f}\")\n",
    "    print()\n",
    "\n",
    "    if model_score > 0.1:\n",
    "        print(\"⚠️  OVERFITTING DETECTED: Training accuracy is significantly higher than test accuracy\")\n",
    "    elif model_score > 0.05:\n",
    "        print(\"⚠️  POSSIBLE OVERFITTING: Training accuracy is moderately higher than test accuracy\")\n",
    "    else:\n",
    "        print(\"✅ NO SIGNIFICANT OVERFITTING: Training and test accuracies are reasonably close\")\n"
   ]
  },
  {
   "cell_type": "markdown",
   "id": "f0a5554c",
   "metadata": {},
   "source": [
    "<hr />\n",
    "\n",
    "### Logistic Regression"
   ]
  },
  {
   "cell_type": "code",
   "execution_count": null,
   "id": "405b348e",
   "metadata": {},
   "outputs": [],
   "source": [
    "# Train and evaluate Logistic Regression model\n",
    "lr.fit(X_train, y_train)\n",
    "\n",
    "# Make predictions\n",
    "y_pred_lr = lr.predict(X_test)\n",
    "\n",
    "# Calculate accuracy\n",
    "accuracy_lr = accuracy_score(y_test, y_pred_lr)\n",
    "\n",
    "print(f\"\\nTraining Score: {lr.score(X_train, y_train)}\")\n",
    "print(f\"Logistic Regression Accuracy: {accuracy_lr:.4f}\")\n",
    "print(f\"\\nClassification Report:\")\n",
    "print(classification_report(y_test, y_pred_lr))\n"
   ]
  },
  {
   "cell_type": "code",
   "execution_count": null,
   "id": "060a28d5",
   "metadata": {},
   "outputs": [],
   "source": [
    "# Determine if Logistic Regression is overfitting\n",
    "check_for_overfitting(lr, accuracy_lr, X_train, y_train)\n"
   ]
  },
  {
   "cell_type": "markdown",
   "id": "531b2cd2",
   "metadata": {},
   "source": [
    "<hr />\n",
    "\n",
    "### Random Forest"
   ]
  },
  {
   "cell_type": "code",
   "execution_count": null,
   "id": "ca5d5b20",
   "metadata": {},
   "outputs": [],
   "source": [
    "# Train and evaluate with Random Forest Classifier\n",
    "rf.fit(X_train, y_train)\n",
    "\n",
    "# Make predictions\n",
    "y_pred_rf = rf.predict(X_test)\n",
    "\n",
    "# Calculate accuracy\n",
    "accuracy_rf = accuracy_score(y_test, y_pred_rf)\n",
    "\n",
    "print(f\"\\nTraining Score: {rf.score(X_train, y_train)}\")\n",
    "print(f\"Random Forest Accuracy: {accuracy_rf:.4f}\")\n",
    "print(f\"\\nClassification Report:\")\n",
    "print(classification_report(y_test, y_pred_rf))\n"
   ]
  },
  {
   "cell_type": "code",
   "execution_count": null,
   "id": "9bb6658f",
   "metadata": {},
   "outputs": [],
   "source": [
    "# Determine if Random Forest is overfitting\n",
    "check_for_overfitting(rf, accuracy_rf, X_train, y_train)\n"
   ]
  },
  {
   "cell_type": "markdown",
   "id": "bb4f5146",
   "metadata": {},
   "source": [
    "<hr />\n",
    "\n",
    "## Make Predictions"
   ]
  },
  {
   "cell_type": "code",
   "execution_count": null,
   "id": "88778dd4",
   "metadata": {},
   "outputs": [],
   "source": [
    "def make_prediction(model, scaler, new_sample):\n",
    "    \"\"\"\n",
    "    Make a prediction on a new sample using the provided model and scaler.\n",
    "\n",
    "    Parameters:\n",
    "        - model: Trained machine learning model.\n",
    "        - scaler: Fitted scaler for feature scaling.\n",
    "        - new_sample: New sample data as a 2D numpy array.\n",
    "    \"\"\"\n",
    "    new_sample_scaled = scaler.transform(new_sample)\n",
    "    prediction = model.predict(new_sample_scaled)\n",
    "    print(f\"Prediction for new sample {new_sample[0]}: {'Diabetic' if prediction[0] == 1 else 'Not Diabetic'}\")\n"
   ]
  },
  {
   "cell_type": "markdown",
   "id": "6402f914",
   "metadata": {},
   "source": [
    "<hr />"
   ]
  },
  {
   "cell_type": "code",
   "execution_count": null,
   "id": "1ea0f92f",
   "metadata": {},
   "outputs": [],
   "source": [
    "# Reload the dataset and preprocessg\n",
    "df = pd.read_csv(path_to_dataset + \"/diabetes.csv\")\n",
    "\n",
    "# Cleanse the Data\n",
    "# Replace 0 in Glucose, BloodPressure, SkinThickness, Insulin, BMI with NaN\n",
    "cols_with_zeros = find_cols_with_zero_for_value(df)\n",
    "for col in cols_with_zeros:\n",
    "    df[col] = df[col].replace(0, np.nan)\n",
    "\n",
    "# Replace cols with NaN with imputed values (mean of the column)\n",
    "for col in cols_with_zeros:\n",
    "    df[col].replace(np.nan, df[col].mean(), inplace=True)\n",
    "\n",
    "# Prepare Features and Target Variables\n",
    "X = df.iloc[:, :-1].to_numpy()  # Features (all columns except the last)\n",
    "y = df.iloc[:, -1].to_numpy()   # Target variable (last column)\n",
    "\n",
    "# Split features and target variable\n",
    "X_train, X_test, y_train, y_test = train_test_split(X, y, test_size=0.2, random_state=0)\n",
    "\n",
    "# Scale the Data\n",
    "scaler = StandardScaler()\n",
    "X_train_scaled = scaler.fit_transform(X_train)\n",
    "X_test_scaled = scaler.transform(X_test)\n",
    "\n",
    "pd.DataFrame(X_train_scaled, columns=df.columns[:-1]).describe().T\n"
   ]
  },
  {
   "cell_type": "code",
   "execution_count": null,
   "id": "609c5092",
   "metadata": {},
   "outputs": [],
   "source": [
    "# XGBoost Classifier\n",
    "#%pip install xgboost -q\n",
    "from xgboost import XGBClassifier\n",
    "\n",
    "# Instantiate XGBoost Classifier\n",
    "xgb = XGBClassifier(use_label_encoder=False, verbose=0, eval_metric='logloss')\n",
    "\n",
    "# Train and evaluate with XGBoost Classifier\n",
    "xgb.fit(X_train_scaled, y_train)\n",
    "y_pred = xgb.predict(X_test_scaled)\n",
    "accuracy = accuracy_score(y_test, y_pred)\n",
    "\n",
    "# Determine if XGBoost is overfitting\n",
    "check_for_overfitting(xgb, accuracy, X_train_scaled, y_train)\n",
    "\n",
    "print(confusion_matrix(y_test, y_pred))\n",
    "# Display confusion matrix \n",
    "plt.figure(figsize=(8, 6))\n",
    "cm = confusion_matrix(y_test, y_pred)\n",
    "sns.heatmap(cm, annot=True, fmt='d', cmap='Blues', cbar=True)\n",
    "plt.title('XGBoost Confusion Matrix')\n",
    "plt.xlabel('Predicted')\n",
    "plt.ylabel('Actual')\n",
    "plt.show()\n",
    "\n",
    "print(classification_report(y_test, y_pred))\n",
    "print(f\"Accuracy: {accuracy}\")\n"
   ]
  },
  {
   "cell_type": "code",
   "execution_count": null,
   "id": "3bf5c71a",
   "metadata": {},
   "outputs": [],
   "source": [
    "# Make a prediction on a new sample (Diabetic patient)\n",
    "make_prediction(xgb, scaler, np.array([[6, 148, 72, 35, 0, 33.6, 0.627, 50]]))\n",
    "\n",
    "# Make a prediction on a new sample (Non-Diabetic patient)\n",
    "make_prediction(xgb, scaler, np.array([[1, 85, 66, 29, 0, 26.6, 0.351, 31]]))\n"
   ]
  },
  {
   "cell_type": "markdown",
   "id": "7731ec41",
   "metadata": {},
   "source": [
    "<hr />\n",
    "\n",
    "## Export / Import Model as joblib file"
   ]
  },
  {
   "cell_type": "code",
   "execution_count": null,
   "id": "8ce9d9c5",
   "metadata": {},
   "outputs": [],
   "source": [
    "# Train a new Logistic Regression model with the properly scaled data\n",
    "lr_final = LogisticRegression()\n",
    "lr_final.fit(X_train_scaled, y_train)\n",
    "\n",
    "# Save the Linear Regression model using joblib\n",
    "import joblib\n",
    "\n",
    "joblib.dump(lr_final, 'pima_diabetes_lr_predicter.joblib')"
   ]
  },
  {
   "cell_type": "code",
   "execution_count": null,
   "id": "5d0a1362",
   "metadata": {},
   "outputs": [],
   "source": [
    "# Load the model from the file\n",
    "lr_loaded = joblib.load('pima_diabetes_lr_predicter.joblib')\n",
    "\n",
    "# Make a prediction on a new sample (Diabetic patient) using the loaded model\n",
    "make_prediction(lr_loaded, scaler, np.array([[11, 200, 100, 50, 300, 45.0, 1.2, 60]]))\n",
    "\n",
    "# Make a prediction on a new sample (Non-Diabetic patient) using the loaded model\n",
    "make_prediction(lr_loaded, scaler, np.array([[2, 90, 70, 30, 0, 25.0, 0.500, 22]]))\n"
   ]
  },
  {
   "cell_type": "code",
   "execution_count": null,
   "id": "2b2790ca-da7b-4c8f-9c88-313e71ffc7b2",
   "metadata": {},
   "outputs": [],
   "source": []
  }
 ],
 "metadata": {
  "kernelspec": {
   "display_name": "base",
   "language": "python",
   "name": "python3"
  },
  "language_info": {
   "codemirror_mode": {
    "name": "ipython",
    "version": 3
   },
   "file_extension": ".py",
   "mimetype": "text/x-python",
   "name": "python",
   "nbconvert_exporter": "python",
   "pygments_lexer": "ipython3",
   "version": "3.12.7"
  }
 },
 "nbformat": 4,
 "nbformat_minor": 5
}
