{
 "cells": [
  {
   "cell_type": "markdown",
   "id": "1b169c51",
   "metadata": {},
   "source": [
    "# Pandas: Data Cleaning"
   ]
  },
  {
   "cell_type": "code",
   "execution_count": 1,
   "id": "ba07e739",
   "metadata": {},
   "outputs": [],
   "source": [
    "# pip install pandas\n",
    "\n",
    "import pandas as pd\n"
   ]
  },
  {
   "cell_type": "code",
   "execution_count": 2,
   "id": "8ad96059",
   "metadata": {},
   "outputs": [
    {
     "name": "stdout",
     "output_type": "stream",
     "text": [
      "DataFrame Info:\n",
      "<class 'pandas.core.frame.DataFrame'>\n",
      "RangeIndex: 94 entries, 0 to 93\n",
      "Data columns (total 9 columns):\n",
      " #   Column            Non-Null Count  Dtype  \n",
      "---  ------            --------------  -----  \n",
      " 0   Make              91 non-null     object \n",
      " 1   Model             91 non-null     object \n",
      " 2   Year              91 non-null     float64\n",
      " 3   Mileage           91 non-null     float64\n",
      " 4   Miles Per Gallon  91 non-null     float64\n",
      " 5   engine size       91 non-null     object \n",
      " 6   Transmission      91 non-null     object \n",
      " 7   FuelType          91 non-null     object \n",
      " 8   Price             81 non-null     float64\n",
      "dtypes: float64(4), object(5)\n",
      "memory usage: 6.7+ KB\n",
      "None\n"
     ]
    }
   ],
   "source": [
    "# Load the CSV file into a DataFrame\n",
    "df = pd.read_csv('automobile_data.csv')\n",
    "\n",
    "# Display basic information about the DataFrame\n",
    "print(\"DataFrame Info:\")\n",
    "print(df.info())\n"
   ]
  },
  {
   "cell_type": "code",
   "execution_count": 3,
   "id": "e3b73013",
   "metadata": {},
   "outputs": [
    {
     "name": "stdout",
     "output_type": "stream",
     "text": [
      "\n",
      "Orig Col List:\t\t ['Make', 'Model', 'Year', 'Mileage', 'Miles Per Gallon', 'engine size', 'Transmission', 'FuelType', 'Price']\n",
      "Converted Col List:\t ['make', 'model', 'year', 'mileage', 'miles_per_gallon', 'engine_size', 'transmission', 'fueltype', 'price']\n",
      "Updated Col List:\t ['make', 'model', 'year', 'mileage', 'mpg', 'displacement', 'transmission', 'fueltype', 'price']\n"
     ]
    }
   ],
   "source": [
    "# Display the original column names before any modifications\n",
    "col_list = df.columns.tolist()\n",
    "print(\"\\nOrig Col List:\\t\\t\", col_list)\n",
    "\n",
    "# Convert all column names to lowercase and replace spaces with underscores\n",
    "df.columns = df.columns.str.lower().str.replace(' ', '_')\n",
    "col_list = df.columns.tolist()\n",
    "print(\"Converted Col List:\\t\", col_list)\n",
    "\n",
    "# Rename column(s)\n",
    "df.rename(columns={'miles_per_gallon': 'mpg', 'engine_size': 'displacement'}, inplace=True)\n",
    "col_list = df.columns.tolist()\n",
    "print(\"Updated Col List:\\t\", col_list)\n"
   ]
  },
  {
   "cell_type": "code",
   "execution_count": 6,
   "id": "3fc6d91e",
   "metadata": {},
   "outputs": [
    {
     "name": "stdout",
     "output_type": "stream",
     "text": [
      "           make                model    year  mileage   mpg displacement  \\\n",
      "0       Ferrari              488 GTB  2021.0  12000.0  18.0      3.9L V8   \n",
      "1       Ferrari              488 GTB  2021.0  12000.0  18.0      3.9L V8   \n",
      "2   Lamborghini            Aventador  2020.0   9000.0  15.0     6.5L V12   \n",
      "3   Lamborghini            Aventador  2020.0   9000.0  15.0     6.5L V12   \n",
      "4       Porsche          911 Turbo S  2022.0   8000.0  20.0      3.8L H6   \n",
      "..          ...                  ...     ...      ...   ...          ...   \n",
      "89          BMW                   M1  2021.0   9000.0  17.0      3.5L I6   \n",
      "90         Audi        Quattro Sport  2022.0   7000.0  20.0      2.1L I5   \n",
      "91       Jaguar                XJ220  2021.0   6000.0  17.0      3.5L V6   \n",
      "92        Tesla  Model 3 Performance  2021.0   3000.0  82.0     Electric   \n",
      "93      McLaren                   F1  2022.0  10000.0  15.0     6.1L V12   \n",
      "\n",
      "   transmission  fueltype       price  \n",
      "0     Automatic    Petrol    320000.0  \n",
      "1     Automatic    Petrol    320000.0  \n",
      "2     Automatic    Petrol    400000.0  \n",
      "3     Automatic    Petrol    400000.0  \n",
      "4     Automatic    Petrol    210000.0  \n",
      "..          ...       ...         ...  \n",
      "89       Manual    Petrol    900000.0  \n",
      "90       Manual    Petrol    400000.0  \n",
      "91       Manual    Petrol    500000.0  \n",
      "92    Automatic  Electric     65000.0  \n",
      "93       Manual    Petrol  20000000.0  \n",
      "\n",
      "[94 rows x 9 columns]\n"
     ]
    }
   ],
   "source": [
    "# Display DataFrame data\n",
    "print(df) \n",
    "# print(df.to_string())\n"
   ]
  },
  {
   "cell_type": "code",
   "execution_count": 7,
   "id": "5ec007c2",
   "metadata": {},
   "outputs": [
    {
     "name": "stdout",
     "output_type": "stream",
     "text": [
      "Number of rows before dropping Electric and Hybrid autos: 94\n",
      "Number of rows after dropping Electric and Hybrid autos: 80\n",
      "\n",
      "Updated Col List: ['make', 'model', 'year', 'mpg', 'displacement', 'transmission', 'fueltype', 'price']\n"
     ]
    }
   ],
   "source": [
    "# Drop rows with fueltype col = 'Electric' or 'Hybrid' from the DataFrame\n",
    "print(\"Number of rows before dropping Electric and Hybrid autos:\", len(df))\n",
    "df.drop(df[df['fueltype'].isin(['Electric', 'Hybrid'])].index, inplace=True)\n",
    "print(\"Number of rows after dropping Electric and Hybrid autos:\", len(df))\n",
    "\n",
    "# Drop mileage column from the DataFrame\n",
    "df.drop(columns=['mileage'], inplace=True)\n",
    "\n",
    "col_list = df.columns.tolist()\n",
    "print(\"\\nUpdated Col List:\", col_list)\n"
   ]
  },
  {
   "cell_type": "code",
   "execution_count": 8,
   "id": "993ca6fa",
   "metadata": {},
   "outputs": [
    {
     "name": "stdout",
     "output_type": "stream",
     "text": [
      "Empty Rows in DataFrame:\n",
      "    make model  year  mpg displacement transmission fueltype  price\n",
      "26  NaN   NaN   NaN  NaN          NaN          NaN      NaN    NaN\n",
      "43  NaN   NaN   NaN  NaN          NaN          NaN      NaN    NaN\n",
      "60  NaN   NaN   NaN  NaN          NaN          NaN      NaN    NaN\n",
      "\n",
      "Number of rows before dropping empty rows: 80\n",
      "\n",
      "Empty Rows in DataFrame:\n",
      " Empty DataFrame\n",
      "Columns: [make, model, year, mpg, displacement, transmission, fueltype, price]\n",
      "Index: []\n",
      "\n",
      "Number of rows after dropping empty rows: 77\n"
     ]
    }
   ],
   "source": [
    "# Find empty rows in the DataFrame\n",
    "empty_rows = df[df.isnull().all(axis=1)]\n",
    "print(\"Empty Rows in DataFrame:\\n\", empty_rows)\n",
    "\n",
    "# Drop empty rows from the DataFrame\n",
    "print(\"\\nNumber of rows before dropping empty rows:\", len(df))\n",
    "df.dropna(how='all', inplace=True)\n",
    "empty_rows = df[df.isnull().all(axis=1)]\n",
    "print(\"\\nEmpty Rows in DataFrame:\\n\", empty_rows)\n",
    "print(\"\\nNumber of rows after dropping empty rows:\", len(df))\n"
   ]
  },
  {
   "cell_type": "code",
   "execution_count": 9,
   "id": "45d0fd74",
   "metadata": {},
   "outputs": [
    {
     "name": "stdout",
     "output_type": "stream",
     "text": [
      "\n",
      "Rows with NaN values in DataFrame:\n",
      "             make            model    year   mpg displacement transmission  \\\n",
      "7   Aston Martin             DB11  2022.0  20.0      4.0L V8    Automatic   \n",
      "18       Porsche   Panamera Turbo  2022.0  20.0      4.0L V8    Automatic   \n",
      "22      Maserati   Levante Trofeo  2022.0  16.0      3.8L V8    Automatic   \n",
      "46  Aston Martin       Rapide AMR  2022.0  18.0     6.0L V12    Automatic   \n",
      "52        Jaguar  XE SV Project 8  2022.0  18.0      5.0L V8    Automatic   \n",
      "55       Ferrari        GTC4Lusso  2021.0  15.0     6.3L V12    Automatic   \n",
      "86   Rolls-Royce     Silver Ghost  2022.0  10.0      7.4L I6       Manual   \n",
      "\n",
      "   fueltype  price  \n",
      "7    Petrol    NaN  \n",
      "18   Petrol    NaN  \n",
      "22   Petrol    NaN  \n",
      "46   Petrol    NaN  \n",
      "52   Petrol    NaN  \n",
      "55   Petrol    NaN  \n",
      "86   Petrol    NaN  \n",
      "\n",
      "Number of rows before dropping rows with empty cells: 77\n",
      "\n",
      "Rows with NaN values in DataFrame:\n",
      " Empty DataFrame\n",
      "Columns: [make, model, year, mpg, displacement, transmission, fueltype, price]\n",
      "Index: []\n",
      "\n",
      "Number of rows before dropping rows with empty cells: 70\n"
     ]
    }
   ],
   "source": [
    "# Find any row with NaN values in the DataFrame\n",
    "nan_rows = df[df.isnull().any(axis=1)]\n",
    "print(\"\\nRows with NaN values in DataFrame:\\n\", nan_rows)\n",
    "\n",
    "# Drop rows with any NaN values from the DataFrame\n",
    "print(\"\\nNumber of rows before dropping rows with empty cells:\", len(df))\n",
    "df.dropna(how='any', inplace=True)\n",
    "nan_rows = df[df.isnull().any(axis=1)]\n",
    "print(\"\\nRows with NaN values in DataFrame:\\n\", nan_rows)\n",
    "print(\"\\nNumber of rows before dropping rows with empty cells:\", len(df))\n"
   ]
  },
  {
   "cell_type": "code",
   "execution_count": 10,
   "id": "599f565a",
   "metadata": {},
   "outputs": [
    {
     "name": "stdout",
     "output_type": "stream",
     "text": [
      "\n",
      "Duplicate Rows:\n",
      "           make        model    year   mpg displacement transmission fueltype  \\\n",
      "1      Ferrari      488 GTB  2021.0  18.0      3.9L V8    Automatic   Petrol   \n",
      "3  Lamborghini    Aventador  2020.0  15.0     6.5L V12    Automatic   Petrol   \n",
      "5      Porsche  911 Turbo S  2022.0  20.0      3.8L H6    Automatic   Petrol   \n",
      "\n",
      "      price  \n",
      "1  320000.0  \n",
      "3  400000.0  \n",
      "5  210000.0  \n",
      "\n",
      "Number of rows before removing duplicates: 70\n",
      "Number of rows after removing duplicates: 67\n"
     ]
    }
   ],
   "source": [
    "# Find duplicates in the DataFrame based on all columns\n",
    "duplicates = df[df.duplicated()]\n",
    "print(\"\\nDuplicate Rows:\\n\", duplicates)\n",
    "\n",
    "# Remove duplicate rows from the DataFrame\n",
    "print(\"\\nNumber of rows before removing duplicates:\", len(df))\n",
    "df.drop_duplicates(inplace=True)\n",
    "print(\"Number of rows after removing duplicates:\", len(df))\n"
   ]
  },
  {
   "cell_type": "code",
   "execution_count": null,
   "id": "dfe3ee86-a120-4923-a7e0-c061710140c7",
   "metadata": {},
   "outputs": [],
   "source": []
  }
 ],
 "metadata": {
  "kernelspec": {
   "display_name": "Python [conda env:base] *",
   "language": "python",
   "name": "conda-base-py"
  },
  "language_info": {
   "codemirror_mode": {
    "name": "ipython",
    "version": 3
   },
   "file_extension": ".py",
   "mimetype": "text/x-python",
   "name": "python",
   "nbconvert_exporter": "python",
   "pygments_lexer": "ipython3",
   "version": "3.12.7"
  }
 },
 "nbformat": 4,
 "nbformat_minor": 5
}
