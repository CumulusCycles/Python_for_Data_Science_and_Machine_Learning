{
 "cells": [
  {
   "cell_type": "markdown",
   "id": "18f5a3ec",
   "metadata": {},
   "source": [
    "# Pandas: Data Frames"
   ]
  },
  {
   "cell_type": "code",
   "execution_count": 1,
   "id": "0653d21c",
   "metadata": {},
   "outputs": [],
   "source": [
    "# pip install pandas\n",
    "\n",
    "import pandas as pd\n"
   ]
  },
  {
   "cell_type": "code",
   "execution_count": 2,
   "id": "e2408569",
   "metadata": {},
   "outputs": [
    {
     "name": "stdout",
     "output_type": "stream",
     "text": [
      "DataFrame Info:\n",
      "<class 'pandas.core.frame.DataFrame'>\n",
      "RangeIndex: 5 entries, 0 to 4\n",
      "Data columns (total 4 columns):\n",
      " #   Column       Non-Null Count  Dtype \n",
      "---  ------       --------------  ----- \n",
      " 0   Car          5 non-null      object\n",
      " 1   MPG_City     5 non-null      int64 \n",
      " 2   MPG_Highway  5 non-null      int64 \n",
      " 3   Year         5 non-null      int64 \n",
      "dtypes: int64(3), object(1)\n",
      "memory usage: 292.0+ bytes\n",
      "None\n",
      "\n",
      "DataFrame Shape: (5, 4)\n",
      "\n",
      "DataFrame Columns: ['Car', 'MPG_City', 'MPG_Highway', 'Year']\n",
      "\n",
      "First 5 Rows:\n",
      "                 Car  MPG_City  MPG_Highway  Year\n",
      "0      BMW 7 Series        18           26  2022\n",
      "1  Mercedes S-Class        19           28  2022\n",
      "2           Audi A8        19           27  2022\n",
      "3          Lexus LS        18           29  2022\n",
      "4  Porsche Panamera        18           27  2022\n",
      "\n",
      "Summary Statistics:\n",
      "         MPG_City  MPG_Highway    Year\n",
      "count   5.000000     5.000000     5.0\n",
      "mean   18.400000    27.400000  2022.0\n",
      "std     0.547723     1.140175     0.0\n",
      "min    18.000000    26.000000  2022.0\n",
      "25%    18.000000    27.000000  2022.0\n",
      "50%    18.000000    27.000000  2022.0\n",
      "75%    19.000000    28.000000  2022.0\n",
      "max    19.000000    29.000000  2022.0\n"
     ]
    }
   ],
   "source": [
    "data = {\n",
    "    'Car': ['BMW 7 Series', 'Mercedes S-Class', 'Audi A8', 'Lexus LS', 'Porsche Panamera'],\n",
    "    'MPG_City': [18, 19, 19, 18, 18],\n",
    "    'MPG_Highway': [26, 28, 27, 29, 27],\n",
    "    'Year': [2022, 2022, 2022, 2022, 2022]\n",
    "}\n",
    "\n",
    "# Create a DataFrame from the dictionary\n",
    "df = pd.DataFrame(data)\n",
    "\n",
    "print(\"DataFrame Info:\")\n",
    "print(df.info())\n",
    "\n",
    "print(\"\\nDataFrame Shape:\", df.shape)\n",
    "print(\"\\nDataFrame Columns:\", df.columns.tolist())\n",
    "print(\"\\nFirst 5 Rows:\\n\", df)\n",
    "print(\"\\nSummary Statistics:\\n\", df.describe())\n"
   ]
  },
  {
   "cell_type": "markdown",
   "id": "d28bd86a",
   "metadata": {},
   "source": [
    "## Read CSV"
   ]
  },
  {
   "cell_type": "code",
   "execution_count": 3,
   "id": "b6d02931",
   "metadata": {},
   "outputs": [
    {
     "name": "stdout",
     "output_type": "stream",
     "text": [
      "DataFrame Info:\n",
      "<class 'pandas.core.frame.DataFrame'>\n",
      "RangeIndex: 94 entries, 0 to 93\n",
      "Data columns (total 9 columns):\n",
      " #   Column            Non-Null Count  Dtype  \n",
      "---  ------            --------------  -----  \n",
      " 0   Make              91 non-null     object \n",
      " 1   Model             91 non-null     object \n",
      " 2   Year              91 non-null     float64\n",
      " 3   Mileage           91 non-null     float64\n",
      " 4   Miles Per Gallon  91 non-null     float64\n",
      " 5   engine size       91 non-null     object \n",
      " 6   Transmission      91 non-null     object \n",
      " 7   FuelType          91 non-null     object \n",
      " 8   Price             81 non-null     float64\n",
      "dtypes: float64(4), object(5)\n",
      "memory usage: 6.7+ KB\n",
      "None\n",
      "\n",
      "DataFrame Shape: (94, 9)\n",
      "\n",
      "DataFrame Columns: ['Make', 'Model', 'Year', 'Mileage', 'Miles Per Gallon', 'engine size', 'Transmission', 'FuelType', 'Price']\n",
      "\n",
      "First 3 Rows:\n",
      "           Make      Model    Year  Mileage  Miles Per Gallon engine size  \\\n",
      "0      Ferrari    488 GTB  2021.0  12000.0              18.0     3.9L V8   \n",
      "1      Ferrari    488 GTB  2021.0  12000.0              18.0     3.9L V8   \n",
      "2  Lamborghini  Aventador  2020.0   9000.0              15.0    6.5L V12   \n",
      "\n",
      "  Transmission FuelType     Price  \n",
      "0    Automatic   Petrol  320000.0  \n",
      "1    Automatic   Petrol  320000.0  \n",
      "2    Automatic   Petrol  400000.0  \n",
      "\n",
      "Last 3 Rows:\n",
      "        Make                Model    Year  Mileage  Miles Per Gallon  \\\n",
      "91   Jaguar                XJ220  2021.0   6000.0              17.0   \n",
      "92    Tesla  Model 3 Performance  2021.0   3000.0              82.0   \n",
      "93  McLaren                   F1  2022.0  10000.0              15.0   \n",
      "\n",
      "   engine size Transmission  FuelType       Price  \n",
      "91     3.5L V6       Manual    Petrol    500000.0  \n",
      "92    Electric    Automatic  Electric     65000.0  \n",
      "93    6.1L V12       Manual    Petrol  20000000.0  \n",
      "\n",
      "Summary Statistics:\n",
      "               Year       Mileage  Miles Per Gallon         Price\n",
      "count    91.000000     91.000000         91.000000  8.100000e+01\n",
      "mean   2021.439560   7560.439560         25.241758  1.050864e+06\n",
      "std       0.561917   2655.011158         22.866929  3.792509e+06\n",
      "min    2020.000000   3000.000000          8.000000  4.000000e+04\n",
      "25%    2021.000000   5500.000000         15.000000  1.350000e+05\n",
      "50%    2021.000000   8000.000000         17.000000  2.200000e+05\n",
      "75%    2022.000000   9000.000000         20.000000  3.500000e+05\n",
      "max    2022.000000  15000.000000        102.000000  2.800000e+07\n"
     ]
    }
   ],
   "source": [
    "# Load the CSV file into a DataFrame\n",
    "df = pd.read_csv('automobile_data.csv')\n",
    "\n",
    "# Display basic information about the DataFrame\n",
    "print(\"DataFrame Info:\")\n",
    "print(df.info())\n",
    "\n",
    "print(\"\\nDataFrame Shape:\", df.shape)\n",
    "print(\"\\nDataFrame Columns:\", df.columns.tolist())\n",
    "print(\"\\nFirst 3 Rows:\\n\", df.head(3))\n",
    "print(\"\\nLast 3 Rows:\\n\", df.tail(3))\n",
    "print(\"\\nSummary Statistics:\\n\", df.describe())\n"
   ]
  },
  {
   "cell_type": "markdown",
   "id": "edec4b7f",
   "metadata": {},
   "source": [
    "## Filterting DataFrames"
   ]
  },
  {
   "cell_type": "code",
   "execution_count": 4,
   "id": "035a0227",
   "metadata": {},
   "outputs": [
    {
     "name": "stdout",
     "output_type": "stream",
     "text": [
      "0        Ferrari\n",
      "1        Ferrari\n",
      "2    Lamborghini\n",
      "3    Lamborghini\n",
      "4        Porsche\n",
      "Name: Make, dtype: object\n",
      "\n",
      "0         Ferrari\n",
      "1         Ferrari\n",
      "2     Lamborghini\n",
      "3     Lamborghini\n",
      "4         Porsche\n",
      "5         Porsche\n",
      "6         Bentley\n",
      "7    Aston Martin\n",
      "8     Rolls-Royce\n",
      "9        Maserati\n",
      "Name: Make, dtype: object\n"
     ]
    }
   ],
   "source": [
    "# Filter DataFrame to just show Make col\n",
    "auto_make = df['Make']\n",
    "print(auto_make.head())\n",
    "\n",
    "print()\n",
    "\n",
    "print(df['Make'].head(10))\n"
   ]
  },
  {
   "cell_type": "code",
   "execution_count": 5,
   "id": "a00c2310",
   "metadata": {},
   "outputs": [
    {
     "name": "stdout",
     "output_type": "stream",
     "text": [
      "            Make                Model    Year  Mileage  Miles Per Gallon  \\\n",
      "12          Audi                  RS7  2022.0   9000.0              21.0   \n",
      "14         Tesla        Model S Plaid  2022.0   4000.0             102.0   \n",
      "16       Ferrari            Portofino  2022.0   5000.0              22.0   \n",
      "20  Aston Martin              Vantage  2022.0   6000.0              21.0   \n",
      "25          Audi                   S8  2021.0   9000.0              22.0   \n",
      "27         Tesla        Model X Plaid  2021.0   3000.0              96.0   \n",
      "28       McLaren                   GT  2022.0   6000.0              22.0   \n",
      "35      Maserati                 MC20  2021.0   8000.0              24.0   \n",
      "40         Tesla  Model Y Performance  2022.0   4000.0              91.0   \n",
      "41       McLaren               Artura  2021.0  10000.0              50.0   \n",
      "\n",
      "       engine size Transmission  FuelType     Price  \n",
      "12         4.0L V8    Automatic    Petrol  135000.0  \n",
      "14        Electric    Automatic  Electric  135000.0  \n",
      "16         3.9L V8    Automatic    Petrol  230000.0  \n",
      "20         4.0L V8    Automatic    Petrol  150000.0  \n",
      "25         4.0L V8    Automatic    Petrol  130000.0  \n",
      "27        Electric    Automatic  Electric  140000.0  \n",
      "28         4.0L V8    Automatic    Petrol  210000.0  \n",
      "35         3.0L V6    Automatic    Petrol  210000.0  \n",
      "40        Electric    Automatic  Electric       NaN  \n",
      "41  3.0L V6 Hybrid    Automatic    Hybrid  230000.0  \n"
     ]
    }
   ],
   "source": [
    "# Filter cars with 'Miles Per Gallon' greater than 20\n",
    "mpg_filter = df['Miles Per Gallon'] > 20\n",
    "filtered_df = df[mpg_filter]\n",
    "print(filtered_df.head(10))\n"
   ]
  },
  {
   "cell_type": "code",
   "execution_count": 6,
   "id": "b82f1ba1",
   "metadata": {},
   "outputs": [
    {
     "name": "stdout",
     "output_type": "stream",
     "text": [
      "            Make        Model    Year  Mileage  Miles Per Gallon engine size  \\\n",
      "12          Audi          RS7  2022.0   9000.0              21.0     4.0L V8   \n",
      "16       Ferrari    Portofino  2022.0   5000.0              22.0     3.9L V8   \n",
      "20  Aston Martin      Vantage  2022.0   6000.0              21.0     4.0L V8   \n",
      "25          Audi           S8  2021.0   9000.0              22.0     4.0L V8   \n",
      "28       McLaren           GT  2022.0   6000.0              22.0     4.0L V8   \n",
      "35      Maserati         MC20  2021.0   8000.0              24.0     3.0L V6   \n",
      "59  Aston Martin       Cygnet  2021.0   7000.0              56.0     1.3L I4   \n",
      "65        Jaguar  E-Pace P300  2021.0   6000.0              23.0     2.0L I4   \n",
      "77          Audi    RS6 Avant  2021.0   9000.0              21.0     4.0L V8   \n",
      "\n",
      "   Transmission FuelType     Price  \n",
      "12    Automatic   Petrol  135000.0  \n",
      "16    Automatic   Petrol  230000.0  \n",
      "20    Automatic   Petrol  150000.0  \n",
      "25    Automatic   Petrol  130000.0  \n",
      "28    Automatic   Petrol  210000.0  \n",
      "35    Automatic   Petrol  210000.0  \n",
      "59    Automatic   Petrol   40000.0  \n",
      "65    Automatic   Petrol   55000.0  \n",
      "77    Automatic   Petrol  120000.0  \n"
     ]
    }
   ],
   "source": [
    "# Filter cars with Petrol FuelType, 'Miles Per Gallon' greater than 20\n",
    "filter = ((df['FuelType'] == 'Petrol') & (df['Miles Per Gallon'] > 20))\n",
    "filtered_df = df[filter]\n",
    "print(filtered_df.head(10))\n"
   ]
  },
  {
   "cell_type": "code",
   "execution_count": 7,
   "id": "83cc4855",
   "metadata": {},
   "outputs": [
    {
     "name": "stdout",
     "output_type": "stream",
     "text": [
      "            Make      Model    Year  Mileage  Miles Per Gallon engine size  \\\n",
      "12          Audi        RS7  2022.0   9000.0              21.0     4.0L V8   \n",
      "16       Ferrari  Portofino  2022.0   5000.0              22.0     3.9L V8   \n",
      "20  Aston Martin    Vantage  2022.0   6000.0              21.0     4.0L V8   \n",
      "25          Audi         S8  2021.0   9000.0              22.0     4.0L V8   \n",
      "28       McLaren         GT  2022.0   6000.0              22.0     4.0L V8   \n",
      "\n",
      "   Transmission FuelType     Price  \n",
      "12    Automatic   Petrol  135000.0  \n",
      "16    Automatic   Petrol  230000.0  \n",
      "20    Automatic   Petrol  150000.0  \n",
      "25    Automatic   Petrol  130000.0  \n",
      "28    Automatic   Petrol  210000.0  \n"
     ]
    }
   ],
   "source": [
    "# Filter cars with Petrol FuelType, 'Miles Per Gallon' greater than 20 that are also from the year 2020 or later\n",
    "filter = ((df['FuelType'] == 'Petrol') & (df['Miles Per Gallon'] > 20) & (df['Year'] >= 2020))\n",
    "filtered_df = df[filter]\n",
    "print(filtered_df.head())\n"
   ]
  },
  {
   "cell_type": "code",
   "execution_count": 8,
   "id": "fb3fdb0c",
   "metadata": {},
   "outputs": [
    {
     "name": "stdout",
     "output_type": "stream",
     "text": [
      "        Make      Model    Year  Mileage  Miles Per Gallon engine size  \\\n",
      "16   Ferrari  Portofino  2022.0   5000.0              22.0     3.9L V8   \n",
      "28   McLaren         GT  2022.0   6000.0              22.0     4.0L V8   \n",
      "35  Maserati       MC20  2021.0   8000.0              24.0     3.0L V6   \n",
      "\n",
      "   Transmission FuelType     Price  \n",
      "16    Automatic   Petrol  230000.0  \n",
      "28    Automatic   Petrol  210000.0  \n",
      "35    Automatic   Petrol  210000.0  \n"
     ]
    }
   ],
   "source": [
    "# Filter the filtered_df above for cars that have a price greater than 150,000\n",
    "filter = (filtered_df['Price'] > 150000)\n",
    "filtered_df = filtered_df[filter]\n",
    "print(filtered_df.head())\n"
   ]
  },
  {
   "cell_type": "code",
   "execution_count": null,
   "id": "bcd07dd3-3826-4f1d-9631-ac3b7232e654",
   "metadata": {},
   "outputs": [],
   "source": []
  }
 ],
 "metadata": {
  "kernelspec": {
   "display_name": "Python [conda env:base] *",
   "language": "python",
   "name": "conda-base-py"
  },
  "language_info": {
   "codemirror_mode": {
    "name": "ipython",
    "version": 3
   },
   "file_extension": ".py",
   "mimetype": "text/x-python",
   "name": "python",
   "nbconvert_exporter": "python",
   "pygments_lexer": "ipython3",
   "version": "3.12.7"
  }
 },
 "nbformat": 4,
 "nbformat_minor": 5
}
